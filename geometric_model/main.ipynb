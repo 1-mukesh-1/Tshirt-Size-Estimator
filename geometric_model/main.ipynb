{
 "cells": [
  {
   "cell_type": "code",
   "execution_count": 1,
   "metadata": {},
   "outputs": [],
   "source": [
    "from body_measurement import BodyMeasurement"
   ]
  },
  {
   "cell_type": "code",
   "execution_count": 2,
   "metadata": {},
   "outputs": [],
   "source": [
    "measurement = BodyMeasurement(\n",
    "    image_path=\"../segmentation_testing/test1/2d_models_male/male_0003.png\",\n",
    "    # image_path=\"/Users/mukesh003/Documents/projects/TShirt Size predictor/5330_Final_codes/segmentation_measurements/segmentation_testing/misc_images/kp_pose_2.jpg\",\n",
    "    height=181,\n",
    "    is_silhouette=True,\n",
    "    # is_silhouette=False,\n",
    "    generate_visualizations=True,\n",
    "    generate_measurements=False\n",
    ")"
   ]
  },
  {
   "cell_type": "code",
   "execution_count": 3,
   "metadata": {},
   "outputs": [],
   "source": [
    "measurement = BodyMeasurement(\n",
    "    image_path=\"/Users/mukesh003/Documents/projects/TShirt Size predictor/5330_Final_codes/segmentation_measurements/segmentation_testing/test2/testA/mask/b4baf35bb95b146afdb77b5a4def03e6.png\",\n",
    "    # image_path=\"/Users/mukesh003/Documents/projects/TShirt Size predictor/5330_Final_codes/segmentation_measurements/segmentation_testing/misc_images/kp_pose_2.jpg\",\n",
    "    height=181,\n",
    "    is_silhouette=True,\n",
    "    # is_silhouette=False,\n",
    "    generate_visualizations=True,\n",
    "    generate_measurements=False\n",
    ")"
   ]
  },
  {
   "cell_type": "code",
   "execution_count": 4,
   "metadata": {},
   "outputs": [
    {
     "name": "stderr",
     "output_type": "stream",
     "text": [
      "WARNING: All log messages before absl::InitializeLog() is called are written to STDERR\n",
      "I0000 00:00:1733805861.359828 8847639 gl_context.cc:357] GL version: 2.1 (2.1 Metal - 89.3), renderer: Apple M2\n",
      "INFO: Created TensorFlow Lite XNNPACK delegate for CPU.\n",
      "W0000 00:00:1733805861.524471 8848002 inference_feedback_manager.cc:114] Feedback manager requires a model with a single signature inference. Disabling support for feedback tensors.\n",
      "W0000 00:00:1733805861.626189 8848002 inference_feedback_manager.cc:114] Feedback manager requires a model with a single signature inference. Disabling support for feedback tensors.\n",
      "[ WARN:0@21.729] global loadsave.cpp:241 findDecoder imread_('/Users/mukesh003/Documents/projects/TShirt Size predictor/5330_Final_codes/segmentation_measurements/segmentation_testing/test2/testA/mask/b4baf35bb95b146afdb77b5a4def03e6.png'): can't open/read file: check file path/integrity\n"
     ]
    },
    {
     "ename": "error",
     "evalue": "OpenCV(4.10.0) /Users/runner/work/opencv-python/opencv-python/opencv/modules/imgproc/src/color.cpp:196: error: (-215:Assertion failed) !_src.empty() in function 'cvtColor'\n",
     "output_type": "error",
     "traceback": [
      "\u001b[0;31m---------------------------------------------------------------------------\u001b[0m",
      "\u001b[0;31merror\u001b[0m                                     Traceback (most recent call last)",
      "Cell \u001b[0;32mIn[4], line 1\u001b[0m\n\u001b[0;32m----> 1\u001b[0m results \u001b[38;5;241m=\u001b[39m \u001b[43mmeasurement\u001b[49m\u001b[38;5;241;43m.\u001b[39;49m\u001b[43mexecute\u001b[49m\u001b[43m(\u001b[49m\u001b[43m)\u001b[49m\n",
      "File \u001b[0;32m~/Documents/projects/TShirt Size predictor/5330_Final_codes/segmentation_measurements/geometric_model/body_measurement.py:63\u001b[0m, in \u001b[0;36mBodyMeasurement.execute\u001b[0;34m(self)\u001b[0m\n\u001b[1;32m     61\u001b[0m \u001b[38;5;28;01mdef\u001b[39;00m \u001b[38;5;21mexecute\u001b[39m(\u001b[38;5;28mself\u001b[39m):\n\u001b[1;32m     62\u001b[0m     \u001b[38;5;28mself\u001b[39m\u001b[38;5;241m.\u001b[39m_initialize_models()\n\u001b[0;32m---> 63\u001b[0m     image, width, height \u001b[38;5;241m=\u001b[39m \u001b[38;5;28;43mself\u001b[39;49m\u001b[38;5;241;43m.\u001b[39;49m\u001b[43m_process_image\u001b[49m\u001b[43m(\u001b[49m\u001b[43m)\u001b[49m\n\u001b[1;32m     64\u001b[0m     \u001b[38;5;28mself\u001b[39m\u001b[38;5;241m.\u001b[39m_detect_features(image, width, height)\n\u001b[1;32m     65\u001b[0m     \u001b[38;5;28mself\u001b[39m\u001b[38;5;241m.\u001b[39m_calculate_measurements()\n",
      "File \u001b[0;32m~/Documents/projects/TShirt Size predictor/5330_Final_codes/segmentation_measurements/geometric_model/body_measurement.py:26\u001b[0m, in \u001b[0;36mBodyMeasurement._process_image\u001b[0;34m(self)\u001b[0m\n\u001b[1;32m     24\u001b[0m \u001b[38;5;28;01mif\u001b[39;00m \u001b[38;5;28mself\u001b[39m\u001b[38;5;241m.\u001b[39mis_silhouette:\n\u001b[1;32m     25\u001b[0m     tmp \u001b[38;5;241m=\u001b[39m \u001b[38;5;28mself\u001b[39m\u001b[38;5;241m.\u001b[39mdata[\u001b[38;5;124m'\u001b[39m\u001b[38;5;124mimage\u001b[39m\u001b[38;5;124m'\u001b[39m]\n\u001b[0;32m---> 26\u001b[0m     rgb_image \u001b[38;5;241m=\u001b[39m \u001b[43mcv2\u001b[49m\u001b[38;5;241;43m.\u001b[39;49m\u001b[43mcvtColor\u001b[49m\u001b[43m(\u001b[49m\u001b[43mtmp\u001b[49m\u001b[43m,\u001b[49m\u001b[43m \u001b[49m\u001b[43mcv2\u001b[49m\u001b[38;5;241;43m.\u001b[39;49m\u001b[43mCOLOR_BGR2RGB\u001b[49m\u001b[43m)\u001b[49m\n\u001b[1;32m     27\u001b[0m     \u001b[38;5;28;01mif\u001b[39;00m np\u001b[38;5;241m.\u001b[39mmean(rgb_image) \u001b[38;5;241m<\u001b[39m \u001b[38;5;241m127\u001b[39m: tmp \u001b[38;5;241m=\u001b[39m cv2\u001b[38;5;241m.\u001b[39mbitwise_not(tmp)\n\u001b[1;32m     28\u001b[0m     kernel \u001b[38;5;241m=\u001b[39m np\u001b[38;5;241m.\u001b[39mones((\u001b[38;5;241m5\u001b[39m,\u001b[38;5;241m5\u001b[39m), np\u001b[38;5;241m.\u001b[39muint8)\n",
      "\u001b[0;31merror\u001b[0m: OpenCV(4.10.0) /Users/runner/work/opencv-python/opencv-python/opencv/modules/imgproc/src/color.cpp:196: error: (-215:Assertion failed) !_src.empty() in function 'cvtColor'\n"
     ]
    }
   ],
   "source": [
    "results = measurement.execute()"
   ]
  },
  {
   "cell_type": "code",
   "execution_count": 4,
   "metadata": {},
   "outputs": [
    {
     "data": {
      "text/plain": [
       "{'pixel_measurements': {'shoulder_width': 239.40969069776602,\n",
       "  'torso': 477.1509195212768,\n",
       "  'left_hip_knee': 233.43093196918014,\n",
       "  'right_hip_knee': 241.59884105682295,\n",
       "  'left_knee_ankle': 220.44500447957535,\n",
       "  'right_knee_ankle': 222.05629916757596,\n",
       "  'total_height': 1081.926968707527},\n",
       " 'real_measurements': {'shoulder_width': 40.05182906944408,\n",
       "  'torso': 79.82453430893044,\n",
       "  'left_hip_knee': 39.0516180005151,\n",
       "  'right_hip_knee': 40.41806101157105,\n",
       "  'left_knee_ankle': 36.87914893042036,\n",
       "  'right_knee_ankle': 37.14870902732459,\n",
       "  'total_height': 180.99999999999997}}"
      ]
     },
     "execution_count": 4,
     "metadata": {},
     "output_type": "execute_result"
    }
   ],
   "source": [
    "results"
   ]
  },
  {
   "cell_type": "code",
   "execution_count": null,
   "metadata": {},
   "outputs": [],
   "source": []
  }
 ],
 "metadata": {
  "kernelspec": {
   "display_name": "tshirt-size",
   "language": "python",
   "name": "python3"
  },
  "language_info": {
   "codemirror_mode": {
    "name": "ipython",
    "version": 3
   },
   "file_extension": ".py",
   "mimetype": "text/x-python",
   "name": "python",
   "nbconvert_exporter": "python",
   "pygments_lexer": "ipython3",
   "version": "3.9.20"
  }
 },
 "nbformat": 4,
 "nbformat_minor": 2
}
