{
 "cells": [
  {
   "cell_type": "code",
   "execution_count": 1,
   "metadata": {},
   "outputs": [],
   "source": [
    "import pandas as pd\n",
    "import os\n",
    "import time\n",
    "from body_measurement import BodyMeasurement\n",
    "import json"
   ]
  },
  {
   "cell_type": "code",
   "execution_count": null,
   "metadata": {},
   "outputs": [],
   "source": [
    "def create_measurements_df(image_folder_path, metadata_folder_path):\n",
    "    all_measurements = []\n",
    "    try:\n",
    "        txt_files = [f for f in os.listdir(metadata_folder_path) if f.endswith('.txt')]\n",
    "    except Exception as e:\n",
    "        print(f\"Error reading directory: {e}\")\n",
    "        return pd.DataFrame()\n",
    "\n",
    "    for txt_file in txt_files:\n",
    "        file_path = txt_file\n",
    "        object_name = os.path.splitext(txt_file)[0]\n",
    "        measurements_dict = {\"file_name\": object_name, \"file_path\": file_path}\n",
    "        try:\n",
    "            with open(os.path.join(metadata_folder_path, txt_file), 'r') as f:\n",
    "                for line in f:\n",
    "                    line = line.strip()\n",
    "                    if not line:\n",
    "                        continue\n",
    "                    try:\n",
    "                        if line.startswith(\"OPTION\"):\n",
    "                            parts = line.split('=')\n",
    "                            if len(parts) == 2:\n",
    "                                measurements_dict[\"OPTION_UNITS\"] = parts[1].strip()\n",
    "                        elif line.startswith(\"MEASURE\"):\n",
    "                            parts = line.split('=')\n",
    "                            if len(parts) == 2:\n",
    "                                measurement_name = parts[0].replace('MEASURE ', '').strip()\n",
    "                                measurement_value = parts[1].strip()\n",
    "                                if \"Error\" not in measurement_value:\n",
    "                                    try:\n",
    "                                        measurements_dict[measurement_name] = float(measurement_value)\n",
    "                                    except ValueError:\n",
    "                                        measurements_dict[measurement_name] = None\n",
    "                                else:\n",
    "                                    measurements_dict[measurement_name] = None\n",
    "                    except Exception as e:\n",
    "                        print(f\"Error processing line in file {txt_file}: {line}\")\n",
    "                        continue\n",
    "            image_exists = any(\n",
    "                os.path.exists(os.path.join(image_folder_path, f\"{object_name}.{ext}\"))\n",
    "                for ext in ['jpg', 'jpeg', 'png', 'bmp']\n",
    "            )\n",
    "            if image_exists:\n",
    "                all_measurements.append(measurements_dict)\n",
    "        except Exception as e:\n",
    "            print(f\"Error processing file {txt_file}: {e}\")\n",
    "            continue\n",
    "    if not all_measurements:\n",
    "        print(\"No valid measurements found\")\n",
    "        return pd.DataFrame()\n",
    "    df = pd.DataFrame(all_measurements)\n",
    "    cols = ['file_name', 'OPTION_UNITS'] + [col for col in df.columns if col not in ['file_name', 'OPTION_UNITS']]\n",
    "    df = df[cols]\n",
    "    return df"
   ]
  },
  {
   "cell_type": "code",
   "execution_count": 3,
   "metadata": {},
   "outputs": [],
   "source": [
    "image_folder = \"../segmentation_testing/test1/2d_models_male\"\n",
    "metadata_folder = \"../segmentation_testing/test1/TC2_Male_Txt\"\n",
    "output_dir = f\"./segmentation_testing/iter_testing/iter_{str(int(time.time()))}/\""
   ]
  },
  {
   "cell_type": "code",
   "execution_count": 4,
   "metadata": {},
   "outputs": [],
   "source": [
    "df = create_measurements_df(image_folder, metadata_folder)\n",
    "df = df[[\"file_name\", \"file_path\", \"Shoulder_Width_thruTheBody\", \"Head_Top_Height\"]]\n",
    "df.columns = [\"file_name\", \"file_path\", \"shoulder_width\", \"total_height\"]"
   ]
  },
  {
   "cell_type": "code",
   "execution_count": 6,
   "metadata": {},
   "outputs": [
    {
     "name": "stdout",
     "output_type": "stream",
     "text": [
      "/Users/mukesh003/Documents/projects/TShirt Size predictor/5330_Final_codes/segmentation_measurements/segmentation_testing/test1/2d_models_male/male_0179\n"
     ]
    },
    {
     "name": "stderr",
     "output_type": "stream",
     "text": [
      "WARNING: All log messages before absl::InitializeLog() is called are written to STDERR\n",
      "I0000 00:00:1733615373.400785 7483803 gl_context.cc:357] GL version: 2.1 (2.1 Metal - 89.3), renderer: Apple M2\n",
      "INFO: Created TensorFlow Lite XNNPACK delegate for CPU.\n",
      "W0000 00:00:1733615373.633738 7484436 inference_feedback_manager.cc:114] Feedback manager requires a model with a single signature inference. Disabling support for feedback tensors.\n",
      "W0000 00:00:1733615373.773687 7484436 inference_feedback_manager.cc:114] Feedback manager requires a model with a single signature inference. Disabling support for feedback tensors.\n",
      "W0000 00:00:1733615375.160316 7484436 landmark_projection_calculator.cc:186] Using NORM_RECT without IMAGE_DIMENSIONS is only supported for the square ROI. Provide IMAGE_DIMENSIONS or use PROJECTION_MATRIX.\n"
     ]
    },
    {
     "name": "stdout",
     "output_type": "stream",
     "text": [
      "\n"
     ]
    },
    {
     "name": "stderr",
     "output_type": "stream",
     "text": [
      "/opt/anaconda3/envs/tshirt-size/lib/python3.9/site-packages/tqdm/auto.py:21: TqdmWarning: IProgress not found. Please update jupyter and ipywidgets. See https://ipywidgets.readthedocs.io/en/stable/user_install.html\n",
      "  from .autonotebook import tqdm as notebook_tqdm\n"
     ]
    },
    {
     "name": "stdout",
     "output_type": "stream",
     "text": [
      "0: 640x640 1 person, 5769.5ms\n",
      "Speed: 9.5ms preprocess, 5769.5ms inference, 53.3ms postprocess per image at shape (1, 3, 640, 640)\n",
      "/Users/mukesh003/Documents/projects/TShirt Size predictor/5330_Final_codes/segmentation_measurements/segmentation_testing/test1/2d_models_male/male_0145\n"
     ]
    },
    {
     "name": "stderr",
     "output_type": "stream",
     "text": [
      "I0000 00:00:1733615383.790753 7483803 gl_context.cc:357] GL version: 2.1 (2.1 Metal - 89.3), renderer: Apple M2\n",
      "W0000 00:00:1733615384.006018 7484588 inference_feedback_manager.cc:114] Feedback manager requires a model with a single signature inference. Disabling support for feedback tensors.\n",
      "W0000 00:00:1733615384.172388 7484588 inference_feedback_manager.cc:114] Feedback manager requires a model with a single signature inference. Disabling support for feedback tensors.\n"
     ]
    },
    {
     "name": "stdout",
     "output_type": "stream",
     "text": [
      "\n",
      "0: 640x640 1 person, 7979.2ms\n",
      "Speed: 13.1ms preprocess, 7979.2ms inference, 5.1ms postprocess per image at shape (1, 3, 640, 640)\n",
      "/Users/mukesh003/Documents/projects/TShirt Size predictor/5330_Final_codes/segmentation_measurements/segmentation_testing/test1/2d_models_male/male_0151\n"
     ]
    },
    {
     "name": "stderr",
     "output_type": "stream",
     "text": [
      "I0000 00:00:1733615395.362690 7483803 gl_context.cc:357] GL version: 2.1 (2.1 Metal - 89.3), renderer: Apple M2\n",
      "W0000 00:00:1733615395.623312 7484703 inference_feedback_manager.cc:114] Feedback manager requires a model with a single signature inference. Disabling support for feedback tensors.\n",
      "W0000 00:00:1733615395.758235 7484706 inference_feedback_manager.cc:114] Feedback manager requires a model with a single signature inference. Disabling support for feedback tensors.\n"
     ]
    },
    {
     "name": "stdout",
     "output_type": "stream",
     "text": [
      "\n",
      "0: 640x640 1 person, 8867.8ms\n",
      "Speed: 10.3ms preprocess, 8867.8ms inference, 5.1ms postprocess per image at shape (1, 3, 640, 640)\n",
      "/Users/mukesh003/Documents/projects/TShirt Size predictor/5330_Final_codes/segmentation_measurements/segmentation_testing/test1/2d_models_male/male_0019\n"
     ]
    },
    {
     "name": "stderr",
     "output_type": "stream",
     "text": [
      "I0000 00:00:1733615407.854013 7483803 gl_context.cc:357] GL version: 2.1 (2.1 Metal - 89.3), renderer: Apple M2\n",
      "W0000 00:00:1733615408.108197 7484882 inference_feedback_manager.cc:114] Feedback manager requires a model with a single signature inference. Disabling support for feedback tensors.\n",
      "W0000 00:00:1733615408.274957 7484884 inference_feedback_manager.cc:114] Feedback manager requires a model with a single signature inference. Disabling support for feedback tensors.\n"
     ]
    },
    {
     "name": "stdout",
     "output_type": "stream",
     "text": [
      "\n",
      "0: 640x640 1 person, 8672.3ms\n",
      "Speed: 10.9ms preprocess, 8672.3ms inference, 5.6ms postprocess per image at shape (1, 3, 640, 640)\n",
      "/Users/mukesh003/Documents/projects/TShirt Size predictor/5330_Final_codes/segmentation_measurements/segmentation_testing/test1/2d_models_male/male_0031\n"
     ]
    },
    {
     "name": "stderr",
     "output_type": "stream",
     "text": [
      "I0000 00:00:1733615420.056904 7483803 gl_context.cc:357] GL version: 2.1 (2.1 Metal - 89.3), renderer: Apple M2\n",
      "W0000 00:00:1733615420.281099 7485197 inference_feedback_manager.cc:114] Feedback manager requires a model with a single signature inference. Disabling support for feedback tensors.\n",
      "W0000 00:00:1733615420.419794 7485200 inference_feedback_manager.cc:114] Feedback manager requires a model with a single signature inference. Disabling support for feedback tensors.\n"
     ]
    },
    {
     "name": "stdout",
     "output_type": "stream",
     "text": [
      "\n",
      "0: 640x640 1 person, 8323.7ms\n",
      "Speed: 7.1ms preprocess, 8323.7ms inference, 6.9ms postprocess per image at shape (1, 3, 640, 640)\n",
      "/Users/mukesh003/Documents/projects/TShirt Size predictor/5330_Final_codes/segmentation_measurements/segmentation_testing/test1/2d_models_male/male_0025\n"
     ]
    },
    {
     "name": "stderr",
     "output_type": "stream",
     "text": [
      "I0000 00:00:1733615431.783970 7483803 gl_context.cc:357] GL version: 2.1 (2.1 Metal - 89.3), renderer: Apple M2\n",
      "W0000 00:00:1733615432.043471 7485350 inference_feedback_manager.cc:114] Feedback manager requires a model with a single signature inference. Disabling support for feedback tensors.\n",
      "W0000 00:00:1733615432.200777 7485350 inference_feedback_manager.cc:114] Feedback manager requires a model with a single signature inference. Disabling support for feedback tensors.\n"
     ]
    },
    {
     "name": "stdout",
     "output_type": "stream",
     "text": [
      "\n",
      "0: 640x640 1 person, 8643.0ms\n",
      "Speed: 13.7ms preprocess, 8643.0ms inference, 5.6ms postprocess per image at shape (1, 3, 640, 640)\n",
      "/Users/mukesh003/Documents/projects/TShirt Size predictor/5330_Final_codes/segmentation_measurements/segmentation_testing/test1/2d_models_male/male_0024\n"
     ]
    },
    {
     "name": "stderr",
     "output_type": "stream",
     "text": [
      "I0000 00:00:1733615443.747935 7483803 gl_context.cc:357] GL version: 2.1 (2.1 Metal - 89.3), renderer: Apple M2\n",
      "W0000 00:00:1733615444.002061 7485497 inference_feedback_manager.cc:114] Feedback manager requires a model with a single signature inference. Disabling support for feedback tensors.\n",
      "W0000 00:00:1733615444.227750 7485492 inference_feedback_manager.cc:114] Feedback manager requires a model with a single signature inference. Disabling support for feedback tensors.\n"
     ]
    },
    {
     "name": "stdout",
     "output_type": "stream",
     "text": [
      "\n",
      "0: 640x640 1 person, 8474.3ms\n",
      "Speed: 8.9ms preprocess, 8474.3ms inference, 5.3ms postprocess per image at shape (1, 3, 640, 640)\n",
      "/Users/mukesh003/Documents/projects/TShirt Size predictor/5330_Final_codes/segmentation_measurements/segmentation_testing/test1/2d_models_male/male_0030\n"
     ]
    },
    {
     "name": "stderr",
     "output_type": "stream",
     "text": [
      "I0000 00:00:1733615455.589180 7483803 gl_context.cc:357] GL version: 2.1 (2.1 Metal - 89.3), renderer: Apple M2\n",
      "W0000 00:00:1733615455.813746 7485671 inference_feedback_manager.cc:114] Feedback manager requires a model with a single signature inference. Disabling support for feedback tensors.\n",
      "W0000 00:00:1733615456.032055 7485671 inference_feedback_manager.cc:114] Feedback manager requires a model with a single signature inference. Disabling support for feedback tensors.\n"
     ]
    },
    {
     "name": "stdout",
     "output_type": "stream",
     "text": [
      "\n",
      "0: 640x640 1 person, 9630.7ms\n",
      "Speed: 14.5ms preprocess, 9630.7ms inference, 5.1ms postprocess per image at shape (1, 3, 640, 640)\n",
      "/Users/mukesh003/Documents/projects/TShirt Size predictor/5330_Final_codes/segmentation_measurements/segmentation_testing/test1/2d_models_male/male_0018\n"
     ]
    },
    {
     "name": "stderr",
     "output_type": "stream",
     "text": [
      "I0000 00:00:1733615469.075604 7483803 gl_context.cc:357] GL version: 2.1 (2.1 Metal - 89.3), renderer: Apple M2\n",
      "W0000 00:00:1733615469.309184 7485937 inference_feedback_manager.cc:114] Feedback manager requires a model with a single signature inference. Disabling support for feedback tensors.\n",
      "W0000 00:00:1733615469.505790 7485937 inference_feedback_manager.cc:114] Feedback manager requires a model with a single signature inference. Disabling support for feedback tensors.\n"
     ]
    },
    {
     "name": "stdout",
     "output_type": "stream",
     "text": [
      "\n",
      "0: 640x640 1 person, 8616.3ms\n",
      "Speed: 10.0ms preprocess, 8616.3ms inference, 6.3ms postprocess per image at shape (1, 3, 640, 640)\n",
      "/Users/mukesh003/Documents/projects/TShirt Size predictor/5330_Final_codes/segmentation_measurements/segmentation_testing/test1/2d_models_male/male_0150\n"
     ]
    },
    {
     "name": "stderr",
     "output_type": "stream",
     "text": [
      "I0000 00:00:1733615481.475613 7483803 gl_context.cc:357] GL version: 2.1 (2.1 Metal - 89.3), renderer: Apple M2\n",
      "W0000 00:00:1733615481.678056 7486142 inference_feedback_manager.cc:114] Feedback manager requires a model with a single signature inference. Disabling support for feedback tensors.\n",
      "W0000 00:00:1733615481.874102 7486142 inference_feedback_manager.cc:114] Feedback manager requires a model with a single signature inference. Disabling support for feedback tensors.\n"
     ]
    },
    {
     "name": "stdout",
     "output_type": "stream",
     "text": [
      "\n",
      "0: 640x640 1 person, 8316.9ms\n",
      "Speed: 19.5ms preprocess, 8316.9ms inference, 5.4ms postprocess per image at shape (1, 3, 640, 640)\n",
      "/Users/mukesh003/Documents/projects/TShirt Size predictor/5330_Final_codes/segmentation_measurements/segmentation_testing/test1/2d_models_male/male_0144\n"
     ]
    },
    {
     "name": "stderr",
     "output_type": "stream",
     "text": [
      "I0000 00:00:1733615493.112637 7483803 gl_context.cc:357] GL version: 2.1 (2.1 Metal - 89.3), renderer: Apple M2\n",
      "W0000 00:00:1733615493.327174 7486244 inference_feedback_manager.cc:114] Feedback manager requires a model with a single signature inference. Disabling support for feedback tensors.\n",
      "W0000 00:00:1733615493.492202 7486240 inference_feedback_manager.cc:114] Feedback manager requires a model with a single signature inference. Disabling support for feedback tensors.\n"
     ]
    },
    {
     "name": "stdout",
     "output_type": "stream",
     "text": [
      "\n",
      "0: 640x640 1 person, 8783.3ms\n",
      "Speed: 6.3ms preprocess, 8783.3ms inference, 4.8ms postprocess per image at shape (1, 3, 640, 640)\n",
      "/Users/mukesh003/Documents/projects/TShirt Size predictor/5330_Final_codes/segmentation_measurements/segmentation_testing/test1/2d_models_male/male_0178\n"
     ]
    },
    {
     "name": "stderr",
     "output_type": "stream",
     "text": [
      "I0000 00:00:1733615506.858216 7483803 gl_context.cc:357] GL version: 2.1 (2.1 Metal - 89.3), renderer: Apple M2\n",
      "W0000 00:00:1733615507.094875 7486501 inference_feedback_manager.cc:114] Feedback manager requires a model with a single signature inference. Disabling support for feedback tensors.\n",
      "W0000 00:00:1733615507.281939 7486501 inference_feedback_manager.cc:114] Feedback manager requires a model with a single signature inference. Disabling support for feedback tensors.\n"
     ]
    },
    {
     "name": "stdout",
     "output_type": "stream",
     "text": [
      "\n",
      "0: 640x640 1 person, 12510.1ms\n",
      "Speed: 8.1ms preprocess, 12510.1ms inference, 9.4ms postprocess per image at shape (1, 3, 640, 640)\n",
      "/Users/mukesh003/Documents/projects/TShirt Size predictor/5330_Final_codes/segmentation_measurements/segmentation_testing/test1/2d_models_male/male_0152\n"
     ]
    },
    {
     "name": "stderr",
     "output_type": "stream",
     "text": [
      "I0000 00:00:1733615522.561145 7483803 gl_context.cc:357] GL version: 2.1 (2.1 Metal - 89.3), renderer: Apple M2\n",
      "W0000 00:00:1733615522.783278 7486800 inference_feedback_manager.cc:114] Feedback manager requires a model with a single signature inference. Disabling support for feedback tensors.\n",
      "W0000 00:00:1733615522.944092 7486800 inference_feedback_manager.cc:114] Feedback manager requires a model with a single signature inference. Disabling support for feedback tensors.\n"
     ]
    },
    {
     "name": "stdout",
     "output_type": "stream",
     "text": [
      "\n",
      "0: 640x640 1 person, 9187.9ms\n",
      "Speed: 32.6ms preprocess, 9187.9ms inference, 32.3ms postprocess per image at shape (1, 3, 640, 640)\n",
      "/Users/mukesh003/Documents/projects/TShirt Size predictor/5330_Final_codes/segmentation_measurements/segmentation_testing/test1/2d_models_male/male_0146\n"
     ]
    },
    {
     "name": "stderr",
     "output_type": "stream",
     "text": [
      "I0000 00:00:1733615540.549754 7483803 gl_context.cc:357] GL version: 2.1 (2.1 Metal - 89.3), renderer: Apple M2\n",
      "W0000 00:00:1733615540.856182 7487438 inference_feedback_manager.cc:114] Feedback manager requires a model with a single signature inference. Disabling support for feedback tensors.\n",
      "W0000 00:00:1733615541.359887 7487440 inference_feedback_manager.cc:114] Feedback manager requires a model with a single signature inference. Disabling support for feedback tensors.\n"
     ]
    },
    {
     "name": "stdout",
     "output_type": "stream",
     "text": [
      "\n",
      "0: 640x640 1 person, 11411.7ms\n",
      "Speed: 14.5ms preprocess, 11411.7ms inference, 5.9ms postprocess per image at shape (1, 3, 640, 640)\n",
      "/Users/mukesh003/Documents/projects/TShirt Size predictor/5330_Final_codes/segmentation_measurements/segmentation_testing/test1/2d_models_male/male_0026\n"
     ]
    },
    {
     "name": "stderr",
     "output_type": "stream",
     "text": [
      "I0000 00:00:1733615556.282175 7483803 gl_context.cc:357] GL version: 2.1 (2.1 Metal - 89.3), renderer: Apple M2\n",
      "W0000 00:00:1733615556.643247 7487854 inference_feedback_manager.cc:114] Feedback manager requires a model with a single signature inference. Disabling support for feedback tensors.\n",
      "W0000 00:00:1733615556.950545 7487854 inference_feedback_manager.cc:114] Feedback manager requires a model with a single signature inference. Disabling support for feedback tensors.\n"
     ]
    },
    {
     "name": "stdout",
     "output_type": "stream",
     "text": [
      "\n",
      "0: 640x640 1 person, 8586.8ms\n",
      "Speed: 12.9ms preprocess, 8586.8ms inference, 7.0ms postprocess per image at shape (1, 3, 640, 640)\n",
      "/Users/mukesh003/Documents/projects/TShirt Size predictor/5330_Final_codes/segmentation_measurements/segmentation_testing/test1/2d_models_male/male_0032\n"
     ]
    },
    {
     "name": "stderr",
     "output_type": "stream",
     "text": [
      "I0000 00:00:1733615568.837191 7483803 gl_context.cc:357] GL version: 2.1 (2.1 Metal - 89.3), renderer: Apple M2\n",
      "W0000 00:00:1733615569.056278 7487992 inference_feedback_manager.cc:114] Feedback manager requires a model with a single signature inference. Disabling support for feedback tensors.\n",
      "W0000 00:00:1733615569.216460 7487994 inference_feedback_manager.cc:114] Feedback manager requires a model with a single signature inference. Disabling support for feedback tensors.\n"
     ]
    },
    {
     "name": "stdout",
     "output_type": "stream",
     "text": [
      "\n",
      "0: 640x640 1 person, 9171.0ms\n",
      "Speed: 7.9ms preprocess, 9171.0ms inference, 8.7ms postprocess per image at shape (1, 3, 640, 640)\n",
      "/Users/mukesh003/Documents/projects/TShirt Size predictor/5330_Final_codes/segmentation_measurements/segmentation_testing/test1/2d_models_male/male_0033\n"
     ]
    },
    {
     "name": "stderr",
     "output_type": "stream",
     "text": [
      "I0000 00:00:1733615580.965242 7483803 gl_context.cc:357] GL version: 2.1 (2.1 Metal - 89.3), renderer: Apple M2\n",
      "W0000 00:00:1733615581.171303 7488134 inference_feedback_manager.cc:114] Feedback manager requires a model with a single signature inference. Disabling support for feedback tensors.\n",
      "W0000 00:00:1733615581.329492 7488133 inference_feedback_manager.cc:114] Feedback manager requires a model with a single signature inference. Disabling support for feedback tensors.\n"
     ]
    },
    {
     "name": "stdout",
     "output_type": "stream",
     "text": [
      "\n",
      "0: 640x640 1 person, 8388.8ms\n",
      "Speed: 20.5ms preprocess, 8388.8ms inference, 5.5ms postprocess per image at shape (1, 3, 640, 640)\n",
      "/Users/mukesh003/Documents/projects/TShirt Size predictor/5330_Final_codes/segmentation_measurements/segmentation_testing/test1/2d_models_male/male_0027\n"
     ]
    },
    {
     "name": "stderr",
     "output_type": "stream",
     "text": [
      "I0000 00:00:1733615592.834522 7483803 gl_context.cc:357] GL version: 2.1 (2.1 Metal - 89.3), renderer: Apple M2\n",
      "W0000 00:00:1733615593.075856 7488233 inference_feedback_manager.cc:114] Feedback manager requires a model with a single signature inference. Disabling support for feedback tensors.\n",
      "W0000 00:00:1733615593.306576 7488239 inference_feedback_manager.cc:114] Feedback manager requires a model with a single signature inference. Disabling support for feedback tensors.\n"
     ]
    },
    {
     "name": "stdout",
     "output_type": "stream",
     "text": [
      "\n",
      "0: 640x640 1 person, 8425.0ms\n",
      "Speed: 8.8ms preprocess, 8425.0ms inference, 5.5ms postprocess per image at shape (1, 3, 640, 640)\n",
      "/Users/mukesh003/Documents/projects/TShirt Size predictor/5330_Final_codes/segmentation_measurements/segmentation_testing/test1/2d_models_male/male_0147\n"
     ]
    },
    {
     "name": "stderr",
     "output_type": "stream",
     "text": [
      "I0000 00:00:1733615604.904934 7483803 gl_context.cc:357] GL version: 2.1 (2.1 Metal - 89.3), renderer: Apple M2\n",
      "W0000 00:00:1733615605.141472 7488302 inference_feedback_manager.cc:114] Feedback manager requires a model with a single signature inference. Disabling support for feedback tensors.\n",
      "W0000 00:00:1733615605.373871 7488308 inference_feedback_manager.cc:114] Feedback manager requires a model with a single signature inference. Disabling support for feedback tensors.\n"
     ]
    },
    {
     "name": "stdout",
     "output_type": "stream",
     "text": [
      "\n",
      "0: 640x640 1 person, 7810.4ms\n",
      "Speed: 21.9ms preprocess, 7810.4ms inference, 6.6ms postprocess per image at shape (1, 3, 640, 640)\n",
      "/Users/mukesh003/Documents/projects/TShirt Size predictor/5330_Final_codes/segmentation_measurements/segmentation_testing/test1/2d_models_male/male_0153\n"
     ]
    },
    {
     "name": "stderr",
     "output_type": "stream",
     "text": [
      "I0000 00:00:1733615615.753429 7483803 gl_context.cc:357] GL version: 2.1 (2.1 Metal - 89.3), renderer: Apple M2\n",
      "W0000 00:00:1733615615.977181 7488406 inference_feedback_manager.cc:114] Feedback manager requires a model with a single signature inference. Disabling support for feedback tensors.\n",
      "W0000 00:00:1733615616.117770 7488412 inference_feedback_manager.cc:114] Feedback manager requires a model with a single signature inference. Disabling support for feedback tensors.\n"
     ]
    },
    {
     "name": "stdout",
     "output_type": "stream",
     "text": [
      "\n",
      "0: 640x640 1 person, 8107.6ms\n",
      "Speed: 9.9ms preprocess, 8107.6ms inference, 5.8ms postprocess per image at shape (1, 3, 640, 640)\n",
      "/Users/mukesh003/Documents/projects/TShirt Size predictor/5330_Final_codes/segmentation_measurements/segmentation_testing/test1/2d_models_male/male_0157\n"
     ]
    },
    {
     "name": "stderr",
     "output_type": "stream",
     "text": [
      "I0000 00:00:1733615627.299253 7483803 gl_context.cc:357] GL version: 2.1 (2.1 Metal - 89.3), renderer: Apple M2\n",
      "W0000 00:00:1733615627.519357 7488486 inference_feedback_manager.cc:114] Feedback manager requires a model with a single signature inference. Disabling support for feedback tensors.\n",
      "W0000 00:00:1733615627.627013 7488491 inference_feedback_manager.cc:114] Feedback manager requires a model with a single signature inference. Disabling support for feedback tensors.\n"
     ]
    },
    {
     "name": "stdout",
     "output_type": "stream",
     "text": [
      "\n",
      "0: 640x640 1 person, 8159.8ms\n",
      "Speed: 6.3ms preprocess, 8159.8ms inference, 4.8ms postprocess per image at shape (1, 3, 640, 640)\n",
      "/Users/mukesh003/Documents/projects/TShirt Size predictor/5330_Final_codes/segmentation_measurements/segmentation_testing/test1/2d_models_male/male_0143\n"
     ]
    },
    {
     "name": "stderr",
     "output_type": "stream",
     "text": [
      "I0000 00:00:1733615639.750881 7483803 gl_context.cc:357] GL version: 2.1 (2.1 Metal - 89.3), renderer: Apple M2\n",
      "W0000 00:00:1733615639.990878 7488544 inference_feedback_manager.cc:114] Feedback manager requires a model with a single signature inference. Disabling support for feedback tensors.\n",
      "W0000 00:00:1733615640.194075 7488544 inference_feedback_manager.cc:114] Feedback manager requires a model with a single signature inference. Disabling support for feedback tensors.\n"
     ]
    },
    {
     "name": "stdout",
     "output_type": "stream",
     "text": [
      "\n",
      "0: 640x640 1 person, 7861.3ms\n",
      "Speed: 9.9ms preprocess, 7861.3ms inference, 6.4ms postprocess per image at shape (1, 3, 640, 640)\n",
      "/Users/mukesh003/Documents/projects/TShirt Size predictor/5330_Final_codes/segmentation_measurements/segmentation_testing/test1/2d_models_male/male_0023\n"
     ]
    },
    {
     "name": "stderr",
     "output_type": "stream",
     "text": [
      "I0000 00:00:1733615650.693752 7483803 gl_context.cc:357] GL version: 2.1 (2.1 Metal - 89.3), renderer: Apple M2\n",
      "W0000 00:00:1733615650.918501 7488691 inference_feedback_manager.cc:114] Feedback manager requires a model with a single signature inference. Disabling support for feedback tensors.\n",
      "W0000 00:00:1733615651.045648 7488691 inference_feedback_manager.cc:114] Feedback manager requires a model with a single signature inference. Disabling support for feedback tensors.\n"
     ]
    },
    {
     "name": "stdout",
     "output_type": "stream",
     "text": [
      "\n",
      "0: 640x640 1 person, 8270.8ms\n",
      "Speed: 21.7ms preprocess, 8270.8ms inference, 5.8ms postprocess per image at shape (1, 3, 640, 640)\n",
      "/Users/mukesh003/Documents/projects/TShirt Size predictor/5330_Final_codes/segmentation_measurements/segmentation_testing/test1/2d_models_male/male_0037\n"
     ]
    },
    {
     "name": "stderr",
     "output_type": "stream",
     "text": [
      "I0000 00:00:1733615662.850067 7483803 gl_context.cc:357] GL version: 2.1 (2.1 Metal - 89.3), renderer: Apple M2\n",
      "W0000 00:00:1733615663.057910 7488790 inference_feedback_manager.cc:114] Feedback manager requires a model with a single signature inference. Disabling support for feedback tensors.\n",
      "W0000 00:00:1733615663.200484 7488793 inference_feedback_manager.cc:114] Feedback manager requires a model with a single signature inference. Disabling support for feedback tensors.\n"
     ]
    },
    {
     "name": "stdout",
     "output_type": "stream",
     "text": [
      "\n",
      "0: 640x640 1 person, 7948.2ms\n",
      "Speed: 14.6ms preprocess, 7948.2ms inference, 6.1ms postprocess per image at shape (1, 3, 640, 640)\n",
      "/Users/mukesh003/Documents/projects/TShirt Size predictor/5330_Final_codes/segmentation_measurements/segmentation_testing/test1/2d_models_male/male_0036\n"
     ]
    },
    {
     "name": "stderr",
     "output_type": "stream",
     "text": [
      "I0000 00:00:1733615674.152570 7483803 gl_context.cc:357] GL version: 2.1 (2.1 Metal - 89.3), renderer: Apple M2\n",
      "W0000 00:00:1733615674.381155 7488908 inference_feedback_manager.cc:114] Feedback manager requires a model with a single signature inference. Disabling support for feedback tensors.\n",
      "W0000 00:00:1733615674.521090 7488908 inference_feedback_manager.cc:114] Feedback manager requires a model with a single signature inference. Disabling support for feedback tensors.\n"
     ]
    },
    {
     "name": "stdout",
     "output_type": "stream",
     "text": [
      "\n",
      "0: 640x640 1 person, 8399.6ms\n",
      "Speed: 37.3ms preprocess, 8399.6ms inference, 5.4ms postprocess per image at shape (1, 3, 640, 640)\n",
      "/Users/mukesh003/Documents/projects/TShirt Size predictor/5330_Final_codes/segmentation_measurements/segmentation_testing/test1/2d_models_male/male_0022\n"
     ]
    },
    {
     "name": "stderr",
     "output_type": "stream",
     "text": [
      "I0000 00:00:1733615686.261469 7483803 gl_context.cc:357] GL version: 2.1 (2.1 Metal - 89.3), renderer: Apple M2\n",
      "W0000 00:00:1733615686.478481 7488975 inference_feedback_manager.cc:114] Feedback manager requires a model with a single signature inference. Disabling support for feedback tensors.\n",
      "W0000 00:00:1733615686.670259 7488975 inference_feedback_manager.cc:114] Feedback manager requires a model with a single signature inference. Disabling support for feedback tensors.\n"
     ]
    },
    {
     "name": "stdout",
     "output_type": "stream",
     "text": [
      "\n",
      "0: 640x640 1 person, 8289.0ms\n",
      "Speed: 11.2ms preprocess, 8289.0ms inference, 5.1ms postprocess per image at shape (1, 3, 640, 640)\n",
      "/Users/mukesh003/Documents/projects/TShirt Size predictor/5330_Final_codes/segmentation_measurements/segmentation_testing/test1/2d_models_male/male_0142\n"
     ]
    },
    {
     "name": "stderr",
     "output_type": "stream",
     "text": [
      "I0000 00:00:1733615698.217595 7483803 gl_context.cc:357] GL version: 2.1 (2.1 Metal - 89.3), renderer: Apple M2\n",
      "W0000 00:00:1733615698.431267 7489064 inference_feedback_manager.cc:114] Feedback manager requires a model with a single signature inference. Disabling support for feedback tensors.\n",
      "W0000 00:00:1733615698.684099 7489063 inference_feedback_manager.cc:114] Feedback manager requires a model with a single signature inference. Disabling support for feedback tensors.\n"
     ]
    },
    {
     "name": "stdout",
     "output_type": "stream",
     "text": [
      "\n",
      "0: 640x640 1 person, 8231.9ms\n",
      "Speed: 7.6ms preprocess, 8231.9ms inference, 5.8ms postprocess per image at shape (1, 3, 640, 640)\n",
      "/Users/mukesh003/Documents/projects/TShirt Size predictor/5330_Final_codes/segmentation_measurements/segmentation_testing/test1/2d_models_male/male_0156\n"
     ]
    },
    {
     "name": "stderr",
     "output_type": "stream",
     "text": [
      "I0000 00:00:1733615709.876134 7483803 gl_context.cc:357] GL version: 2.1 (2.1 Metal - 89.3), renderer: Apple M2\n",
      "W0000 00:00:1733615710.115652 7489139 inference_feedback_manager.cc:114] Feedback manager requires a model with a single signature inference. Disabling support for feedback tensors.\n",
      "W0000 00:00:1733615710.337929 7489140 inference_feedback_manager.cc:114] Feedback manager requires a model with a single signature inference. Disabling support for feedback tensors.\n"
     ]
    },
    {
     "name": "stdout",
     "output_type": "stream",
     "text": [
      "\n",
      "0: 640x640 1 person, 8278.8ms\n",
      "Speed: 11.7ms preprocess, 8278.8ms inference, 5.6ms postprocess per image at shape (1, 3, 640, 640)\n",
      "/Users/mukesh003/Documents/projects/TShirt Size predictor/5330_Final_codes/segmentation_measurements/segmentation_testing/test1/2d_models_male/male_0140\n"
     ]
    },
    {
     "name": "stderr",
     "output_type": "stream",
     "text": [
      "I0000 00:00:1733615721.601021 7483803 gl_context.cc:357] GL version: 2.1 (2.1 Metal - 89.3), renderer: Apple M2\n",
      "W0000 00:00:1733615721.815965 7489240 inference_feedback_manager.cc:114] Feedback manager requires a model with a single signature inference. Disabling support for feedback tensors.\n",
      "W0000 00:00:1733615721.919321 7489240 inference_feedback_manager.cc:114] Feedback manager requires a model with a single signature inference. Disabling support for feedback tensors.\n"
     ]
    },
    {
     "name": "stdout",
     "output_type": "stream",
     "text": [
      "\n",
      "0: 640x640 1 person, 8454.0ms\n",
      "Speed: 7.0ms preprocess, 8454.0ms inference, 6.3ms postprocess per image at shape (1, 3, 640, 640)\n",
      "/Users/mukesh003/Documents/projects/TShirt Size predictor/5330_Final_codes/segmentation_measurements/segmentation_testing/test1/2d_models_male/male_0154\n"
     ]
    },
    {
     "name": "stderr",
     "output_type": "stream",
     "text": [
      "I0000 00:00:1733615733.831079 7483803 gl_context.cc:357] GL version: 2.1 (2.1 Metal - 89.3), renderer: Apple M2\n",
      "W0000 00:00:1733615734.157775 7489329 inference_feedback_manager.cc:114] Feedback manager requires a model with a single signature inference. Disabling support for feedback tensors.\n",
      "W0000 00:00:1733615734.621058 7489331 inference_feedback_manager.cc:114] Feedback manager requires a model with a single signature inference. Disabling support for feedback tensors.\n"
     ]
    },
    {
     "name": "stdout",
     "output_type": "stream",
     "text": [
      "\n",
      "0: 640x640 1 person, 8320.9ms\n",
      "Speed: 9.9ms preprocess, 8320.9ms inference, 5.1ms postprocess per image at shape (1, 3, 640, 640)\n",
      "/Users/mukesh003/Documents/projects/TShirt Size predictor/5330_Final_codes/segmentation_measurements/segmentation_testing/test1/2d_models_male/male_0168\n"
     ]
    },
    {
     "name": "stderr",
     "output_type": "stream",
     "text": [
      "I0000 00:00:1733615747.082921 7483803 gl_context.cc:357] GL version: 2.1 (2.1 Metal - 89.3), renderer: Apple M2\n",
      "W0000 00:00:1733615747.306652 7489574 inference_feedback_manager.cc:114] Feedback manager requires a model with a single signature inference. Disabling support for feedback tensors.\n",
      "W0000 00:00:1733615747.468064 7489574 inference_feedback_manager.cc:114] Feedback manager requires a model with a single signature inference. Disabling support for feedback tensors.\n"
     ]
    },
    {
     "name": "stdout",
     "output_type": "stream",
     "text": [
      "\n",
      "0: 640x640 1 person, 8619.6ms\n",
      "Speed: 22.3ms preprocess, 8619.6ms inference, 6.6ms postprocess per image at shape (1, 3, 640, 640)\n",
      "/Users/mukesh003/Documents/projects/TShirt Size predictor/5330_Final_codes/segmentation_measurements/segmentation_testing/test1/2d_models_male/male_0034\n"
     ]
    },
    {
     "name": "stderr",
     "output_type": "stream",
     "text": [
      "I0000 00:00:1733615759.459298 7483803 gl_context.cc:357] GL version: 2.1 (2.1 Metal - 89.3), renderer: Apple M2\n",
      "W0000 00:00:1733615759.690872 7489713 inference_feedback_manager.cc:114] Feedback manager requires a model with a single signature inference. Disabling support for feedback tensors.\n",
      "W0000 00:00:1733615759.872004 7489713 inference_feedback_manager.cc:114] Feedback manager requires a model with a single signature inference. Disabling support for feedback tensors.\n"
     ]
    },
    {
     "name": "stdout",
     "output_type": "stream",
     "text": [
      "\n",
      "0: 640x640 1 person, 8898.2ms\n",
      "Speed: 20.5ms preprocess, 8898.2ms inference, 6.0ms postprocess per image at shape (1, 3, 640, 640)\n",
      "/Users/mukesh003/Documents/projects/TShirt Size predictor/5330_Final_codes/segmentation_measurements/segmentation_testing/test1/2d_models_male/male_0020\n"
     ]
    },
    {
     "name": "stderr",
     "output_type": "stream",
     "text": [
      "I0000 00:00:1733615772.097532 7483803 gl_context.cc:357] GL version: 2.1 (2.1 Metal - 89.3), renderer: Apple M2\n",
      "W0000 00:00:1733615772.367885 7489840 inference_feedback_manager.cc:114] Feedback manager requires a model with a single signature inference. Disabling support for feedback tensors.\n",
      "W0000 00:00:1733615772.559765 7489840 inference_feedback_manager.cc:114] Feedback manager requires a model with a single signature inference. Disabling support for feedback tensors.\n"
     ]
    },
    {
     "name": "stdout",
     "output_type": "stream",
     "text": [
      "\n",
      "0: 640x640 1 person, 9139.7ms\n",
      "Speed: 14.2ms preprocess, 9139.7ms inference, 5.6ms postprocess per image at shape (1, 3, 640, 640)\n",
      "/Users/mukesh003/Documents/projects/TShirt Size predictor/5330_Final_codes/segmentation_measurements/segmentation_testing/test1/2d_models_male/male_0008\n"
     ]
    },
    {
     "name": "stderr",
     "output_type": "stream",
     "text": [
      "Context leak detected, msgtracer returned -1\n",
      "I0000 00:00:1733615784.782014 7483803 gl_context.cc:357] GL version: 2.1 (2.1 Metal - 89.3), renderer: Apple M2\n",
      "W0000 00:00:1733615784.978629 7489916 inference_feedback_manager.cc:114] Feedback manager requires a model with a single signature inference. Disabling support for feedback tensors.\n",
      "W0000 00:00:1733615785.112034 7489916 inference_feedback_manager.cc:114] Feedback manager requires a model with a single signature inference. Disabling support for feedback tensors.\n"
     ]
    },
    {
     "name": "stdout",
     "output_type": "stream",
     "text": [
      "\n",
      "0: 640x640 1 person, 8327.1ms\n",
      "Speed: 11.8ms preprocess, 8327.1ms inference, 5.1ms postprocess per image at shape (1, 3, 640, 640)\n",
      "/Users/mukesh003/Documents/projects/TShirt Size predictor/5330_Final_codes/segmentation_measurements/segmentation_testing/test1/2d_models_male/male_0009\n"
     ]
    },
    {
     "name": "stderr",
     "output_type": "stream",
     "text": [
      "I0000 00:00:1733615796.333780 7483803 gl_context.cc:357] GL version: 2.1 (2.1 Metal - 89.3), renderer: Apple M2\n",
      "W0000 00:00:1733615796.568880 7490025 inference_feedback_manager.cc:114] Feedback manager requires a model with a single signature inference. Disabling support for feedback tensors.\n",
      "W0000 00:00:1733615796.747146 7490030 inference_feedback_manager.cc:114] Feedback manager requires a model with a single signature inference. Disabling support for feedback tensors.\n"
     ]
    },
    {
     "name": "stdout",
     "output_type": "stream",
     "text": [
      "\n",
      "0: 640x640 1 person, 7969.5ms\n",
      "Speed: 4.1ms preprocess, 7969.5ms inference, 5.3ms postprocess per image at shape (1, 3, 640, 640)\n",
      "/Users/mukesh003/Documents/projects/TShirt Size predictor/5330_Final_codes/segmentation_measurements/segmentation_testing/test1/2d_models_male/male_0021\n"
     ]
    },
    {
     "name": "stderr",
     "output_type": "stream",
     "text": [
      "I0000 00:00:1733615808.000672 7483803 gl_context.cc:357] GL version: 2.1 (2.1 Metal - 89.3), renderer: Apple M2\n",
      "W0000 00:00:1733615808.234526 7490162 inference_feedback_manager.cc:114] Feedback manager requires a model with a single signature inference. Disabling support for feedback tensors.\n",
      "W0000 00:00:1733615808.413677 7490162 inference_feedback_manager.cc:114] Feedback manager requires a model with a single signature inference. Disabling support for feedback tensors.\n"
     ]
    },
    {
     "name": "stdout",
     "output_type": "stream",
     "text": [
      "\n",
      "0: 640x640 1 person, 8500.9ms\n",
      "Speed: 6.4ms preprocess, 8500.9ms inference, 5.1ms postprocess per image at shape (1, 3, 640, 640)\n",
      "/Users/mukesh003/Documents/projects/TShirt Size predictor/5330_Final_codes/segmentation_measurements/segmentation_testing/test1/2d_models_male/male_0035\n"
     ]
    },
    {
     "name": "stderr",
     "output_type": "stream",
     "text": [
      "I0000 00:00:1733615820.221628 7483803 gl_context.cc:357] GL version: 2.1 (2.1 Metal - 89.3), renderer: Apple M2\n",
      "W0000 00:00:1733615820.455176 7490269 inference_feedback_manager.cc:114] Feedback manager requires a model with a single signature inference. Disabling support for feedback tensors.\n",
      "W0000 00:00:1733615820.578338 7490275 inference_feedback_manager.cc:114] Feedback manager requires a model with a single signature inference. Disabling support for feedback tensors.\n"
     ]
    },
    {
     "name": "stdout",
     "output_type": "stream",
     "text": [
      "\n",
      "0: 640x640 1 person, 8320.2ms\n",
      "Speed: 5.5ms preprocess, 8320.2ms inference, 5.6ms postprocess per image at shape (1, 3, 640, 640)\n",
      "/Users/mukesh003/Documents/projects/TShirt Size predictor/5330_Final_codes/segmentation_measurements/segmentation_testing/test1/2d_models_male/male_0169\n"
     ]
    },
    {
     "name": "stderr",
     "output_type": "stream",
     "text": [
      "I0000 00:00:1733615832.875390 7483803 gl_context.cc:357] GL version: 2.1 (2.1 Metal - 89.3), renderer: Apple M2\n",
      "W0000 00:00:1733615833.145908 7490373 inference_feedback_manager.cc:114] Feedback manager requires a model with a single signature inference. Disabling support for feedback tensors.\n",
      "W0000 00:00:1733615833.316684 7490377 inference_feedback_manager.cc:114] Feedback manager requires a model with a single signature inference. Disabling support for feedback tensors.\n"
     ]
    },
    {
     "name": "stdout",
     "output_type": "stream",
     "text": [
      "\n",
      "0: 640x640 1 person, 8441.5ms\n",
      "Speed: 9.8ms preprocess, 8441.5ms inference, 4.5ms postprocess per image at shape (1, 3, 640, 640)\n",
      "/Users/mukesh003/Documents/projects/TShirt Size predictor/5330_Final_codes/segmentation_measurements/segmentation_testing/test1/2d_models_male/male_0155\n"
     ]
    },
    {
     "name": "stderr",
     "output_type": "stream",
     "text": [
      "I0000 00:00:1733615844.548753 7483803 gl_context.cc:357] GL version: 2.1 (2.1 Metal - 89.3), renderer: Apple M2\n",
      "W0000 00:00:1733615844.782524 7490431 inference_feedback_manager.cc:114] Feedback manager requires a model with a single signature inference. Disabling support for feedback tensors.\n",
      "W0000 00:00:1733615845.015812 7490433 inference_feedback_manager.cc:114] Feedback manager requires a model with a single signature inference. Disabling support for feedback tensors.\n"
     ]
    },
    {
     "name": "stdout",
     "output_type": "stream",
     "text": [
      "\n",
      "0: 640x640 1 person, 8321.2ms\n",
      "Speed: 10.2ms preprocess, 8321.2ms inference, 6.2ms postprocess per image at shape (1, 3, 640, 640)\n",
      "/Users/mukesh003/Documents/projects/TShirt Size predictor/5330_Final_codes/segmentation_measurements/segmentation_testing/test1/2d_models_male/male_0141\n"
     ]
    },
    {
     "name": "stderr",
     "output_type": "stream",
     "text": [
      "I0000 00:00:1733615856.139514 7483803 gl_context.cc:357] GL version: 2.1 (2.1 Metal - 89.3), renderer: Apple M2\n",
      "W0000 00:00:1733615856.360143 7490511 inference_feedback_manager.cc:114] Feedback manager requires a model with a single signature inference. Disabling support for feedback tensors.\n",
      "W0000 00:00:1733615856.519747 7490513 inference_feedback_manager.cc:114] Feedback manager requires a model with a single signature inference. Disabling support for feedback tensors.\n"
     ]
    },
    {
     "name": "stdout",
     "output_type": "stream",
     "text": [
      "\n",
      "0: 640x640 1 person, 8331.5ms\n",
      "Speed: 10.2ms preprocess, 8331.5ms inference, 8.4ms postprocess per image at shape (1, 3, 640, 640)\n",
      "/Users/mukesh003/Documents/projects/TShirt Size predictor/5330_Final_codes/segmentation_measurements/segmentation_testing/test1/2d_models_male/male_0126\n"
     ]
    },
    {
     "name": "stderr",
     "output_type": "stream",
     "text": [
      "I0000 00:00:1733615867.729540 7483803 gl_context.cc:357] GL version: 2.1 (2.1 Metal - 89.3), renderer: Apple M2\n",
      "W0000 00:00:1733615867.961135 7490589 inference_feedback_manager.cc:114] Feedback manager requires a model with a single signature inference. Disabling support for feedback tensors.\n",
      "W0000 00:00:1733615868.170834 7490587 inference_feedback_manager.cc:114] Feedback manager requires a model with a single signature inference. Disabling support for feedback tensors.\n"
     ]
    },
    {
     "name": "stdout",
     "output_type": "stream",
     "text": [
      "\n",
      "0: 640x640 1 person, 8292.0ms\n",
      "Speed: 14.4ms preprocess, 8292.0ms inference, 5.0ms postprocess per image at shape (1, 3, 640, 640)\n",
      "/Users/mukesh003/Documents/projects/TShirt Size predictor/5330_Final_codes/segmentation_measurements/segmentation_testing/test1/2d_models_male/male_0132\n"
     ]
    },
    {
     "name": "stderr",
     "output_type": "stream",
     "text": [
      "I0000 00:00:1733615879.494695 7483803 gl_context.cc:357] GL version: 2.1 (2.1 Metal - 89.3), renderer: Apple M2\n",
      "W0000 00:00:1733615879.743341 7490649 inference_feedback_manager.cc:114] Feedback manager requires a model with a single signature inference. Disabling support for feedback tensors.\n",
      "W0000 00:00:1733615880.161145 7490649 inference_feedback_manager.cc:114] Feedback manager requires a model with a single signature inference. Disabling support for feedback tensors.\n"
     ]
    },
    {
     "name": "stdout",
     "output_type": "stream",
     "text": [
      "\n",
      "0: 640x640 1 person, 8345.6ms\n",
      "Speed: 23.7ms preprocess, 8345.6ms inference, 5.9ms postprocess per image at shape (1, 3, 640, 640)\n",
      "/Users/mukesh003/Documents/projects/TShirt Size predictor/5330_Final_codes/segmentation_measurements/segmentation_testing/test1/2d_models_male/male_0052\n"
     ]
    },
    {
     "name": "stderr",
     "output_type": "stream",
     "text": [
      "I0000 00:00:1733615891.809034 7483803 gl_context.cc:357] GL version: 2.1 (2.1 Metal - 89.3), renderer: Apple M2\n",
      "W0000 00:00:1733615892.025627 7490730 inference_feedback_manager.cc:114] Feedback manager requires a model with a single signature inference. Disabling support for feedback tensors.\n",
      "W0000 00:00:1733615892.252150 7490736 inference_feedback_manager.cc:114] Feedback manager requires a model with a single signature inference. Disabling support for feedback tensors.\n"
     ]
    },
    {
     "name": "stdout",
     "output_type": "stream",
     "text": [
      "\n",
      "0: 640x640 1 person, 7796.6ms\n",
      "Speed: 10.2ms preprocess, 7796.6ms inference, 5.5ms postprocess per image at shape (1, 3, 640, 640)\n",
      "/Users/mukesh003/Documents/projects/TShirt Size predictor/5330_Final_codes/segmentation_measurements/segmentation_testing/test1/2d_models_male/male_0046\n"
     ]
    },
    {
     "name": "stderr",
     "output_type": "stream",
     "text": [
      "I0000 00:00:1733615903.184098 7483803 gl_context.cc:357] GL version: 2.1 (2.1 Metal - 89.3), renderer: Apple M2\n",
      "W0000 00:00:1733615903.413725 7490853 inference_feedback_manager.cc:114] Feedback manager requires a model with a single signature inference. Disabling support for feedback tensors.\n",
      "W0000 00:00:1733615903.545656 7490858 inference_feedback_manager.cc:114] Feedback manager requires a model with a single signature inference. Disabling support for feedback tensors.\n"
     ]
    },
    {
     "name": "stdout",
     "output_type": "stream",
     "text": [
      "\n",
      "0: 640x640 1 person, 8414.7ms\n",
      "Speed: 9.8ms preprocess, 8414.7ms inference, 5.9ms postprocess per image at shape (1, 3, 640, 640)\n",
      "/Users/mukesh003/Documents/projects/TShirt Size predictor/5330_Final_codes/segmentation_measurements/segmentation_testing/test1/2d_models_male/male_0091\n"
     ]
    },
    {
     "name": "stderr",
     "output_type": "stream",
     "text": [
      "I0000 00:00:1733615915.213757 7483803 gl_context.cc:357] GL version: 2.1 (2.1 Metal - 89.3), renderer: Apple M2\n",
      "W0000 00:00:1733615915.427454 7490937 inference_feedback_manager.cc:114] Feedback manager requires a model with a single signature inference. Disabling support for feedback tensors.\n",
      "W0000 00:00:1733615915.533554 7490941 inference_feedback_manager.cc:114] Feedback manager requires a model with a single signature inference. Disabling support for feedback tensors.\n"
     ]
    },
    {
     "name": "stdout",
     "output_type": "stream",
     "text": [
      "\n",
      "0: 640x640 1 person, 7779.5ms\n",
      "Speed: 15.0ms preprocess, 7779.5ms inference, 5.5ms postprocess per image at shape (1, 3, 640, 640)\n",
      "/Users/mukesh003/Documents/projects/TShirt Size predictor/5330_Final_codes/segmentation_measurements/segmentation_testing/test1/2d_models_male/male_0085\n"
     ]
    },
    {
     "name": "stderr",
     "output_type": "stream",
     "text": [
      "I0000 00:00:1733615927.260186 7483803 gl_context.cc:357] GL version: 2.1 (2.1 Metal - 89.3), renderer: Apple M2\n",
      "W0000 00:00:1733615927.539761 7491026 inference_feedback_manager.cc:114] Feedback manager requires a model with a single signature inference. Disabling support for feedback tensors.\n",
      "W0000 00:00:1733615927.705214 7491027 inference_feedback_manager.cc:114] Feedback manager requires a model with a single signature inference. Disabling support for feedback tensors.\n"
     ]
    },
    {
     "name": "stdout",
     "output_type": "stream",
     "text": [
      "\n",
      "0: 640x640 1 person, 8340.9ms\n",
      "Speed: 21.1ms preprocess, 8340.9ms inference, 6.7ms postprocess per image at shape (1, 3, 640, 640)\n",
      "/Users/mukesh003/Documents/projects/TShirt Size predictor/5330_Final_codes/segmentation_measurements/segmentation_testing/test1/2d_models_male/male_0084\n"
     ]
    },
    {
     "name": "stderr",
     "output_type": "stream",
     "text": [
      "I0000 00:00:1733615939.432367 7483803 gl_context.cc:357] GL version: 2.1 (2.1 Metal - 89.3), renderer: Apple M2\n",
      "W0000 00:00:1733615939.666506 7491091 inference_feedback_manager.cc:114] Feedback manager requires a model with a single signature inference. Disabling support for feedback tensors.\n",
      "W0000 00:00:1733615939.852022 7491096 inference_feedback_manager.cc:114] Feedback manager requires a model with a single signature inference. Disabling support for feedback tensors.\n"
     ]
    },
    {
     "name": "stdout",
     "output_type": "stream",
     "text": [
      "\n",
      "0: 640x640 1 person, 8368.5ms\n",
      "Speed: 24.0ms preprocess, 8368.5ms inference, 7.7ms postprocess per image at shape (1, 3, 640, 640)\n",
      "/Users/mukesh003/Documents/projects/TShirt Size predictor/5330_Final_codes/segmentation_measurements/segmentation_testing/test1/2d_models_male/male_0090\n"
     ]
    },
    {
     "name": "stderr",
     "output_type": "stream",
     "text": [
      "I0000 00:00:1733615951.351491 7483803 gl_context.cc:357] GL version: 2.1 (2.1 Metal - 89.3), renderer: Apple M2\n",
      "W0000 00:00:1733615951.587525 7491214 inference_feedback_manager.cc:114] Feedback manager requires a model with a single signature inference. Disabling support for feedback tensors.\n",
      "W0000 00:00:1733615951.745957 7491218 inference_feedback_manager.cc:114] Feedback manager requires a model with a single signature inference. Disabling support for feedback tensors.\n"
     ]
    },
    {
     "name": "stdout",
     "output_type": "stream",
     "text": [
      "\n",
      "0: 640x640 1 person, 8444.2ms\n",
      "Speed: 19.4ms preprocess, 8444.2ms inference, 5.9ms postprocess per image at shape (1, 3, 640, 640)\n",
      "/Users/mukesh003/Documents/projects/TShirt Size predictor/5330_Final_codes/segmentation_measurements/segmentation_testing/test1/2d_models_male/male_0047\n"
     ]
    },
    {
     "name": "stderr",
     "output_type": "stream",
     "text": [
      "I0000 00:00:1733615963.188091 7483803 gl_context.cc:357] GL version: 2.1 (2.1 Metal - 89.3), renderer: Apple M2\n",
      "W0000 00:00:1733615963.468672 7491301 inference_feedback_manager.cc:114] Feedback manager requires a model with a single signature inference. Disabling support for feedback tensors.\n",
      "W0000 00:00:1733615963.613799 7491298 inference_feedback_manager.cc:114] Feedback manager requires a model with a single signature inference. Disabling support for feedback tensors.\n"
     ]
    },
    {
     "name": "stdout",
     "output_type": "stream",
     "text": [
      "\n",
      "0: 640x640 1 person, 8532.2ms\n",
      "Speed: 10.2ms preprocess, 8532.2ms inference, 5.6ms postprocess per image at shape (1, 3, 640, 640)\n",
      "/Users/mukesh003/Documents/projects/TShirt Size predictor/5330_Final_codes/segmentation_measurements/segmentation_testing/test1/2d_models_male/male_0053\n"
     ]
    },
    {
     "name": "stderr",
     "output_type": "stream",
     "text": [
      "Context leak detected, msgtracer returned -1\n",
      "I0000 00:00:1733615975.103227 7483803 gl_context.cc:357] GL version: 2.1 (2.1 Metal - 89.3), renderer: Apple M2\n",
      "W0000 00:00:1733615975.345627 7491409 inference_feedback_manager.cc:114] Feedback manager requires a model with a single signature inference. Disabling support for feedback tensors.\n",
      "W0000 00:00:1733615975.551991 7491402 inference_feedback_manager.cc:114] Feedback manager requires a model with a single signature inference. Disabling support for feedback tensors.\n"
     ]
    },
    {
     "name": "stdout",
     "output_type": "stream",
     "text": [
      "\n",
      "0: 640x640 1 person, 8302.1ms\n",
      "Speed: 5.2ms preprocess, 8302.1ms inference, 5.0ms postprocess per image at shape (1, 3, 640, 640)\n",
      "/Users/mukesh003/Documents/projects/TShirt Size predictor/5330_Final_codes/segmentation_measurements/segmentation_testing/test1/2d_models_male/male_0133\n"
     ]
    },
    {
     "name": "stderr",
     "output_type": "stream",
     "text": [
      "I0000 00:00:1733615987.307716 7483803 gl_context.cc:357] GL version: 2.1 (2.1 Metal - 89.3), renderer: Apple M2\n",
      "W0000 00:00:1733615987.539502 7491544 inference_feedback_manager.cc:114] Feedback manager requires a model with a single signature inference. Disabling support for feedback tensors.\n",
      "W0000 00:00:1733615987.728964 7491548 inference_feedback_manager.cc:114] Feedback manager requires a model with a single signature inference. Disabling support for feedback tensors.\n"
     ]
    },
    {
     "name": "stdout",
     "output_type": "stream",
     "text": [
      "\n",
      "0: 640x640 1 person, 8073.6ms\n",
      "Speed: 8.5ms preprocess, 8073.6ms inference, 5.5ms postprocess per image at shape (1, 3, 640, 640)\n",
      "/Users/mukesh003/Documents/projects/TShirt Size predictor/5330_Final_codes/segmentation_measurements/segmentation_testing/test1/2d_models_male/male_0127\n"
     ]
    },
    {
     "name": "stderr",
     "output_type": "stream",
     "text": [
      "I0000 00:00:1733615998.557245 7483803 gl_context.cc:357] GL version: 2.1 (2.1 Metal - 89.3), renderer: Apple M2\n",
      "W0000 00:00:1733615998.805728 7491632 inference_feedback_manager.cc:114] Feedback manager requires a model with a single signature inference. Disabling support for feedback tensors.\n",
      "W0000 00:00:1733615999.035679 7491632 inference_feedback_manager.cc:114] Feedback manager requires a model with a single signature inference. Disabling support for feedback tensors.\n"
     ]
    },
    {
     "name": "stdout",
     "output_type": "stream",
     "text": [
      "\n",
      "0: 640x640 1 person, 8358.7ms\n",
      "Speed: 29.5ms preprocess, 8358.7ms inference, 5.0ms postprocess per image at shape (1, 3, 640, 640)\n",
      "/Users/mukesh003/Documents/projects/TShirt Size predictor/5330_Final_codes/segmentation_measurements/segmentation_testing/test1/2d_models_male/male_0119\n"
     ]
    },
    {
     "name": "stderr",
     "output_type": "stream",
     "text": [
      "I0000 00:00:1733616010.554345 7483803 gl_context.cc:357] GL version: 2.1 (2.1 Metal - 89.3), renderer: Apple M2\n",
      "W0000 00:00:1733616010.779081 7491743 inference_feedback_manager.cc:114] Feedback manager requires a model with a single signature inference. Disabling support for feedback tensors.\n",
      "W0000 00:00:1733616010.893486 7491742 inference_feedback_manager.cc:114] Feedback manager requires a model with a single signature inference. Disabling support for feedback tensors.\n"
     ]
    },
    {
     "name": "stdout",
     "output_type": "stream",
     "text": [
      "\n",
      "0: 640x640 1 person, 8439.7ms\n",
      "Speed: 8.9ms preprocess, 8439.7ms inference, 6.4ms postprocess per image at shape (1, 3, 640, 640)\n",
      "/Users/mukesh003/Documents/projects/TShirt Size predictor/5330_Final_codes/segmentation_measurements/segmentation_testing/test1/2d_models_male/male_0131\n"
     ]
    },
    {
     "name": "stderr",
     "output_type": "stream",
     "text": [
      "I0000 00:00:1733616024.179419 7483803 gl_context.cc:357] GL version: 2.1 (2.1 Metal - 89.3), renderer: Apple M2\n",
      "W0000 00:00:1733616024.462322 7491969 inference_feedback_manager.cc:114] Feedback manager requires a model with a single signature inference. Disabling support for feedback tensors.\n",
      "W0000 00:00:1733616024.658289 7491964 inference_feedback_manager.cc:114] Feedback manager requires a model with a single signature inference. Disabling support for feedback tensors.\n"
     ]
    },
    {
     "name": "stdout",
     "output_type": "stream",
     "text": [
      "\n",
      "0: 640x640 1 person, 8401.8ms\n",
      "Speed: 12.4ms preprocess, 8401.8ms inference, 11.5ms postprocess per image at shape (1, 3, 640, 640)\n",
      "/Users/mukesh003/Documents/projects/TShirt Size predictor/5330_Final_codes/segmentation_measurements/segmentation_testing/test1/2d_models_male/male_0125\n"
     ]
    },
    {
     "name": "stderr",
     "output_type": "stream",
     "text": [
      "I0000 00:00:1733616035.953972 7483803 gl_context.cc:357] GL version: 2.1 (2.1 Metal - 89.3), renderer: Apple M2\n",
      "W0000 00:00:1733616036.206250 7492060 inference_feedback_manager.cc:114] Feedback manager requires a model with a single signature inference. Disabling support for feedback tensors.\n",
      "W0000 00:00:1733616036.417007 7492061 inference_feedback_manager.cc:114] Feedback manager requires a model with a single signature inference. Disabling support for feedback tensors.\n"
     ]
    },
    {
     "name": "stdout",
     "output_type": "stream",
     "text": [
      "\n",
      "0: 640x640 1 person, 8602.0ms\n",
      "Speed: 10.4ms preprocess, 8602.0ms inference, 8.2ms postprocess per image at shape (1, 3, 640, 640)\n",
      "/Users/mukesh003/Documents/projects/TShirt Size predictor/5330_Final_codes/segmentation_measurements/segmentation_testing/test1/2d_models_male/male_0079\n"
     ]
    },
    {
     "name": "stderr",
     "output_type": "stream",
     "text": [
      "I0000 00:00:1733616048.200515 7483803 gl_context.cc:357] GL version: 2.1 (2.1 Metal - 89.3), renderer: Apple M2\n",
      "W0000 00:00:1733616048.428666 7492287 inference_feedback_manager.cc:114] Feedback manager requires a model with a single signature inference. Disabling support for feedback tensors.\n",
      "W0000 00:00:1733616048.595704 7492287 inference_feedback_manager.cc:114] Feedback manager requires a model with a single signature inference. Disabling support for feedback tensors.\n"
     ]
    },
    {
     "name": "stdout",
     "output_type": "stream",
     "text": [
      "\n",
      "0: 640x640 1 person, 8317.8ms\n",
      "Speed: 10.3ms preprocess, 8317.8ms inference, 5.0ms postprocess per image at shape (1, 3, 640, 640)\n",
      "/Users/mukesh003/Documents/projects/TShirt Size predictor/5330_Final_codes/segmentation_measurements/segmentation_testing/test1/2d_models_male/male_0045\n"
     ]
    },
    {
     "name": "stderr",
     "output_type": "stream",
     "text": [
      "I0000 00:00:1733616059.859299 7483803 gl_context.cc:357] GL version: 2.1 (2.1 Metal - 89.3), renderer: Apple M2\n",
      "W0000 00:00:1733616060.128398 7492355 inference_feedback_manager.cc:114] Feedback manager requires a model with a single signature inference. Disabling support for feedback tensors.\n",
      "W0000 00:00:1733616060.329557 7492356 inference_feedback_manager.cc:114] Feedback manager requires a model with a single signature inference. Disabling support for feedback tensors.\n"
     ]
    },
    {
     "name": "stdout",
     "output_type": "stream",
     "text": [
      "\n",
      "0: 640x640 1 person, 7877.4ms\n",
      "Speed: 10.2ms preprocess, 7877.4ms inference, 5.0ms postprocess per image at shape (1, 3, 640, 640)\n",
      "/Users/mukesh003/Documents/projects/TShirt Size predictor/5330_Final_codes/segmentation_measurements/segmentation_testing/test1/2d_models_male/male_0051\n"
     ]
    },
    {
     "name": "stderr",
     "output_type": "stream",
     "text": [
      "I0000 00:00:1733616071.126934 7483803 gl_context.cc:357] GL version: 2.1 (2.1 Metal - 89.3), renderer: Apple M2\n",
      "W0000 00:00:1733616071.369677 7492446 inference_feedback_manager.cc:114] Feedback manager requires a model with a single signature inference. Disabling support for feedback tensors.\n",
      "W0000 00:00:1733616071.549105 7492446 inference_feedback_manager.cc:114] Feedback manager requires a model with a single signature inference. Disabling support for feedback tensors.\n"
     ]
    },
    {
     "name": "stdout",
     "output_type": "stream",
     "text": [
      "\n",
      "0: 640x640 1 person, 8332.0ms\n",
      "Speed: 27.3ms preprocess, 8332.0ms inference, 5.7ms postprocess per image at shape (1, 3, 640, 640)\n",
      "/Users/mukesh003/Documents/projects/TShirt Size predictor/5330_Final_codes/segmentation_measurements/segmentation_testing/test1/2d_models_male/male_0086\n"
     ]
    },
    {
     "name": "stderr",
     "output_type": "stream",
     "text": [
      "I0000 00:00:1733616083.530187 7483803 gl_context.cc:357] GL version: 2.1 (2.1 Metal - 89.3), renderer: Apple M2\n",
      "W0000 00:00:1733616083.759640 7492549 inference_feedback_manager.cc:114] Feedback manager requires a model with a single signature inference. Disabling support for feedback tensors.\n",
      "W0000 00:00:1733616083.963859 7492552 inference_feedback_manager.cc:114] Feedback manager requires a model with a single signature inference. Disabling support for feedback tensors.\n"
     ]
    },
    {
     "name": "stdout",
     "output_type": "stream",
     "text": [
      "\n",
      "0: 640x640 1 person, 8232.2ms\n",
      "Speed: 9.2ms preprocess, 8232.2ms inference, 5.6ms postprocess per image at shape (1, 3, 640, 640)\n",
      "/Users/mukesh003/Documents/projects/TShirt Size predictor/5330_Final_codes/segmentation_measurements/segmentation_testing/test1/2d_models_male/male_0092\n"
     ]
    },
    {
     "name": "stderr",
     "output_type": "stream",
     "text": [
      "I0000 00:00:1733616095.107892 7483803 gl_context.cc:357] GL version: 2.1 (2.1 Metal - 89.3), renderer: Apple M2\n",
      "W0000 00:00:1733616095.370687 7492630 inference_feedback_manager.cc:114] Feedback manager requires a model with a single signature inference. Disabling support for feedback tensors.\n",
      "W0000 00:00:1733616095.546231 7492631 inference_feedback_manager.cc:114] Feedback manager requires a model with a single signature inference. Disabling support for feedback tensors.\n"
     ]
    },
    {
     "name": "stdout",
     "output_type": "stream",
     "text": [
      "\n",
      "0: 640x640 1 person, 8378.2ms\n",
      "Speed: 13.6ms preprocess, 8378.2ms inference, 5.1ms postprocess per image at shape (1, 3, 640, 640)\n",
      "/Users/mukesh003/Documents/projects/TShirt Size predictor/5330_Final_codes/segmentation_measurements/segmentation_testing/test1/2d_models_male/male_0093\n"
     ]
    },
    {
     "name": "stderr",
     "output_type": "stream",
     "text": [
      "I0000 00:00:1733616106.818052 7483803 gl_context.cc:357] GL version: 2.1 (2.1 Metal - 89.3), renderer: Apple M2\n",
      "W0000 00:00:1733616107.033405 7492746 inference_feedback_manager.cc:114] Feedback manager requires a model with a single signature inference. Disabling support for feedback tensors.\n",
      "W0000 00:00:1733616107.151285 7492748 inference_feedback_manager.cc:114] Feedback manager requires a model with a single signature inference. Disabling support for feedback tensors.\n"
     ]
    },
    {
     "name": "stdout",
     "output_type": "stream",
     "text": [
      "\n",
      "0: 640x640 1 person, 8491.0ms\n",
      "Speed: 22.4ms preprocess, 8491.0ms inference, 5.6ms postprocess per image at shape (1, 3, 640, 640)\n",
      "/Users/mukesh003/Documents/projects/TShirt Size predictor/5330_Final_codes/segmentation_measurements/segmentation_testing/test1/2d_models_male/male_0087\n"
     ]
    },
    {
     "name": "stderr",
     "output_type": "stream",
     "text": [
      "I0000 00:00:1733616119.277549 7483803 gl_context.cc:357] GL version: 2.1 (2.1 Metal - 89.3), renderer: Apple M2\n",
      "W0000 00:00:1733616119.532469 7492904 inference_feedback_manager.cc:114] Feedback manager requires a model with a single signature inference. Disabling support for feedback tensors.\n",
      "W0000 00:00:1733616119.720625 7492904 inference_feedback_manager.cc:114] Feedback manager requires a model with a single signature inference. Disabling support for feedback tensors.\n"
     ]
    },
    {
     "name": "stdout",
     "output_type": "stream",
     "text": [
      "\n",
      "0: 640x640 1 person, 7972.5ms\n",
      "Speed: 17.6ms preprocess, 7972.5ms inference, 5.0ms postprocess per image at shape (1, 3, 640, 640)\n",
      "/Users/mukesh003/Documents/projects/TShirt Size predictor/5330_Final_codes/segmentation_measurements/segmentation_testing/test1/2d_models_male/male_0050\n"
     ]
    },
    {
     "name": "stderr",
     "output_type": "stream",
     "text": [
      "I0000 00:00:1733616130.319594 7483803 gl_context.cc:357] GL version: 2.1 (2.1 Metal - 89.3), renderer: Apple M2\n",
      "W0000 00:00:1733616130.546907 7492983 inference_feedback_manager.cc:114] Feedback manager requires a model with a single signature inference. Disabling support for feedback tensors.\n",
      "W0000 00:00:1733616130.714422 7492983 inference_feedback_manager.cc:114] Feedback manager requires a model with a single signature inference. Disabling support for feedback tensors.\n"
     ]
    },
    {
     "name": "stdout",
     "output_type": "stream",
     "text": [
      "\n",
      "0: 640x640 1 person, 8479.4ms\n",
      "Speed: 15.8ms preprocess, 8479.4ms inference, 5.4ms postprocess per image at shape (1, 3, 640, 640)\n",
      "/Users/mukesh003/Documents/projects/TShirt Size predictor/5330_Final_codes/segmentation_measurements/segmentation_testing/test1/2d_models_male/male_0044\n"
     ]
    },
    {
     "name": "stderr",
     "output_type": "stream",
     "text": [
      "I0000 00:00:1733616142.511362 7483803 gl_context.cc:357] GL version: 2.1 (2.1 Metal - 89.3), renderer: Apple M2\n",
      "W0000 00:00:1733616142.753876 7493086 inference_feedback_manager.cc:114] Feedback manager requires a model with a single signature inference. Disabling support for feedback tensors.\n",
      "W0000 00:00:1733616142.918311 7493086 inference_feedback_manager.cc:114] Feedback manager requires a model with a single signature inference. Disabling support for feedback tensors.\n"
     ]
    },
    {
     "name": "stdout",
     "output_type": "stream",
     "text": [
      "\n",
      "0: 640x640 1 person, 8949.8ms\n",
      "Speed: 15.7ms preprocess, 8949.8ms inference, 5.2ms postprocess per image at shape (1, 3, 640, 640)\n",
      "/Users/mukesh003/Documents/projects/TShirt Size predictor/5330_Final_codes/segmentation_measurements/segmentation_testing/test1/2d_models_male/male_0078\n"
     ]
    },
    {
     "name": "stderr",
     "output_type": "stream",
     "text": [
      "I0000 00:00:1733616154.894757 7483803 gl_context.cc:357] GL version: 2.1 (2.1 Metal - 89.3), renderer: Apple M2\n",
      "W0000 00:00:1733616155.143956 7493193 inference_feedback_manager.cc:114] Feedback manager requires a model with a single signature inference. Disabling support for feedback tensors.\n",
      "W0000 00:00:1733616155.298655 7493198 inference_feedback_manager.cc:114] Feedback manager requires a model with a single signature inference. Disabling support for feedback tensors.\n"
     ]
    },
    {
     "name": "stdout",
     "output_type": "stream",
     "text": [
      "\n",
      "0: 640x640 1 person, 8254.3ms\n",
      "Speed: 10.9ms preprocess, 8254.3ms inference, 6.5ms postprocess per image at shape (1, 3, 640, 640)\n",
      "/Users/mukesh003/Documents/projects/TShirt Size predictor/5330_Final_codes/segmentation_measurements/segmentation_testing/test1/2d_models_male/male_0124\n"
     ]
    },
    {
     "name": "stderr",
     "output_type": "stream",
     "text": [
      "I0000 00:00:1733616166.790756 7483803 gl_context.cc:357] GL version: 2.1 (2.1 Metal - 89.3), renderer: Apple M2\n",
      "W0000 00:00:1733616167.094944 7493358 inference_feedback_manager.cc:114] Feedback manager requires a model with a single signature inference. Disabling support for feedback tensors.\n",
      "W0000 00:00:1733616167.273231 7493358 inference_feedback_manager.cc:114] Feedback manager requires a model with a single signature inference. Disabling support for feedback tensors.\n"
     ]
    },
    {
     "name": "stdout",
     "output_type": "stream",
     "text": [
      "\n",
      "0: 640x640 1 person, 8356.0ms\n",
      "Speed: 14.3ms preprocess, 8356.0ms inference, 4.5ms postprocess per image at shape (1, 3, 640, 640)\n",
      "/Users/mukesh003/Documents/projects/TShirt Size predictor/5330_Final_codes/segmentation_measurements/segmentation_testing/test1/2d_models_male/male_0130\n"
     ]
    },
    {
     "name": "stderr",
     "output_type": "stream",
     "text": [
      "Context leak detected, msgtracer returned -1\n",
      "I0000 00:00:1733616178.748876 7483803 gl_context.cc:357] GL version: 2.1 (2.1 Metal - 89.3), renderer: Apple M2\n",
      "W0000 00:00:1733616178.974902 7493451 inference_feedback_manager.cc:114] Feedback manager requires a model with a single signature inference. Disabling support for feedback tensors.\n",
      "W0000 00:00:1733616179.143351 7493454 inference_feedback_manager.cc:114] Feedback manager requires a model with a single signature inference. Disabling support for feedback tensors.\n"
     ]
    },
    {
     "name": "stdout",
     "output_type": "stream",
     "text": [
      "\n",
      "0: 640x640 1 person, 8341.2ms\n",
      "Speed: 12.7ms preprocess, 8341.2ms inference, 4.8ms postprocess per image at shape (1, 3, 640, 640)\n",
      "/Users/mukesh003/Documents/projects/TShirt Size predictor/5330_Final_codes/segmentation_measurements/segmentation_testing/test1/2d_models_male/male_0118\n"
     ]
    },
    {
     "name": "stderr",
     "output_type": "stream",
     "text": [
      "I0000 00:00:1733616190.477287 7483803 gl_context.cc:357] GL version: 2.1 (2.1 Metal - 89.3), renderer: Apple M2\n",
      "W0000 00:00:1733616190.734786 7493514 inference_feedback_manager.cc:114] Feedback manager requires a model with a single signature inference. Disabling support for feedback tensors.\n",
      "W0000 00:00:1733616190.904228 7493514 inference_feedback_manager.cc:114] Feedback manager requires a model with a single signature inference. Disabling support for feedback tensors.\n"
     ]
    },
    {
     "name": "stdout",
     "output_type": "stream",
     "text": [
      "\n",
      "0: 640x640 1 person, 8221.1ms\n",
      "Speed: 5.7ms preprocess, 8221.1ms inference, 4.2ms postprocess per image at shape (1, 3, 640, 640)\n",
      "/Users/mukesh003/Documents/projects/TShirt Size predictor/5330_Final_codes/segmentation_measurements/segmentation_testing/test1/2d_models_male/male_0134\n"
     ]
    },
    {
     "name": "stderr",
     "output_type": "stream",
     "text": [
      "I0000 00:00:1733616201.968875 7483803 gl_context.cc:357] GL version: 2.1 (2.1 Metal - 89.3), renderer: Apple M2\n",
      "W0000 00:00:1733616202.179008 7493641 inference_feedback_manager.cc:114] Feedback manager requires a model with a single signature inference. Disabling support for feedback tensors.\n",
      "W0000 00:00:1733616202.306456 7493643 inference_feedback_manager.cc:114] Feedback manager requires a model with a single signature inference. Disabling support for feedback tensors.\n"
     ]
    },
    {
     "name": "stdout",
     "output_type": "stream",
     "text": [
      "\n",
      "0: 640x640 1 person, 7949.0ms\n",
      "Speed: 10.7ms preprocess, 7949.0ms inference, 4.7ms postprocess per image at shape (1, 3, 640, 640)\n",
      "/Users/mukesh003/Documents/projects/TShirt Size predictor/5330_Final_codes/segmentation_measurements/segmentation_testing/test1/2d_models_male/male_0120\n"
     ]
    },
    {
     "name": "stderr",
     "output_type": "stream",
     "text": [
      "I0000 00:00:1733616214.190934 7483803 gl_context.cc:357] GL version: 2.1 (2.1 Metal - 89.3), renderer: Apple M2\n",
      "W0000 00:00:1733616214.466901 7493780 inference_feedback_manager.cc:114] Feedback manager requires a model with a single signature inference. Disabling support for feedback tensors.\n",
      "W0000 00:00:1733616214.628150 7493780 inference_feedback_manager.cc:114] Feedback manager requires a model with a single signature inference. Disabling support for feedback tensors.\n"
     ]
    },
    {
     "name": "stdout",
     "output_type": "stream",
     "text": [
      "\n",
      "0: 640x640 1 person, 8489.2ms\n",
      "Speed: 8.6ms preprocess, 8489.2ms inference, 4.9ms postprocess per image at shape (1, 3, 640, 640)\n",
      "/Users/mukesh003/Documents/projects/TShirt Size predictor/5330_Final_codes/segmentation_measurements/segmentation_testing/test1/2d_models_male/male_0108\n"
     ]
    },
    {
     "name": "stderr",
     "output_type": "stream",
     "text": [
      "I0000 00:00:1733616226.412501 7483803 gl_context.cc:357] GL version: 2.1 (2.1 Metal - 89.3), renderer: Apple M2\n",
      "W0000 00:00:1733616226.672558 7493928 inference_feedback_manager.cc:114] Feedback manager requires a model with a single signature inference. Disabling support for feedback tensors.\n",
      "W0000 00:00:1733616226.817587 7493931 inference_feedback_manager.cc:114] Feedback manager requires a model with a single signature inference. Disabling support for feedback tensors.\n"
     ]
    },
    {
     "name": "stdout",
     "output_type": "stream",
     "text": [
      "\n",
      "0: 640x640 1 person, 8548.6ms\n",
      "Speed: 9.0ms preprocess, 8548.6ms inference, 7.4ms postprocess per image at shape (1, 3, 640, 640)\n",
      "/Users/mukesh003/Documents/projects/TShirt Size predictor/5330_Final_codes/segmentation_measurements/segmentation_testing/test1/2d_models_male/male_0040\n"
     ]
    },
    {
     "name": "stderr",
     "output_type": "stream",
     "text": [
      "I0000 00:00:1733616238.424909 7483803 gl_context.cc:357] GL version: 2.1 (2.1 Metal - 89.3), renderer: Apple M2\n",
      "W0000 00:00:1733616238.647588 7494025 inference_feedback_manager.cc:114] Feedback manager requires a model with a single signature inference. Disabling support for feedback tensors.\n",
      "W0000 00:00:1733616238.882642 7494029 inference_feedback_manager.cc:114] Feedback manager requires a model with a single signature inference. Disabling support for feedback tensors.\n"
     ]
    },
    {
     "name": "stdout",
     "output_type": "stream",
     "text": [
      "\n",
      "0: 640x640 1 person, 7942.1ms\n",
      "Speed: 7.0ms preprocess, 7942.1ms inference, 5.0ms postprocess per image at shape (1, 3, 640, 640)\n",
      "/Users/mukesh003/Documents/projects/TShirt Size predictor/5330_Final_codes/segmentation_measurements/segmentation_testing/test1/2d_models_male/male_0054\n"
     ]
    },
    {
     "name": "stderr",
     "output_type": "stream",
     "text": [
      "I0000 00:00:1733616249.523468 7483803 gl_context.cc:357] GL version: 2.1 (2.1 Metal - 89.3), renderer: Apple M2\n",
      "W0000 00:00:1733616249.764427 7494120 inference_feedback_manager.cc:114] Feedback manager requires a model with a single signature inference. Disabling support for feedback tensors.\n",
      "W0000 00:00:1733616249.914343 7494122 inference_feedback_manager.cc:114] Feedback manager requires a model with a single signature inference. Disabling support for feedback tensors.\n"
     ]
    },
    {
     "name": "stdout",
     "output_type": "stream",
     "text": [
      "\n",
      "0: 640x640 1 person, 8523.4ms\n",
      "Speed: 10.9ms preprocess, 8523.4ms inference, 5.2ms postprocess per image at shape (1, 3, 640, 640)\n",
      "/Users/mukesh003/Documents/projects/TShirt Size predictor/5330_Final_codes/segmentation_measurements/segmentation_testing/test1/2d_models_male/male_0068\n"
     ]
    },
    {
     "name": "stderr",
     "output_type": "stream",
     "text": [
      "I0000 00:00:1733616261.833579 7483803 gl_context.cc:357] GL version: 2.1 (2.1 Metal - 89.3), renderer: Apple M2\n",
      "W0000 00:00:1733616262.086780 7494219 inference_feedback_manager.cc:114] Feedback manager requires a model with a single signature inference. Disabling support for feedback tensors.\n",
      "W0000 00:00:1733616262.290730 7494219 inference_feedback_manager.cc:114] Feedback manager requires a model with a single signature inference. Disabling support for feedback tensors.\n"
     ]
    },
    {
     "name": "stdout",
     "output_type": "stream",
     "text": [
      "\n",
      "0: 640x640 1 person, 10036.6ms\n",
      "Speed: 12.7ms preprocess, 10036.6ms inference, 6.2ms postprocess per image at shape (1, 3, 640, 640)\n",
      "/Users/mukesh003/Documents/projects/TShirt Size predictor/5330_Final_codes/segmentation_measurements/segmentation_testing/test1/2d_models_male/male_0083\n"
     ]
    },
    {
     "name": "stderr",
     "output_type": "stream",
     "text": [
      "I0000 00:00:1733616275.593026 7483803 gl_context.cc:357] GL version: 2.1 (2.1 Metal - 89.3), renderer: Apple M2\n",
      "W0000 00:00:1733616275.856930 7494480 inference_feedback_manager.cc:114] Feedback manager requires a model with a single signature inference. Disabling support for feedback tensors.\n",
      "W0000 00:00:1733616276.112764 7494484 inference_feedback_manager.cc:114] Feedback manager requires a model with a single signature inference. Disabling support for feedback tensors.\n"
     ]
    },
    {
     "name": "stdout",
     "output_type": "stream",
     "text": [
      "\n",
      "0: 640x640 1 person, 9128.7ms\n",
      "Speed: 8.7ms preprocess, 9128.7ms inference, 5.9ms postprocess per image at shape (1, 3, 640, 640)\n",
      "/Users/mukesh003/Documents/projects/TShirt Size predictor/5330_Final_codes/segmentation_measurements/segmentation_testing/test1/2d_models_male/male_0097\n"
     ]
    },
    {
     "name": "stderr",
     "output_type": "stream",
     "text": [
      "I0000 00:00:1733616288.433940 7483803 gl_context.cc:357] GL version: 2.1 (2.1 Metal - 89.3), renderer: Apple M2\n",
      "W0000 00:00:1733616288.676092 7494601 inference_feedback_manager.cc:114] Feedback manager requires a model with a single signature inference. Disabling support for feedback tensors.\n",
      "W0000 00:00:1733616288.855866 7494601 inference_feedback_manager.cc:114] Feedback manager requires a model with a single signature inference. Disabling support for feedback tensors.\n"
     ]
    },
    {
     "name": "stdout",
     "output_type": "stream",
     "text": [
      "\n",
      "0: 640x640 1 person, 8392.0ms\n",
      "Speed: 17.7ms preprocess, 8392.0ms inference, 4.2ms postprocess per image at shape (1, 3, 640, 640)\n",
      "/Users/mukesh003/Documents/projects/TShirt Size predictor/5330_Final_codes/segmentation_measurements/segmentation_testing/test1/2d_models_male/male_0096\n"
     ]
    },
    {
     "name": "stderr",
     "output_type": "stream",
     "text": [
      "I0000 00:00:1733616299.887338 7483803 gl_context.cc:357] GL version: 2.1 (2.1 Metal - 89.3), renderer: Apple M2\n",
      "W0000 00:00:1733616300.097978 7494698 inference_feedback_manager.cc:114] Feedback manager requires a model with a single signature inference. Disabling support for feedback tensors.\n",
      "W0000 00:00:1733616300.218879 7494700 inference_feedback_manager.cc:114] Feedback manager requires a model with a single signature inference. Disabling support for feedback tensors.\n"
     ]
    },
    {
     "name": "stdout",
     "output_type": "stream",
     "text": [
      "\n",
      "0: 640x640 1 person, 7802.7ms\n",
      "Speed: 10.0ms preprocess, 7802.7ms inference, 5.2ms postprocess per image at shape (1, 3, 640, 640)\n",
      "/Users/mukesh003/Documents/projects/TShirt Size predictor/5330_Final_codes/segmentation_measurements/segmentation_testing/test1/2d_models_male/male_0082\n"
     ]
    },
    {
     "name": "stderr",
     "output_type": "stream",
     "text": [
      "I0000 00:00:1733616311.700373 7483803 gl_context.cc:357] GL version: 2.1 (2.1 Metal - 89.3), renderer: Apple M2\n",
      "W0000 00:00:1733616311.941833 7494812 inference_feedback_manager.cc:114] Feedback manager requires a model with a single signature inference. Disabling support for feedback tensors.\n",
      "W0000 00:00:1733616312.125980 7494814 inference_feedback_manager.cc:114] Feedback manager requires a model with a single signature inference. Disabling support for feedback tensors.\n"
     ]
    },
    {
     "name": "stdout",
     "output_type": "stream",
     "text": [
      "\n",
      "0: 640x640 1 person, 8275.5ms\n",
      "Speed: 10.8ms preprocess, 8275.5ms inference, 5.0ms postprocess per image at shape (1, 3, 640, 640)\n",
      "/Users/mukesh003/Documents/projects/TShirt Size predictor/5330_Final_codes/segmentation_measurements/segmentation_testing/test1/2d_models_male/male_0069\n"
     ]
    },
    {
     "name": "stderr",
     "output_type": "stream",
     "text": [
      "I0000 00:00:1733616323.314136 7483803 gl_context.cc:357] GL version: 2.1 (2.1 Metal - 89.3), renderer: Apple M2\n",
      "W0000 00:00:1733616323.554132 7494920 inference_feedback_manager.cc:114] Feedback manager requires a model with a single signature inference. Disabling support for feedback tensors.\n",
      "W0000 00:00:1733616323.701880 7494925 inference_feedback_manager.cc:114] Feedback manager requires a model with a single signature inference. Disabling support for feedback tensors.\n"
     ]
    },
    {
     "name": "stdout",
     "output_type": "stream",
     "text": [
      "\n",
      "0: 640x640 1 person, 8395.6ms\n",
      "Speed: 11.7ms preprocess, 8395.6ms inference, 6.0ms postprocess per image at shape (1, 3, 640, 640)\n",
      "/Users/mukesh003/Documents/projects/TShirt Size predictor/5330_Final_codes/segmentation_measurements/segmentation_testing/test1/2d_models_male/male_0055\n"
     ]
    },
    {
     "name": "stderr",
     "output_type": "stream",
     "text": [
      "I0000 00:00:1733616335.178786 7483803 gl_context.cc:357] GL version: 2.1 (2.1 Metal - 89.3), renderer: Apple M2\n",
      "W0000 00:00:1733616335.390609 7495025 inference_feedback_manager.cc:114] Feedback manager requires a model with a single signature inference. Disabling support for feedback tensors.\n",
      "W0000 00:00:1733616335.594964 7495022 inference_feedback_manager.cc:114] Feedback manager requires a model with a single signature inference. Disabling support for feedback tensors.\n"
     ]
    },
    {
     "name": "stdout",
     "output_type": "stream",
     "text": [
      "\n",
      "0: 640x640 1 person, 8895.5ms\n",
      "Speed: 7.6ms preprocess, 8895.5ms inference, 4.8ms postprocess per image at shape (1, 3, 640, 640)\n",
      "/Users/mukesh003/Documents/projects/TShirt Size predictor/5330_Final_codes/segmentation_measurements/segmentation_testing/test1/2d_models_male/male_0041\n"
     ]
    },
    {
     "name": "stderr",
     "output_type": "stream",
     "text": [
      "I0000 00:00:1733616347.370468 7483803 gl_context.cc:357] GL version: 2.1 (2.1 Metal - 89.3), renderer: Apple M2\n",
      "W0000 00:00:1733616347.613513 7495133 inference_feedback_manager.cc:114] Feedback manager requires a model with a single signature inference. Disabling support for feedback tensors.\n",
      "W0000 00:00:1733616347.815568 7495128 inference_feedback_manager.cc:114] Feedback manager requires a model with a single signature inference. Disabling support for feedback tensors.\n"
     ]
    },
    {
     "name": "stdout",
     "output_type": "stream",
     "text": [
      "\n",
      "0: 640x640 1 person, 7812.5ms\n",
      "Speed: 10.4ms preprocess, 7812.5ms inference, 6.9ms postprocess per image at shape (1, 3, 640, 640)\n",
      "/Users/mukesh003/Documents/projects/TShirt Size predictor/5330_Final_codes/segmentation_measurements/segmentation_testing/test1/2d_models_male/male_0109\n"
     ]
    },
    {
     "name": "stderr",
     "output_type": "stream",
     "text": [
      "I0000 00:00:1733616358.293005 7483803 gl_context.cc:357] GL version: 2.1 (2.1 Metal - 89.3), renderer: Apple M2\n",
      "W0000 00:00:1733616358.507227 7495213 inference_feedback_manager.cc:114] Feedback manager requires a model with a single signature inference. Disabling support for feedback tensors.\n",
      "W0000 00:00:1733616358.680870 7495213 inference_feedback_manager.cc:114] Feedback manager requires a model with a single signature inference. Disabling support for feedback tensors.\n"
     ]
    },
    {
     "name": "stdout",
     "output_type": "stream",
     "text": [
      "\n",
      "0: 640x640 1 person, 8181.3ms\n",
      "Speed: 15.5ms preprocess, 8181.3ms inference, 6.7ms postprocess per image at shape (1, 3, 640, 640)\n",
      "/Users/mukesh003/Documents/projects/TShirt Size predictor/5330_Final_codes/segmentation_measurements/segmentation_testing/test1/2d_models_male/male_0121\n"
     ]
    },
    {
     "name": "stderr",
     "output_type": "stream",
     "text": [
      "I0000 00:00:1733616369.900680 7483803 gl_context.cc:357] GL version: 2.1 (2.1 Metal - 89.3), renderer: Apple M2\n",
      "W0000 00:00:1733616370.179667 7495277 inference_feedback_manager.cc:114] Feedback manager requires a model with a single signature inference. Disabling support for feedback tensors.\n",
      "W0000 00:00:1733616370.346670 7495277 inference_feedback_manager.cc:114] Feedback manager requires a model with a single signature inference. Disabling support for feedback tensors.\n"
     ]
    },
    {
     "name": "stdout",
     "output_type": "stream",
     "text": [
      "\n",
      "0: 640x640 1 person, 8230.3ms\n",
      "Speed: 10.3ms preprocess, 8230.3ms inference, 6.1ms postprocess per image at shape (1, 3, 640, 640)\n",
      "/Users/mukesh003/Documents/projects/TShirt Size predictor/5330_Final_codes/segmentation_measurements/segmentation_testing/test1/2d_models_male/male_0135\n"
     ]
    },
    {
     "name": "stderr",
     "output_type": "stream",
     "text": [
      "Context leak detected, msgtracer returned -1\n",
      "I0000 00:00:1733616381.765260 7483803 gl_context.cc:357] GL version: 2.1 (2.1 Metal - 89.3), renderer: Apple M2\n",
      "W0000 00:00:1733616381.991136 7495456 inference_feedback_manager.cc:114] Feedback manager requires a model with a single signature inference. Disabling support for feedback tensors.\n",
      "W0000 00:00:1733616382.144342 7495456 inference_feedback_manager.cc:114] Feedback manager requires a model with a single signature inference. Disabling support for feedback tensors.\n"
     ]
    },
    {
     "name": "stdout",
     "output_type": "stream",
     "text": [
      "\n",
      "0: 640x640 1 person, 8012.4ms\n",
      "Speed: 8.9ms preprocess, 8012.4ms inference, 4.4ms postprocess per image at shape (1, 3, 640, 640)\n",
      "/Users/mukesh003/Documents/projects/TShirt Size predictor/5330_Final_codes/segmentation_measurements/segmentation_testing/test1/2d_models_male/male_0123\n"
     ]
    },
    {
     "name": "stderr",
     "output_type": "stream",
     "text": [
      "I0000 00:00:1733616392.964604 7483803 gl_context.cc:357] GL version: 2.1 (2.1 Metal - 89.3), renderer: Apple M2\n",
      "W0000 00:00:1733616393.154770 7495516 inference_feedback_manager.cc:114] Feedback manager requires a model with a single signature inference. Disabling support for feedback tensors.\n",
      "W0000 00:00:1733616393.272746 7495521 inference_feedback_manager.cc:114] Feedback manager requires a model with a single signature inference. Disabling support for feedback tensors.\n"
     ]
    },
    {
     "name": "stdout",
     "output_type": "stream",
     "text": [
      "\n",
      "0: 640x640 1 person, 8395.7ms\n",
      "Speed: 17.4ms preprocess, 8395.7ms inference, 5.0ms postprocess per image at shape (1, 3, 640, 640)\n",
      "/Users/mukesh003/Documents/projects/TShirt Size predictor/5330_Final_codes/segmentation_measurements/segmentation_testing/test1/2d_models_male/male_0137\n"
     ]
    },
    {
     "name": "stderr",
     "output_type": "stream",
     "text": [
      "I0000 00:00:1733616405.966370 7483803 gl_context.cc:357] GL version: 2.1 (2.1 Metal - 89.3), renderer: Apple M2\n",
      "W0000 00:00:1733616406.233994 7495667 inference_feedback_manager.cc:114] Feedback manager requires a model with a single signature inference. Disabling support for feedback tensors.\n",
      "W0000 00:00:1733616406.459084 7495667 inference_feedback_manager.cc:114] Feedback manager requires a model with a single signature inference. Disabling support for feedback tensors.\n"
     ]
    },
    {
     "name": "stdout",
     "output_type": "stream",
     "text": [
      "\n",
      "0: 640x640 1 person, 7858.4ms\n",
      "Speed: 15.4ms preprocess, 7858.4ms inference, 5.3ms postprocess per image at shape (1, 3, 640, 640)\n",
      "/Users/mukesh003/Documents/projects/TShirt Size predictor/5330_Final_codes/segmentation_measurements/segmentation_testing/test1/2d_models_male/male_0057\n"
     ]
    },
    {
     "name": "stderr",
     "output_type": "stream",
     "text": [
      "I0000 00:00:1733616417.046874 7483803 gl_context.cc:357] GL version: 2.1 (2.1 Metal - 89.3), renderer: Apple M2\n",
      "W0000 00:00:1733616417.279295 7495751 inference_feedback_manager.cc:114] Feedback manager requires a model with a single signature inference. Disabling support for feedback tensors.\n",
      "W0000 00:00:1733616417.440509 7495751 inference_feedback_manager.cc:114] Feedback manager requires a model with a single signature inference. Disabling support for feedback tensors.\n"
     ]
    },
    {
     "name": "stdout",
     "output_type": "stream",
     "text": [
      "\n",
      "0: 640x640 1 person, 8049.6ms\n",
      "Speed: 15.0ms preprocess, 8049.6ms inference, 5.4ms postprocess per image at shape (1, 3, 640, 640)\n",
      "/Users/mukesh003/Documents/projects/TShirt Size predictor/5330_Final_codes/segmentation_measurements/segmentation_testing/test1/2d_models_male/male_0043\n"
     ]
    },
    {
     "name": "stderr",
     "output_type": "stream",
     "text": [
      "I0000 00:00:1733616428.322001 7483803 gl_context.cc:357] GL version: 2.1 (2.1 Metal - 89.3), renderer: Apple M2\n",
      "W0000 00:00:1733616428.548758 7495813 inference_feedback_manager.cc:114] Feedback manager requires a model with a single signature inference. Disabling support for feedback tensors.\n",
      "W0000 00:00:1733616428.699025 7495817 inference_feedback_manager.cc:114] Feedback manager requires a model with a single signature inference. Disabling support for feedback tensors.\n"
     ]
    },
    {
     "name": "stdout",
     "output_type": "stream",
     "text": [
      "\n",
      "0: 640x640 1 person, 8367.1ms\n",
      "Speed: 13.0ms preprocess, 8367.1ms inference, 5.8ms postprocess per image at shape (1, 3, 640, 640)\n",
      "/Users/mukesh003/Documents/projects/TShirt Size predictor/5330_Final_codes/segmentation_measurements/segmentation_testing/test1/2d_models_male/male_0094\n"
     ]
    },
    {
     "name": "stderr",
     "output_type": "stream",
     "text": [
      "I0000 00:00:1733616440.010631 7483803 gl_context.cc:357] GL version: 2.1 (2.1 Metal - 89.3), renderer: Apple M2\n",
      "W0000 00:00:1733616440.266098 7495866 inference_feedback_manager.cc:114] Feedback manager requires a model with a single signature inference. Disabling support for feedback tensors.\n",
      "W0000 00:00:1733616440.467924 7495869 inference_feedback_manager.cc:114] Feedback manager requires a model with a single signature inference. Disabling support for feedback tensors.\n"
     ]
    },
    {
     "name": "stdout",
     "output_type": "stream",
     "text": [
      "\n",
      "0: 640x640 1 person, 8497.0ms\n",
      "Speed: 6.1ms preprocess, 8497.0ms inference, 6.7ms postprocess per image at shape (1, 3, 640, 640)\n",
      "/Users/mukesh003/Documents/projects/TShirt Size predictor/5330_Final_codes/segmentation_measurements/segmentation_testing/test1/2d_models_male/male_0080\n"
     ]
    },
    {
     "name": "stderr",
     "output_type": "stream",
     "text": [
      "I0000 00:00:1733616451.557127 7483803 gl_context.cc:357] GL version: 2.1 (2.1 Metal - 89.3), renderer: Apple M2\n",
      "W0000 00:00:1733616451.821614 7495965 inference_feedback_manager.cc:114] Feedback manager requires a model with a single signature inference. Disabling support for feedback tensors.\n",
      "W0000 00:00:1733616452.033187 7495965 inference_feedback_manager.cc:114] Feedback manager requires a model with a single signature inference. Disabling support for feedback tensors.\n"
     ]
    },
    {
     "name": "stdout",
     "output_type": "stream",
     "text": [
      "\n",
      "0: 640x640 1 person, 8362.7ms\n",
      "Speed: 6.3ms preprocess, 8362.7ms inference, 7.4ms postprocess per image at shape (1, 3, 640, 640)\n",
      "/Users/mukesh003/Documents/projects/TShirt Size predictor/5330_Final_codes/segmentation_measurements/segmentation_testing/test1/2d_models_male/male_0081\n"
     ]
    },
    {
     "name": "stderr",
     "output_type": "stream",
     "text": [
      "I0000 00:00:1733616463.260976 7483803 gl_context.cc:357] GL version: 2.1 (2.1 Metal - 89.3), renderer: Apple M2\n",
      "W0000 00:00:1733616463.499543 7496089 inference_feedback_manager.cc:114] Feedback manager requires a model with a single signature inference. Disabling support for feedback tensors.\n",
      "W0000 00:00:1733616463.650375 7496089 inference_feedback_manager.cc:114] Feedback manager requires a model with a single signature inference. Disabling support for feedback tensors.\n"
     ]
    },
    {
     "name": "stdout",
     "output_type": "stream",
     "text": [
      "\n",
      "0: 640x640 1 person, 8176.0ms\n",
      "Speed: 67.1ms preprocess, 8176.0ms inference, 5.8ms postprocess per image at shape (1, 3, 640, 640)\n",
      "/Users/mukesh003/Documents/projects/TShirt Size predictor/5330_Final_codes/segmentation_measurements/segmentation_testing/test1/2d_models_male/male_0095\n"
     ]
    },
    {
     "name": "stderr",
     "output_type": "stream",
     "text": [
      "I0000 00:00:1733616476.058019 7483803 gl_context.cc:357] GL version: 2.1 (2.1 Metal - 89.3), renderer: Apple M2\n",
      "W0000 00:00:1733616476.300652 7496178 inference_feedback_manager.cc:114] Feedback manager requires a model with a single signature inference. Disabling support for feedback tensors.\n",
      "W0000 00:00:1733616476.469807 7496178 inference_feedback_manager.cc:114] Feedback manager requires a model with a single signature inference. Disabling support for feedback tensors.\n"
     ]
    },
    {
     "name": "stdout",
     "output_type": "stream",
     "text": [
      "\n",
      "0: 640x640 1 person, 8924.2ms\n",
      "Speed: 11.1ms preprocess, 8924.2ms inference, 9.8ms postprocess per image at shape (1, 3, 640, 640)\n",
      "/Users/mukesh003/Documents/projects/TShirt Size predictor/5330_Final_codes/segmentation_measurements/segmentation_testing/test1/2d_models_male/male_0042\n"
     ]
    },
    {
     "name": "stderr",
     "output_type": "stream",
     "text": [
      "I0000 00:00:1733616488.408867 7483803 gl_context.cc:357] GL version: 2.1 (2.1 Metal - 89.3), renderer: Apple M2\n",
      "W0000 00:00:1733616488.611055 7496289 inference_feedback_manager.cc:114] Feedback manager requires a model with a single signature inference. Disabling support for feedback tensors.\n",
      "W0000 00:00:1733616488.716723 7496289 inference_feedback_manager.cc:114] Feedback manager requires a model with a single signature inference. Disabling support for feedback tensors.\n"
     ]
    },
    {
     "name": "stdout",
     "output_type": "stream",
     "text": [
      "\n",
      "0: 640x640 1 person, 8241.3ms\n",
      "Speed: 17.0ms preprocess, 8241.3ms inference, 5.2ms postprocess per image at shape (1, 3, 640, 640)\n",
      "/Users/mukesh003/Documents/projects/TShirt Size predictor/5330_Final_codes/segmentation_measurements/segmentation_testing/test1/2d_models_male/male_0056\n"
     ]
    },
    {
     "name": "stderr",
     "output_type": "stream",
     "text": [
      "I0000 00:00:1733616500.937750 7483803 gl_context.cc:357] GL version: 2.1 (2.1 Metal - 89.3), renderer: Apple M2\n",
      "W0000 00:00:1733616501.188064 7496404 inference_feedback_manager.cc:114] Feedback manager requires a model with a single signature inference. Disabling support for feedback tensors.\n",
      "W0000 00:00:1733616501.339892 7496404 inference_feedback_manager.cc:114] Feedback manager requires a model with a single signature inference. Disabling support for feedback tensors.\n"
     ]
    },
    {
     "name": "stdout",
     "output_type": "stream",
     "text": [
      "\n",
      "0: 640x640 1 person, 8372.2ms\n",
      "Speed: 25.5ms preprocess, 8372.2ms inference, 4.6ms postprocess per image at shape (1, 3, 640, 640)\n",
      "/Users/mukesh003/Documents/projects/TShirt Size predictor/5330_Final_codes/segmentation_measurements/segmentation_testing/test1/2d_models_male/male_0136\n"
     ]
    },
    {
     "name": "stderr",
     "output_type": "stream",
     "text": [
      "I0000 00:00:1733616512.640098 7483803 gl_context.cc:357] GL version: 2.1 (2.1 Metal - 89.3), renderer: Apple M2\n",
      "W0000 00:00:1733616512.857469 7496474 inference_feedback_manager.cc:114] Feedback manager requires a model with a single signature inference. Disabling support for feedback tensors.\n",
      "W0000 00:00:1733616512.990143 7496481 inference_feedback_manager.cc:114] Feedback manager requires a model with a single signature inference. Disabling support for feedback tensors.\n"
     ]
    },
    {
     "name": "stdout",
     "output_type": "stream",
     "text": [
      "\n",
      "0: 640x640 1 person, 8475.8ms\n",
      "Speed: 5.9ms preprocess, 8475.8ms inference, 5.8ms postprocess per image at shape (1, 3, 640, 640)\n",
      "/Users/mukesh003/Documents/projects/TShirt Size predictor/5330_Final_codes/segmentation_measurements/segmentation_testing/test1/2d_models_male/male_0122\n"
     ]
    },
    {
     "name": "stderr",
     "output_type": "stream",
     "text": [
      "I0000 00:00:1733616524.236934 7483803 gl_context.cc:357] GL version: 2.1 (2.1 Metal - 89.3), renderer: Apple M2\n",
      "W0000 00:00:1733616524.477529 7496592 inference_feedback_manager.cc:114] Feedback manager requires a model with a single signature inference. Disabling support for feedback tensors.\n",
      "W0000 00:00:1733616524.660309 7496592 inference_feedback_manager.cc:114] Feedback manager requires a model with a single signature inference. Disabling support for feedback tensors.\n"
     ]
    },
    {
     "name": "stdout",
     "output_type": "stream",
     "text": [
      "\n",
      "0: 640x640 1 person, 8497.9ms\n",
      "Speed: 12.5ms preprocess, 8497.9ms inference, 5.0ms postprocess per image at shape (1, 3, 640, 640)\n",
      "/Users/mukesh003/Documents/projects/TShirt Size predictor/5330_Final_codes/segmentation_measurements/segmentation_testing/test1/2d_models_male/male_0107\n"
     ]
    },
    {
     "name": "stderr",
     "output_type": "stream",
     "text": [
      "I0000 00:00:1733616536.069148 7483803 gl_context.cc:357] GL version: 2.1 (2.1 Metal - 89.3), renderer: Apple M2\n",
      "W0000 00:00:1733616536.331909 7496685 inference_feedback_manager.cc:114] Feedback manager requires a model with a single signature inference. Disabling support for feedback tensors.\n",
      "W0000 00:00:1733616536.504617 7496685 inference_feedback_manager.cc:114] Feedback manager requires a model with a single signature inference. Disabling support for feedback tensors.\n"
     ]
    },
    {
     "name": "stdout",
     "output_type": "stream",
     "text": [
      "\n",
      "0: 640x640 1 person, 8542.4ms\n",
      "Speed: 14.0ms preprocess, 8542.4ms inference, 5.3ms postprocess per image at shape (1, 3, 640, 640)\n",
      "/Users/mukesh003/Documents/projects/TShirt Size predictor/5330_Final_codes/segmentation_measurements/segmentation_testing/test1/2d_models_male/male_0113\n"
     ]
    },
    {
     "name": "stderr",
     "output_type": "stream",
     "text": [
      "I0000 00:00:1733616548.014125 7483803 gl_context.cc:357] GL version: 2.1 (2.1 Metal - 89.3), renderer: Apple M2\n",
      "W0000 00:00:1733616548.251638 7496773 inference_feedback_manager.cc:114] Feedback manager requires a model with a single signature inference. Disabling support for feedback tensors.\n",
      "W0000 00:00:1733616548.504906 7496773 inference_feedback_manager.cc:114] Feedback manager requires a model with a single signature inference. Disabling support for feedback tensors.\n"
     ]
    },
    {
     "name": "stdout",
     "output_type": "stream",
     "text": [
      "\n",
      "0: 640x640 1 person, 9941.5ms\n",
      "Speed: 10.1ms preprocess, 9941.5ms inference, 5.3ms postprocess per image at shape (1, 3, 640, 640)\n",
      "/Users/mukesh003/Documents/projects/TShirt Size predictor/5330_Final_codes/segmentation_measurements/segmentation_testing/test1/2d_models_male/male_0073\n"
     ]
    },
    {
     "name": "stderr",
     "output_type": "stream",
     "text": [
      "I0000 00:00:1733616561.734698 7483803 gl_context.cc:357] GL version: 2.1 (2.1 Metal - 89.3), renderer: Apple M2\n",
      "W0000 00:00:1733616562.086162 7496958 inference_feedback_manager.cc:114] Feedback manager requires a model with a single signature inference. Disabling support for feedback tensors.\n",
      "W0000 00:00:1733616562.415389 7496963 inference_feedback_manager.cc:114] Feedback manager requires a model with a single signature inference. Disabling support for feedback tensors.\n"
     ]
    },
    {
     "name": "stdout",
     "output_type": "stream",
     "text": [
      "\n",
      "0: 640x640 1 person, 8199.4ms\n",
      "Speed: 46.2ms preprocess, 8199.4ms inference, 5.5ms postprocess per image at shape (1, 3, 640, 640)\n",
      "/Users/mukesh003/Documents/projects/TShirt Size predictor/5330_Final_codes/segmentation_measurements/segmentation_testing/test1/2d_models_male/male_0067\n"
     ]
    },
    {
     "name": "stderr",
     "output_type": "stream",
     "text": [
      "Context leak detected, msgtracer returned -1\n",
      "I0000 00:00:1733616575.070628 7483803 gl_context.cc:357] GL version: 2.1 (2.1 Metal - 89.3), renderer: Apple M2\n",
      "W0000 00:00:1733616575.279101 7497149 inference_feedback_manager.cc:114] Feedback manager requires a model with a single signature inference. Disabling support for feedback tensors.\n",
      "W0000 00:00:1733616575.527279 7497149 inference_feedback_manager.cc:114] Feedback manager requires a model with a single signature inference. Disabling support for feedback tensors.\n"
     ]
    },
    {
     "name": "stdout",
     "output_type": "stream",
     "text": [
      "\n",
      "0: 640x640 1 person, 7560.6ms\n",
      "Speed: 40.6ms preprocess, 7560.6ms inference, 3.9ms postprocess per image at shape (1, 3, 640, 640)\n"
     ]
    }
   ],
   "source": [
    "ans = dict()\n",
    "\n",
    "for _, row in df.iterrows():\n",
    "    print(f\"{image_folder}/{row['file_name']}\")\n",
    "    measurement = BodyMeasurement(\n",
    "        image_path=f\"{image_folder}/{row['file_name']}.png\",\n",
    "        height=row[\"total_height\"],\n",
    "        is_silhouette=True,\n",
    "        generate_visualizations=False,\n",
    "        generate_measurements=False\n",
    "    )\n",
    "\n",
    "    tmp = measurement.execute()\n",
    "    result = {\n",
    "            \"pixel_measurements\": tmp[\"pixel_measurements\"],\n",
    "            \"real_measurements\": tmp[\"real_measurements\"],\n",
    "            \"original_measurements\": {\n",
    "                \"shoulder_width\": row[\"shoulder_width\"],\n",
    "                \"total_height\": row[\"total_height\"]\n",
    "            }\n",
    "        }\n",
    "    \n",
    "    os.makedirs(output_dir, exist_ok=True)\n",
    "    output_path = os.path.join(output_dir, f\"{row['file_name']}.json\")\n",
    "    with open(output_path, 'w') as f:\n",
    "        json.dump(result, f, indent=4)\n",
    "    ans[row[\"file_name\"]] = result"
   ]
  },
  {
   "cell_type": "code",
   "execution_count": 5,
   "metadata": {},
   "outputs": [],
   "source": [
    "import os\n",
    "import json\n",
    "import numpy as np\n",
    "\n",
    "data_dir = \"./segmentation_testing/iter_testing/iter_1733615332/\"\n",
    "ans = {}\n",
    "\n",
    "for filename in os.listdir(data_dir):\n",
    "    if filename.endswith('.json'):\n",
    "        file_path = os.path.join(data_dir, filename)\n",
    "        with open(file_path, 'r') as f:\n",
    "            ans[filename.replace('.json', '')] = json.load(f)"
   ]
  },
  {
   "cell_type": "code",
   "execution_count": 6,
   "metadata": {},
   "outputs": [
    {
     "data": {
      "image/png": "[encoded data removed]",
      "text/plain": [
       "<Figure size 640x480 with 1 Axes>"
      ]
     },
     "metadata": {},
     "output_type": "display_data"
    },
    {
     "name": "stdout",
     "output_type": "stream",
     "text": [
      "Accuracy = 80.0%\n"
     ]
    }
   ],
   "source": [
    "import matplotlib.pyplot as plt\n",
    "\n",
    "treshold = 2.5\n",
    "\n",
    "photo_ids = []\n",
    "for photo_id, val in ans.items():\n",
    "    if (\"shoulder_width\" in ans[photo_id][\"real_measurements\"]):\n",
    "        photo_ids.append(photo_id)\n",
    "predict_vals = [ans[photo_id][\"real_measurements\"][\"shoulder_width\"] for photo_id in photo_ids]\n",
    "actual_val = [ans[photo_id][\"original_measurements\"][\"shoulder_width\"] for photo_id in photo_ids]\n",
    "\n",
    "good = 0\n",
    "for a,b in zip(predict_vals, actual_val):\n",
    "    c = abs(a - b)\n",
    "    if (c <= treshold and c >= -treshold):\n",
    "        good += 1\n",
    "accuracy = good / len(photo_ids)\n",
    "\n",
    "plt.scatter(predict_vals, actual_val)\n",
    "line_range = np.linspace(20, 50, 100)\n",
    "plt.plot(line_range, line_range, '--', color='green', label='Perfect prediction')\n",
    "plt.plot(line_range, line_range + 2, '--', color='red', label='+2 threshold')\n",
    "plt.plot(line_range, line_range - 2, '--', color='red', label='-2 threshold')\n",
    "plt.xlim(25, 46)\n",
    "plt.ylim(25, 46)\n",
    "plt.text(32, 47, f'Accuracy = {accuracy * 100}%', fontsize=12, bbox=dict(facecolor='white', alpha=0.7))\n",
    "plt.xticks(rotation=90)\n",
    "plt.legend()\n",
    "plt.show()\n",
    "\n",
    "\n",
    "print(f\"Accuracy = {accuracy * 100}%\")"
   ]
  },
  {
   "cell_type": "code",
   "execution_count": 7,
   "metadata": {},
   "outputs": [],
   "source": [
    "import sys\n",
    "sys.path.append('..')\n",
    "from utils import r2_threshold, mae_threshold, rmse_threshold"
   ]
  },
  {
   "cell_type": "code",
   "execution_count": 8,
   "metadata": {},
   "outputs": [
    {
     "data": {
      "text/plain": [
       "(4.036884745348034, 80.0)"
      ]
     },
     "execution_count": 8,
     "metadata": {},
     "output_type": "execute_result"
    }
   ],
   "source": [
    "rmse_threshold(np.array(predict_vals), np.array(actual_val))"
   ]
  },
  {
   "cell_type": "code",
   "execution_count": 9,
   "metadata": {},
   "outputs": [
    {
     "data": {
      "text/plain": [
       "(2.432628916041821, 80.0)"
      ]
     },
     "execution_count": 9,
     "metadata": {},
     "output_type": "execute_result"
    }
   ],
   "source": [
    "mae_threshold(np.array(predict_vals), np.array(actual_val))"
   ]
  }
 ],
 "metadata": {
  "kernelspec": {
   "display_name": "tshirt-size",
   "language": "python",
   "name": "python3"
  },
  "language_info": {
   "codemirror_mode": {
    "name": "ipython",
    "version": 3
   },
   "file_extension": ".py",
   "mimetype": "text/x-python",
   "name": "python",
   "nbconvert_exporter": "python",
   "pygments_lexer": "ipython3",
   "version": "3.9.20"
  }
 },
 "nbformat": 4,
 "nbformat_minor": 2
}
