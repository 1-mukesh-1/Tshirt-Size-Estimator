{
 "cells": [
  {
   "cell_type": "code",
   "execution_count": null,
   "metadata": {},
   "outputs": [],
   "source": [
    "import pandas as pd\n",
    "from body_measurement import BodyMeasurement\n",
    "import random\n",
    "from sklearn.metrics import r2_score, mean_squared_error, mean_absolute_error"
   ]
  },
  {
   "cell_type": "code",
   "execution_count": 3,
   "metadata": {},
   "outputs": [],
   "source": [
    "base_path = \"../segmentation_testing/test2/testB/\""
   ]
  },
  {
   "cell_type": "code",
   "execution_count": 4,
   "metadata": {},
   "outputs": [],
   "source": [
    "subject_map_path = base_path + \"subject_to_photo_map.csv\"\n",
    "mes_path = base_path + \"measurements.csv\"\n",
    "metadata_path = base_path + \"hwg_metadata.csv\""
   ]
  },
  {
   "cell_type": "code",
   "execution_count": 5,
   "metadata": {},
   "outputs": [],
   "source": [
    "subject_df = pd.read_csv(subject_map_path)\n",
    "mes_df = pd.read_csv(mes_path)\n",
    "metadata_df = pd.read_csv(metadata_path)\n",
    "images_path = base_path + 'mask/'"
   ]
  },
  {
   "cell_type": "code",
   "execution_count": 6,
   "metadata": {},
   "outputs": [
    {
     "name": "stderr",
     "output_type": "stream",
     "text": [
      "/var/folders/2b/106xnqt95zj_l1lwlcqwj1p80000gn/T/ipykernel_27223/1576156269.py:4: DeprecationWarning: DataFrameGroupBy.apply operated on the grouping columns. This behavior is deprecated, and in a future version of pandas the grouping columns will be excluded from the operation. Either pass `include_groups=False` to exclude the groupings or explicitly select the grouping columns after groupby to silence this warning.\n",
      "  fin_df = fin_df.groupby('subject_id').apply(lambda x: x.iloc[random.randint(0, len(x)-1)]).reset_index(drop=True)\n"
     ]
    }
   ],
   "source": [
    "fin_df = mes_df.merge(subject_df, on='subject_id', how='left')\n",
    "fin_df = fin_df.merge(metadata_df, on='subject_id', how='left')\n",
    "fin_df = fin_df[fin_df[\"gender\"] == \"male\"]\n",
    "fin_df = fin_df.groupby('subject_id').apply(lambda x: x.iloc[random.randint(0, len(x)-1)]).reset_index(drop=True)\n",
    "fin_df[\"image_path\"] = \"/Users/mukesh003/Documents/projects/TShirt Size predictor/5330_Final_codes/segmentation_measurements/segmentation_testing/test2/train/mask/\" + fin_df[\"photo_id\"] + \".png\""
   ]
  },
  {
   "cell_type": "code",
   "execution_count": 10,
   "metadata": {},
   "outputs": [
    {
     "name": "stderr",
     "output_type": "stream",
     "text": [
      "  0%|          | 0/24 [00:00<?, ?it/s]WARNING: All log messages before absl::InitializeLog() is called are written to STDERR\n",
      "I0000 00:00:1733739425.378822 8490209 gl_context.cc:357] GL version: 2.1 (2.1 Metal - 89.3), renderer: Apple M2\n",
      "INFO: Created TensorFlow Lite XNNPACK delegate for CPU.\n",
      "W0000 00:00:1733739425.552860 8490631 inference_feedback_manager.cc:114] Feedback manager requires a model with a single signature inference. Disabling support for feedback tensors.\n",
      "W0000 00:00:1733739425.634875 8490634 inference_feedback_manager.cc:114] Feedback manager requires a model with a single signature inference. Disabling support for feedback tensors.\n",
      "W0000 00:00:1733739426.429913 8490633 landmark_projection_calculator.cc:186] Using NORM_RECT without IMAGE_DIMENSIONS is only supported for the square ROI. Provide IMAGE_DIMENSIONS or use PROJECTION_MATRIX.\n",
      "  4%|▍         | 1/24 [00:01<00:28,  1.25s/it]I0000 00:00:1733739426.448980 8490209 gl_context.cc:357] GL version: 2.1 (2.1 Metal - 89.3), renderer: Apple M2\n",
      "W0000 00:00:1733739426.545307 8490664 inference_feedback_manager.cc:114] Feedback manager requires a model with a single signature inference. Disabling support for feedback tensors.\n",
      "W0000 00:00:1733739426.623979 8490665 inference_feedback_manager.cc:114] Feedback manager requires a model with a single signature inference. Disabling support for feedback tensors.\n"
     ]
    },
    {
     "name": "stdout",
     "output_type": "stream",
     "text": [
      "\n",
      "Body Measurements:\n",
      "Shoulder Width: 45.1 cm\n",
      "Torso Height: 86.5 cm\n",
      "Chest Width: 40.6 cm\n"
     ]
    },
    {
     "name": "stderr",
     "output_type": "stream",
     "text": [
      "  8%|▊         | 2/24 [00:01<00:20,  1.07it/s]"
     ]
    },
    {
     "name": "stdout",
     "output_type": "stream",
     "text": [
      "\n",
      "Body Measurements:\n",
      "Shoulder Width: 44.0 cm\n",
      "Torso Height: 75.2 cm\n",
      "Chest Width: 39.6 cm\n"
     ]
    },
    {
     "name": "stderr",
     "output_type": "stream",
     "text": [
      "I0000 00:00:1733739427.164626 8490209 gl_context.cc:357] GL version: 2.1 (2.1 Metal - 89.3), renderer: Apple M2\n",
      "W0000 00:00:1733739427.275082 8490695 inference_feedback_manager.cc:114] Feedback manager requires a model with a single signature inference. Disabling support for feedback tensors.\n",
      "W0000 00:00:1733739427.354270 8490697 inference_feedback_manager.cc:114] Feedback manager requires a model with a single signature inference. Disabling support for feedback tensors.\n",
      " 12%|█▎        | 3/24 [00:02<00:13,  1.53it/s]"
     ]
    },
    {
     "name": "stdout",
     "output_type": "stream",
     "text": [
      "\n",
      "Body Measurements:\n",
      "Shoulder Width: 37.8 cm\n",
      "Torso Height: 71.2 cm\n",
      "Chest Width: 34.0 cm\n"
     ]
    },
    {
     "name": "stderr",
     "output_type": "stream",
     "text": [
      "I0000 00:00:1733739427.479203 8490209 gl_context.cc:357] GL version: 2.1 (2.1 Metal - 89.3), renderer: Apple M2\n",
      "W0000 00:00:1733739427.573395 8490706 inference_feedback_manager.cc:114] Feedback manager requires a model with a single signature inference. Disabling support for feedback tensors.\n",
      "W0000 00:00:1733739427.664455 8490710 inference_feedback_manager.cc:114] Feedback manager requires a model with a single signature inference. Disabling support for feedback tensors.\n",
      " 17%|█▋        | 4/24 [00:03<00:14,  1.34it/s]"
     ]
    },
    {
     "name": "stdout",
     "output_type": "stream",
     "text": [
      "\n",
      "Body Measurements:\n",
      "Shoulder Width: 40.6 cm\n",
      "Torso Height: 70.8 cm\n",
      "Chest Width: 36.5 cm\n"
     ]
    },
    {
     "name": "stderr",
     "output_type": "stream",
     "text": [
      "I0000 00:00:1733739428.378890 8490209 gl_context.cc:357] GL version: 2.1 (2.1 Metal - 89.3), renderer: Apple M2\n",
      "W0000 00:00:1733739428.490526 8490729 inference_feedback_manager.cc:114] Feedback manager requires a model with a single signature inference. Disabling support for feedback tensors.\n",
      "W0000 00:00:1733739428.596976 8490735 inference_feedback_manager.cc:114] Feedback manager requires a model with a single signature inference. Disabling support for feedback tensors.\n",
      " 21%|██        | 5/24 [00:04<00:18,  1.01it/s]"
     ]
    },
    {
     "name": "stdout",
     "output_type": "stream",
     "text": [
      "\n",
      "Body Measurements:\n",
      "Shoulder Width: 46.0 cm\n",
      "Torso Height: 79.9 cm\n",
      "Chest Width: 41.4 cm\n"
     ]
    },
    {
     "name": "stderr",
     "output_type": "stream",
     "text": [
      "I0000 00:00:1733739429.805388 8490209 gl_context.cc:357] GL version: 2.1 (2.1 Metal - 89.3), renderer: Apple M2\n",
      "W0000 00:00:1733739429.962438 8490747 inference_feedback_manager.cc:114] Feedback manager requires a model with a single signature inference. Disabling support for feedback tensors.\n",
      "W0000 00:00:1733739430.058931 8490752 inference_feedback_manager.cc:114] Feedback manager requires a model with a single signature inference. Disabling support for feedback tensors.\n",
      " 25%|██▌       | 6/24 [00:05<00:16,  1.11it/s]"
     ]
    },
    {
     "name": "stdout",
     "output_type": "stream",
     "text": [
      "\n",
      "Body Measurements:\n",
      "Shoulder Width: 40.3 cm\n",
      "Torso Height: 68.5 cm\n",
      "Chest Width: 36.3 cm\n"
     ]
    },
    {
     "name": "stderr",
     "output_type": "stream",
     "text": [
      "I0000 00:00:1733739430.538914 8490209 gl_context.cc:357] GL version: 2.1 (2.1 Metal - 89.3), renderer: Apple M2\n",
      "W0000 00:00:1733739430.670988 8490762 inference_feedback_manager.cc:114] Feedback manager requires a model with a single signature inference. Disabling support for feedback tensors.\n",
      "W0000 00:00:1733739430.798393 8490762 inference_feedback_manager.cc:114] Feedback manager requires a model with a single signature inference. Disabling support for feedback tensors.\n",
      " 29%|██▉       | 7/24 [00:06<00:16,  1.06it/s]"
     ]
    },
    {
     "name": "stdout",
     "output_type": "stream",
     "text": [
      "\n",
      "Body Measurements:\n",
      "Shoulder Width: 52.7 cm\n",
      "Torso Height: 92.7 cm\n",
      "Chest Width: 47.5 cm\n"
     ]
    },
    {
     "name": "stderr",
     "output_type": "stream",
     "text": [
      "I0000 00:00:1733739431.571735 8490209 gl_context.cc:357] GL version: 2.1 (2.1 Metal - 89.3), renderer: Apple M2\n",
      "W0000 00:00:1733739431.673683 8490775 inference_feedback_manager.cc:114] Feedback manager requires a model with a single signature inference. Disabling support for feedback tensors.\n",
      "W0000 00:00:1733739431.756070 8490782 inference_feedback_manager.cc:114] Feedback manager requires a model with a single signature inference. Disabling support for feedback tensors.\n",
      " 33%|███▎      | 8/24 [00:06<00:12,  1.32it/s]"
     ]
    },
    {
     "name": "stdout",
     "output_type": "stream",
     "text": [
      "\n",
      "Body Measurements:\n",
      "Shoulder Width: 43.7 cm\n",
      "Torso Height: 74.9 cm\n",
      "Chest Width: 39.4 cm\n"
     ]
    },
    {
     "name": "stderr",
     "output_type": "stream",
     "text": [
      "I0000 00:00:1733739431.930638 8490209 gl_context.cc:357] GL version: 2.1 (2.1 Metal - 89.3), renderer: Apple M2\n",
      "W0000 00:00:1733739432.060589 8490787 inference_feedback_manager.cc:114] Feedback manager requires a model with a single signature inference. Disabling support for feedback tensors.\n",
      "W0000 00:00:1733739432.175669 8490789 inference_feedback_manager.cc:114] Feedback manager requires a model with a single signature inference. Disabling support for feedback tensors.\n",
      " 38%|███▊      | 9/24 [00:07<00:09,  1.54it/s]I0000 00:00:1733739432.337737 8490209 gl_context.cc:357] GL version: 2.1 (2.1 Metal - 89.3), renderer: Apple M2\n"
     ]
    },
    {
     "name": "stdout",
     "output_type": "stream",
     "text": [
      "\n",
      "Body Measurements:\n",
      "Shoulder Width: 40.3 cm\n",
      "Torso Height: 74.7 cm\n",
      "Chest Width: 36.3 cm\n"
     ]
    },
    {
     "name": "stderr",
     "output_type": "stream",
     "text": [
      "W0000 00:00:1733739432.492457 8490795 inference_feedback_manager.cc:114] Feedback manager requires a model with a single signature inference. Disabling support for feedback tensors.\n",
      "W0000 00:00:1733739432.617094 8490795 inference_feedback_manager.cc:114] Feedback manager requires a model with a single signature inference. Disabling support for feedback tensors.\n",
      " 42%|████▏     | 10/24 [00:08<00:11,  1.26it/s]"
     ]
    },
    {
     "name": "stdout",
     "output_type": "stream",
     "text": [
      "\n",
      "Body Measurements:\n",
      "Shoulder Width: 45.5 cm\n",
      "Torso Height: 84.8 cm\n",
      "Chest Width: 41.0 cm\n"
     ]
    },
    {
     "name": "stderr",
     "output_type": "stream",
     "text": [
      "I0000 00:00:1733739433.456033 8490209 gl_context.cc:357] GL version: 2.1 (2.1 Metal - 89.3), renderer: Apple M2\n",
      "W0000 00:00:1733739433.569423 8490811 inference_feedback_manager.cc:114] Feedback manager requires a model with a single signature inference. Disabling support for feedback tensors.\n",
      "W0000 00:00:1733739433.659300 8490814 inference_feedback_manager.cc:114] Feedback manager requires a model with a single signature inference. Disabling support for feedback tensors.\n",
      " 46%|████▌     | 11/24 [00:08<00:09,  1.31it/s]"
     ]
    },
    {
     "name": "stdout",
     "output_type": "stream",
     "text": [
      "\n",
      "Body Measurements:\n",
      "Shoulder Width: 44.0 cm\n",
      "Torso Height: 77.0 cm\n",
      "Chest Width: 39.6 cm\n"
     ]
    },
    {
     "name": "stderr",
     "output_type": "stream",
     "text": [
      "I0000 00:00:1733739434.149658 8490209 gl_context.cc:357] GL version: 2.1 (2.1 Metal - 89.3), renderer: Apple M2\n",
      "W0000 00:00:1733739434.272301 8490823 inference_feedback_manager.cc:114] Feedback manager requires a model with a single signature inference. Disabling support for feedback tensors.\n",
      "W0000 00:00:1733739434.411273 8490822 inference_feedback_manager.cc:114] Feedback manager requires a model with a single signature inference. Disabling support for feedback tensors.\n",
      " 50%|█████     | 12/24 [00:09<00:07,  1.52it/s]I0000 00:00:1733739434.577719 8490209 gl_context.cc:357] GL version: 2.1 (2.1 Metal - 89.3), renderer: Apple M2\n"
     ]
    },
    {
     "name": "stdout",
     "output_type": "stream",
     "text": [
      "\n",
      "Body Measurements:\n",
      "Shoulder Width: 37.6 cm\n",
      "Torso Height: 71.5 cm\n",
      "Chest Width: 33.8 cm\n"
     ]
    },
    {
     "name": "stderr",
     "output_type": "stream",
     "text": [
      "W0000 00:00:1733739434.726663 8490836 inference_feedback_manager.cc:114] Feedback manager requires a model with a single signature inference. Disabling support for feedback tensors.\n",
      "W0000 00:00:1733739434.850055 8490838 inference_feedback_manager.cc:114] Feedback manager requires a model with a single signature inference. Disabling support for feedback tensors.\n",
      " 54%|█████▍    | 13/24 [00:09<00:06,  1.69it/s]I0000 00:00:1733739434.999632 8490209 gl_context.cc:357] GL version: 2.1 (2.1 Metal - 89.3), renderer: Apple M2\n"
     ]
    },
    {
     "name": "stdout",
     "output_type": "stream",
     "text": [
      "\n",
      "Body Measurements:\n",
      "Shoulder Width: 37.0 cm\n",
      "Torso Height: 70.1 cm\n",
      "Chest Width: 33.3 cm\n"
     ]
    },
    {
     "name": "stderr",
     "output_type": "stream",
     "text": [
      "W0000 00:00:1733739435.137952 8490845 inference_feedback_manager.cc:114] Feedback manager requires a model with a single signature inference. Disabling support for feedback tensors.\n",
      "W0000 00:00:1733739435.261080 8490845 inference_feedback_manager.cc:114] Feedback manager requires a model with a single signature inference. Disabling support for feedback tensors.\n",
      " 58%|█████▊    | 14/24 [00:10<00:05,  1.88it/s]I0000 00:00:1733739435.400524 8490209 gl_context.cc:357] GL version: 2.1 (2.1 Metal - 89.3), renderer: Apple M2\n"
     ]
    },
    {
     "name": "stdout",
     "output_type": "stream",
     "text": [
      "\n",
      "Body Measurements:\n",
      "Shoulder Width: 41.8 cm\n",
      "Torso Height: 76.3 cm\n",
      "Chest Width: 37.6 cm\n"
     ]
    },
    {
     "name": "stderr",
     "output_type": "stream",
     "text": [
      "W0000 00:00:1733739435.520291 8490855 inference_feedback_manager.cc:114] Feedback manager requires a model with a single signature inference. Disabling support for feedback tensors.\n",
      "W0000 00:00:1733739435.612861 8490856 inference_feedback_manager.cc:114] Feedback manager requires a model with a single signature inference. Disabling support for feedback tensors.\n",
      " 62%|██████▎   | 15/24 [00:11<00:08,  1.12it/s]"
     ]
    },
    {
     "name": "stdout",
     "output_type": "stream",
     "text": [
      "\n",
      "Body Measurements:\n",
      "Shoulder Width: 51.8 cm\n",
      "Torso Height: 92.1 cm\n",
      "Chest Width: 46.6 cm\n"
     ]
    },
    {
     "name": "stderr",
     "output_type": "stream",
     "text": [
      "I0000 00:00:1733739437.138542 8490209 gl_context.cc:357] GL version: 2.1 (2.1 Metal - 89.3), renderer: Apple M2\n",
      "W0000 00:00:1733739437.271878 8490883 inference_feedback_manager.cc:114] Feedback manager requires a model with a single signature inference. Disabling support for feedback tensors.\n",
      "W0000 00:00:1733739437.369129 8490886 inference_feedback_manager.cc:114] Feedback manager requires a model with a single signature inference. Disabling support for feedback tensors.\n",
      " 67%|██████▋   | 16/24 [00:13<00:08,  1.02s/it]"
     ]
    },
    {
     "name": "stdout",
     "output_type": "stream",
     "text": [
      "\n",
      "Body Measurements:\n",
      "Shoulder Width: 46.0 cm\n",
      "Torso Height: 83.0 cm\n",
      "Chest Width: 41.4 cm\n"
     ]
    },
    {
     "name": "stderr",
     "output_type": "stream",
     "text": [
      "I0000 00:00:1733739438.455053 8490209 gl_context.cc:357] GL version: 2.1 (2.1 Metal - 89.3), renderer: Apple M2\n",
      "W0000 00:00:1733739438.582211 8490913 inference_feedback_manager.cc:114] Feedback manager requires a model with a single signature inference. Disabling support for feedback tensors.\n",
      "W0000 00:00:1733739438.690393 8490913 inference_feedback_manager.cc:114] Feedback manager requires a model with a single signature inference. Disabling support for feedback tensors.\n",
      " 71%|███████   | 17/24 [00:14<00:08,  1.21s/it]"
     ]
    },
    {
     "name": "stdout",
     "output_type": "stream",
     "text": [
      "\n",
      "Body Measurements:\n",
      "Shoulder Width: 52.0 cm\n",
      "Torso Height: 89.7 cm\n",
      "Chest Width: 46.8 cm\n"
     ]
    },
    {
     "name": "stderr",
     "output_type": "stream",
     "text": [
      "I0000 00:00:1733739440.094316 8490209 gl_context.cc:357] GL version: 2.1 (2.1 Metal - 89.3), renderer: Apple M2\n",
      "W0000 00:00:1733739440.208139 8490946 inference_feedback_manager.cc:114] Feedback manager requires a model with a single signature inference. Disabling support for feedback tensors.\n",
      "W0000 00:00:1733739440.295049 8490945 inference_feedback_manager.cc:114] Feedback manager requires a model with a single signature inference. Disabling support for feedback tensors.\n",
      " 75%|███████▌  | 18/24 [00:15<00:05,  1.05it/s]I0000 00:00:1733739440.458455 8490209 gl_context.cc:357] GL version: 2.1 (2.1 Metal - 89.3), renderer: Apple M2\n"
     ]
    },
    {
     "name": "stdout",
     "output_type": "stream",
     "text": [
      "\n",
      "Body Measurements:\n",
      "Shoulder Width: 52.5 cm\n",
      "Torso Height: 90.0 cm\n",
      "Chest Width: 47.3 cm\n"
     ]
    },
    {
     "name": "stderr",
     "output_type": "stream",
     "text": [
      "W0000 00:00:1733739440.568857 8490965 inference_feedback_manager.cc:114] Feedback manager requires a model with a single signature inference. Disabling support for feedback tensors.\n",
      "W0000 00:00:1733739440.646097 8490965 inference_feedback_manager.cc:114] Feedback manager requires a model with a single signature inference. Disabling support for feedback tensors.\n",
      " 79%|███████▉  | 19/24 [00:17<00:06,  1.21s/it]"
     ]
    },
    {
     "name": "stdout",
     "output_type": "stream",
     "text": [
      "\n",
      "Body Measurements:\n",
      "Shoulder Width: 42.2 cm\n",
      "Torso Height: 72.5 cm\n",
      "Chest Width: 38.0 cm\n"
     ]
    },
    {
     "name": "stderr",
     "output_type": "stream",
     "text": [
      "I0000 00:00:1733739442.255456 8490209 gl_context.cc:357] GL version: 2.1 (2.1 Metal - 89.3), renderer: Apple M2\n",
      "W0000 00:00:1733739442.374047 8491004 inference_feedback_manager.cc:114] Feedback manager requires a model with a single signature inference. Disabling support for feedback tensors.\n",
      "W0000 00:00:1733739442.452405 8491004 inference_feedback_manager.cc:114] Feedback manager requires a model with a single signature inference. Disabling support for feedback tensors.\n",
      " 83%|████████▎ | 20/24 [00:18<00:05,  1.36s/it]"
     ]
    },
    {
     "name": "stdout",
     "output_type": "stream",
     "text": [
      "\n",
      "Body Measurements:\n",
      "Shoulder Width: 47.0 cm\n",
      "Torso Height: 86.1 cm\n",
      "Chest Width: 42.3 cm\n"
     ]
    },
    {
     "name": "stderr",
     "output_type": "stream",
     "text": [
      "I0000 00:00:1733739443.972594 8490209 gl_context.cc:357] GL version: 2.1 (2.1 Metal - 89.3), renderer: Apple M2\n",
      "W0000 00:00:1733739444.095141 8491042 inference_feedback_manager.cc:114] Feedback manager requires a model with a single signature inference. Disabling support for feedback tensors.\n",
      "W0000 00:00:1733739444.202162 8491042 inference_feedback_manager.cc:114] Feedback manager requires a model with a single signature inference. Disabling support for feedback tensors.\n",
      " 88%|████████▊ | 21/24 [00:19<00:03,  1.19s/it]"
     ]
    },
    {
     "name": "stdout",
     "output_type": "stream",
     "text": [
      "\n",
      "Body Measurements:\n",
      "Shoulder Width: 44.3 cm\n",
      "Torso Height: 77.7 cm\n",
      "Chest Width: 39.9 cm\n"
     ]
    },
    {
     "name": "stderr",
     "output_type": "stream",
     "text": [
      "I0000 00:00:1733739444.773565 8490209 gl_context.cc:357] GL version: 2.1 (2.1 Metal - 89.3), renderer: Apple M2\n",
      "W0000 00:00:1733739444.911898 8491051 inference_feedback_manager.cc:114] Feedback manager requires a model with a single signature inference. Disabling support for feedback tensors.\n",
      "W0000 00:00:1733739445.055115 8491052 inference_feedback_manager.cc:114] Feedback manager requires a model with a single signature inference. Disabling support for feedback tensors.\n",
      " 92%|█████████▏| 22/24 [00:20<00:02,  1.13s/it]"
     ]
    },
    {
     "name": "stdout",
     "output_type": "stream",
     "text": [
      "\n",
      "Body Measurements:\n",
      "Shoulder Width: 45.7 cm\n",
      "Torso Height: 81.6 cm\n",
      "Chest Width: 41.1 cm\n"
     ]
    },
    {
     "name": "stderr",
     "output_type": "stream",
     "text": [
      "I0000 00:00:1733739445.750392 8490209 gl_context.cc:357] GL version: 2.1 (2.1 Metal - 89.3), renderer: Apple M2\n",
      "W0000 00:00:1733739445.869163 8491072 inference_feedback_manager.cc:114] Feedback manager requires a model with a single signature inference. Disabling support for feedback tensors.\n",
      "W0000 00:00:1733739445.963802 8491072 inference_feedback_manager.cc:114] Feedback manager requires a model with a single signature inference. Disabling support for feedback tensors.\n",
      " 96%|█████████▌| 23/24 [00:21<00:01,  1.00s/it]"
     ]
    },
    {
     "name": "stdout",
     "output_type": "stream",
     "text": [
      "\n",
      "Body Measurements:\n",
      "Shoulder Width: 41.6 cm\n",
      "Torso Height: 76.3 cm\n",
      "Chest Width: 37.4 cm\n"
     ]
    },
    {
     "name": "stderr",
     "output_type": "stream",
     "text": [
      "I0000 00:00:1733739446.455177 8490209 gl_context.cc:357] GL version: 2.1 (2.1 Metal - 89.3), renderer: Apple M2\n",
      "W0000 00:00:1733739446.571721 8491080 inference_feedback_manager.cc:114] Feedback manager requires a model with a single signature inference. Disabling support for feedback tensors.\n",
      "W0000 00:00:1733739446.696379 8491080 inference_feedback_manager.cc:114] Feedback manager requires a model with a single signature inference. Disabling support for feedback tensors.\n",
      "100%|██████████| 24/24 [00:21<00:00,  1.11it/s]"
     ]
    },
    {
     "name": "stdout",
     "output_type": "stream",
     "text": [
      "\n",
      "Body Measurements:\n",
      "Shoulder Width: 41.5 cm\n",
      "Torso Height: 77.5 cm\n",
      "Chest Width: 37.4 cm\n"
     ]
    },
    {
     "name": "stderr",
     "output_type": "stream",
     "text": [
      "\n"
     ]
    }
   ],
   "source": [
    "import torch\n",
    "import json\n",
    "import os\n",
    "from tqdm import tqdm\n",
    "import time\n",
    "\n",
    "# Setup\n",
    "os.environ['TF_CPP_MIN_LOG_LEVEL'] = '3'\n",
    "os.environ['CUDA_VISIBLE_DEVICES'] = ''\n",
    "output_dir = f\"./testing/iter_testing/iter_{str(int(time.time()))}/\"\n",
    "os.makedirs(output_dir, exist_ok=True)\n",
    "\n",
    "# Configure MPS if available\n",
    "if torch.backends.mps.is_available():\n",
    "    torch.device(\"mps\")\n",
    "    torch.mps.set_per_process_memory_fraction(0.7)\n",
    "\n",
    "# Process all rows\n",
    "all_results = {}\n",
    "for idx, row in tqdm(fin_df.iterrows(), total=len(fin_df)):\n",
    "    photo_id = row[\"photo_id\"]\n",
    "    result = {\n",
    "        **BodyMeasurement(\n",
    "            image_path=images_path + photo_id + \".png\",\n",
    "            height_cm=row[\"height\"],\n",
    "            is_silhouette=True\n",
    "        ).execute(),\n",
    "        \"original_measurements\": {\n",
    "            \"shoulder_width\": row[\"shoulder-breadth\"],\n",
    "            \"total_height\": row[\"height\"]\n",
    "        }\n",
    "    }\n",
    "    \n",
    "    with open(os.path.join(output_dir, f\"{photo_id}.json\"), 'w') as f:\n",
    "        json.dump(result, f, indent=4)\n",
    "    all_results[photo_id] = result"
   ]
  },
  {
   "cell_type": "code",
   "execution_count": 20,
   "metadata": {},
   "outputs": [],
   "source": [
    "import os\n",
    "import json\n",
    "import numpy as np\n",
    "\n",
    "data_dir = \"./testing/iter_testing/iter_1733739130/\"\n",
    "ans = {}\n",
    "\n",
    "for filename in os.listdir(data_dir):\n",
    "    if filename.endswith('.json'):\n",
    "        file_path = os.path.join(data_dir, filename)\n",
    "        with open(file_path, 'r') as f:\n",
    "            ans[filename.replace('.json', '')] = json.load(f)"
   ]
  },
  {
   "cell_type": "code",
   "execution_count": 21,
   "metadata": {},
   "outputs": [
    {
     "data": {
      "image/png": "[encoded data removed]",
      "text/plain": [
       "<Figure size 640x480 with 1 Axes>"
      ]
     },
     "metadata": {},
     "output_type": "display_data"
    },
    {
     "name": "stdout",
     "output_type": "stream",
     "text": [
      "Accuracy = 33.97435897435898%\n"
     ]
    }
   ],
   "source": [
    "import matplotlib.pyplot as plt\n",
    "\n",
    "treshold = 2.5\n",
    "\n",
    "photo_ids = []\n",
    "for photo_id, val in ans.items():\n",
    "    if (\"shoulder_width\" in ans[photo_id]):\n",
    "        photo_ids.append(photo_id)\n",
    "predict_vals = [ans[photo_id][\"shoulder_width\"] for photo_id in photo_ids]\n",
    "actual_val = [ans[photo_id][\"original_measurements\"][\"shoulder_width\"] for photo_id in photo_ids]\n",
    "\n",
    "good = 0\n",
    "for a,b in zip(predict_vals, actual_val):\n",
    "    c = abs(a - b)\n",
    "    if (c <= treshold and c >= -treshold):\n",
    "        good += 1\n",
    "accuracy = good / len(photo_ids)\n",
    "\n",
    "plt.scatter(predict_vals, actual_val)\n",
    "line_range = np.linspace(20, 50, 100)\n",
    "plt.plot(line_range, line_range, '--', color='green', label='Perfect prediction')\n",
    "plt.plot(line_range, line_range + 2, '--', color='red', label='+2 threshold')\n",
    "plt.plot(line_range, line_range - 2, '--', color='red', label='-2 threshold')\n",
    "plt.xlim(25, 46)\n",
    "plt.ylim(25, 46)\n",
    "plt.text(32, 47, f'Accuracy = {round(accuracy*100, 2)}%', fontsize=12, bbox=dict(facecolor='white', alpha=0.7))\n",
    "plt.xticks(rotation=90)\n",
    "plt.legend()\n",
    "plt.show()\n",
    "\n",
    "\n",
    "print(f\"Accuracy = {accuracy * 100}%\")"
   ]
  },
  {
   "cell_type": "code",
   "execution_count": 22,
   "metadata": {},
   "outputs": [],
   "source": [
    "import sys\n",
    "sys.path.append('..')\n",
    "from utils import *"
   ]
  },
  {
   "cell_type": "code",
   "execution_count": 25,
   "metadata": {},
   "outputs": [
    {
     "data": {
      "text/plain": [
       "(-1.347326719433601, 23.717948717948715)"
      ]
     },
     "execution_count": 25,
     "metadata": {},
     "output_type": "execute_result"
    }
   ],
   "source": [
    "r2_threshold(np.array(predict_vals), np.array(actual_val))"
   ]
  },
  {
   "cell_type": "code",
   "execution_count": 26,
   "metadata": {},
   "outputs": [
    {
     "data": {
      "text/plain": [
       "(7.09410495325785, 23.717948717948715)"
      ]
     },
     "execution_count": 26,
     "metadata": {},
     "output_type": "execute_result"
    }
   ],
   "source": [
    "rmse_threshold(np.array(predict_vals), np.array(actual_val))"
   ]
  },
  {
   "cell_type": "code",
   "execution_count": 27,
   "metadata": {},
   "outputs": [
    {
     "data": {
      "text/plain": [
       "(5.549066959283291, 23.717948717948715)"
      ]
     },
     "execution_count": 27,
     "metadata": {},
     "output_type": "execute_result"
    }
   ],
   "source": [
    "mae_threshold(np.array(predict_vals), np.array(actual_val))"
   ]
  },
  {
   "cell_type": "code",
   "execution_count": null,
   "metadata": {},
   "outputs": [],
   "source": []
  }
 ],
 "metadata": {
  "kernelspec": {
   "display_name": "tshirt-size",
   "language": "python",
   "name": "python3"
  },
  "language_info": {
   "codemirror_mode": {
    "name": "ipython",
    "version": 3
   },
   "file_extension": ".py",
   "mimetype": "text/x-python",
   "name": "python",
   "nbconvert_exporter": "python",
   "pygments_lexer": "ipython3",
   "version": "3.9.20"
  }
 },
 "nbformat": 4,
 "nbformat_minor": 2
}
