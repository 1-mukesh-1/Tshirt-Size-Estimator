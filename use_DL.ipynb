{
 "cells": [
  {
   "cell_type": "markdown",
   "metadata": {},
   "source": [
    "# DL Model"
   ]
  },
  {
   "cell_type": "code",
   "execution_count": 2,
   "metadata": {},
   "outputs": [],
   "source": [
    "image_path = \"./segmentation_testing/misc_images/kp_pose.jpg\""
   ]
  },
  {
   "cell_type": "code",
   "execution_count": 3,
   "metadata": {},
   "outputs": [],
   "source": [
    "from get_size import suggest_size\n",
    "import sys\n",
    "import os\n",
    "sys.path.append(os.path.dirname(\"body_dim_using_dl/\"))\n",
    "\n",
    "\n",
    "from body_dim_using_dl.model_manager import ModelManager\n",
    "from body_dim_using_dl.data_processor import DataProcessor"
   ]
  },
  {
   "cell_type": "code",
   "execution_count": 4,
   "metadata": {},
   "outputs": [
    {
     "name": "stdout",
     "output_type": "stream",
     "text": [
      "<module 'config' from '/Users/mukesh003/Documents/projects/TShirt Size predictor/5330_Final_codes/segmentation_measurements copy/body_dim_using_dl/config.py'>\n"
     ]
    },
    {
     "name": "stderr",
     "output_type": "stream",
     "text": [
      "WARNING: All log messages before absl::InitializeLog() is called are written to STDERR\n",
      "I0000 00:00:1733837376.992173 9265434 gl_context.cc:357] GL version: 2.1 (2.1 Metal - 89.3), renderer: Apple M2\n",
      "INFO: Created TensorFlow Lite XNNPACK delegate for CPU.\n",
      "W0000 00:00:1733837377.212100 9266196 inference_feedback_manager.cc:114] Feedback manager requires a model with a single signature inference. Disabling support for feedback tensors.\n",
      "W0000 00:00:1733837377.359975 9266201 inference_feedback_manager.cc:114] Feedback manager requires a model with a single signature inference. Disabling support for feedback tensors.\n"
     ]
    },
    {
     "name": "stdout",
     "output_type": "stream",
     "text": [
      "\n",
      "\n",
      "\n",
      "shoulder-breadth: 41.69 cm\n"
     ]
    },
    {
     "name": "stderr",
     "output_type": "stream",
     "text": [
      "W0000 00:00:1733837377.637411 9266196 landmark_projection_calculator.cc:186] Using NORM_RECT without IMAGE_DIMENSIONS is only supported for the square ROI. Provide IMAGE_DIMENSIONS or use PROJECTION_MATRIX.\n"
     ]
    }
   ],
   "source": [
    "model_manager = ModelManager()\n",
    "data_processor = DataProcessor()\n",
    "\n",
    "model_path = \"./body_dim_using_dl/best_model.pth\"\n",
    "model_manager.load_model(model_path)\n",
    "height_cm = 181\n",
    "\n",
    "landmarks = data_processor.process_image(image_path)\n",
    "predictions = model_manager.predict(landmarks, height_cm)\n",
    "\n",
    "val = predictions['shoulder-breadth']\n",
    "print(f\"\\n\\n\\nshoulder-breadth: {predictions['shoulder-breadth']:.2f} cm\")"
   ]
  },
  {
   "cell_type": "code",
   "execution_count": 5,
   "metadata": {},
   "outputs": [],
   "source": [
    "sys.path.remove(\"body_dim_using_dl\")"
   ]
  },
  {
   "cell_type": "code",
   "execution_count": 6,
   "metadata": {},
   "outputs": [
    {
     "name": "stdout",
     "output_type": "stream",
     "text": [
      "Size: S\n"
     ]
    }
   ],
   "source": [
    "print(\"Size:\",suggest_size(val))"
   ]
  }
 ],
 "metadata": {
  "kernelspec": {
   "display_name": "tshirt-size",
   "language": "python",
   "name": "python3"
  },
  "language_info": {
   "codemirror_mode": {
    "name": "ipython",
    "version": 3
   },
   "file_extension": ".py",
   "mimetype": "text/x-python",
   "name": "python",
   "nbconvert_exporter": "python",
   "pygments_lexer": "ipython3",
   "version": "3.9.20"
  }
 },
 "nbformat": 4,
 "nbformat_minor": 2
}
