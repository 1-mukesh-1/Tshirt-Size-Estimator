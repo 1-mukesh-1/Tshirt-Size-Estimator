{
 "cells": [
  {
   "cell_type": "markdown",
   "metadata": {},
   "source": [
    "# Testing"
   ]
  },
  {
   "cell_type": "code",
   "execution_count": 1,
   "metadata": {},
   "outputs": [],
   "source": [
    "import pandas as pd\n",
    "import random\n",
    "import os"
   ]
  },
  {
   "cell_type": "code",
   "execution_count": 2,
   "metadata": {},
   "outputs": [],
   "source": [
    "def generate_df(base_path):\n",
    "    subject_map_path = base_path + \"subject_to_photo_map.csv\"\n",
    "    mes_path = base_path + \"measurements.csv\"\n",
    "    metadata_path = base_path + \"hwg_metadata.csv\"\n",
    "    subject_df = pd.read_csv(subject_map_path)\n",
    "    mes_df = pd.read_csv(mes_path)\n",
    "    metadata_df = pd.read_csv(metadata_path)\n",
    "    images_path = base_path + 'mask/'\n",
    "    fin_df = mes_df.merge(subject_df, on='subject_id', how='left')\n",
    "    fin_df = fin_df.merge(metadata_df, on='subject_id', how='left')\n",
    "    fin_df = fin_df[fin_df[\"gender\"] == \"male\"]\n",
    "    fin_df = fin_df.groupby('subject_id').apply(lambda x: x.iloc[random.randint(0, len(x)-1)]).reset_index(drop=True)\n",
    "    fin_df[\"image_path\"] = images_path + fin_df[\"photo_id\"] + \".png\"\n",
    "    \n",
    "    # PCT1 = 50\n",
    "    # fin_df = fin_df.loc[:int((len(fin_df)*PCT1)/100)]\n",
    "\n",
    "    # image_folder = \"/Users/mukesh003/Documents/projects/TShirt Size predictor/5330_Final_codes/segmentation_measurements/segmentation_testing/test1/2d_models_male\"\n",
    "    # metadata_folder = \"/Users/mukesh003/Documents/projects/TShirt Size predictor/5330_Final_codes/segmentation_measurements/segmentation_testing/test1/TC2_Male_Txt\"\n",
    "    # def create_measurements_df(image_folder_path, metadata_folder_path):\n",
    "    #     \"\"\"\n",
    "    #     Creates a pandas DataFrame from measurement text files with corresponding image files.\n",
    "        \n",
    "    #     Parameters:\n",
    "    #     image_folder_path: str - Path to folder containing image files\n",
    "    #     metadata_folder_path: str - Path to folder containing measurement text files\n",
    "        \n",
    "    #     Returns:\n",
    "    #     pandas DataFrame with measurements data\n",
    "    #     \"\"\"\n",
    "    #     # List to store all measurements\n",
    "    #     all_measurements = []\n",
    "        \n",
    "    #     # Get all files in the metadata folder\n",
    "    #     try:\n",
    "    #         txt_files = [f for f in os.listdir(metadata_folder_path) if f.endswith('.txt')]\n",
    "    #     except Exception as e:\n",
    "    #         print(f\"Error reading directory: {e}\")\n",
    "    #         return pd.DataFrame()\n",
    "\n",
    "    #     for txt_file in txt_files:\n",
    "    #         file_path = txt_file\n",
    "    #         # Get the base filename without extension\n",
    "    #         object_name = os.path.splitext(txt_file)[0]\n",
    "            \n",
    "    #         # Initialize measurements dictionary\n",
    "    #         measurements_dict = {\"file_name\": object_name, \"file_path\": file_path}\n",
    "            \n",
    "    #         try:\n",
    "    #             with open(os.path.join(metadata_folder_path, txt_file), 'r') as f:\n",
    "    #                 for line in f:\n",
    "    #                     line = line.strip()\n",
    "    #                     if not line:  # Skip empty lines\n",
    "    #                         continue\n",
    "                            \n",
    "    #                     try:\n",
    "    #                         if line.startswith(\"OPTION\"):\n",
    "    #                             # Handle the OPTION UNITS line\n",
    "    #                             parts = line.split('=')\n",
    "    #                             if len(parts) == 2:\n",
    "    #                                 measurements_dict[\"OPTION_UNITS\"] = parts[1].strip()\n",
    "    #                         elif line.startswith(\"MEASURE\"):\n",
    "    #                             # Split the measurement line into name and value\n",
    "    #                             parts = line.split('=')\n",
    "    #                             if len(parts) == 2:\n",
    "    #                                 measurement_name = parts[0].replace('MEASURE ', '').strip()\n",
    "    #                                 measurement_value = parts[1].strip()\n",
    "    #                                 if \"Error\" not in measurement_value:\n",
    "    #                                     try:\n",
    "    #                                         measurements_dict[measurement_name] = float(measurement_value)\n",
    "    #                                     except ValueError:\n",
    "    #                                         measurements_dict[measurement_name] = None\n",
    "    #                                 else:\n",
    "    #                                     measurements_dict[measurement_name] = None\n",
    "    #                     except Exception as e:\n",
    "    #                         print(f\"Error processing line in file {txt_file}: {line}\")\n",
    "    #                         continue\n",
    "    #             image_exists = any(\n",
    "    #                 os.path.exists(os.path.join(image_folder_path, f\"{object_name}.{ext}\"))\n",
    "    #                 for ext in ['jpg', 'jpeg', 'png', 'bmp']\n",
    "    #             )\n",
    "    #             if image_exists:\n",
    "    #                 all_measurements.append(measurements_dict)\n",
    "    #         except Exception as e:\n",
    "    #             print(f\"Error processing file {txt_file}: {e}\")\n",
    "    #             continue\n",
    "    #     if not all_measurements:\n",
    "    #         print(\"No valid measurements found\")\n",
    "    #         return pd.DataFrame()\n",
    "    #     df = pd.DataFrame(all_measurements)\n",
    "    #     cols = ['file_name', 'OPTION_UNITS'] + [col for col in df.columns if col not in ['file_name', 'OPTION_UNITS']]\n",
    "    #     df = df[cols]\n",
    "        \n",
    "    #     return df\n",
    "\n",
    "    # image_folder = \"/Users/mukesh003/Documents/projects/TShirt Size predictor/5330_Final_codes/segmentation_measurements/segmentation_testing/test1/2d_models_male/\"\n",
    "    # df = create_measurements_df(image_folder, metadata_folder)\n",
    "    # PCT_VAL = 100\n",
    "    # tmp_len = int(len(df) * (PCT_VAL / 100))\n",
    "    # for i in range(tmp_len):\n",
    "    #     new_row = {\n",
    "    #         \"image_path\": image_folder + df.loc[i][\"file_name\"] + \".png\",\n",
    "    #         \"shoulder-breadth\": df.loc[i][\"Shoulder_Width_thruTheBody\"],\n",
    "    #         \"chest\": df.loc[i][\"CHEST_Circ\"],\n",
    "    #         \"shoulder-to-crotch\": df.loc[i][\"CrotchLength_Back\"],\n",
    "    #         \"height_cm\": df.loc[i][\"Head_Top_Height\"]\n",
    "\n",
    "    #     }\n",
    "    #     fin_df = pd.concat([fin_df, pd.DataFrame([new_row])], ignore_index=True)\n",
    "\n",
    "    return fin_df"
   ]
  },
  {
   "cell_type": "code",
   "execution_count": 11,
   "metadata": {},
   "outputs": [
    {
     "name": "stderr",
     "output_type": "stream",
     "text": [
      "/var/folders/2b/106xnqt95zj_l1lwlcqwj1p80000gn/T/ipykernel_38367/709675913.py:12: DeprecationWarning: DataFrameGroupBy.apply operated on the grouping columns. This behavior is deprecated, and in a future version of pandas the grouping columns will be excluded from the operation. Either pass `include_groups=False` to exclude the groupings or explicitly select the grouping columns after groupby to silence this warning.\n",
      "  fin_df = fin_df.groupby('subject_id').apply(lambda x: x.iloc[random.randint(0, len(x)-1)]).reset_index(drop=True)\n"
     ]
    }
   ],
   "source": [
    "generate_df(\"../segmentation_testing/test2/train/\").to_csv(f\"measurements-train-del.csv\")"
   ]
  },
  {
   "cell_type": "code",
   "execution_count": 4,
   "metadata": {},
   "outputs": [
    {
     "name": "stderr",
     "output_type": "stream",
     "text": [
      "/var/folders/2b/106xnqt95zj_l1lwlcqwj1p80000gn/T/ipykernel_38367/709675913.py:12: DeprecationWarning: DataFrameGroupBy.apply operated on the grouping columns. This behavior is deprecated, and in a future version of pandas the grouping columns will be excluded from the operation. Either pass `include_groups=False` to exclude the groupings or explicitly select the grouping columns after groupby to silence this warning.\n",
      "  fin_df = fin_df.groupby('subject_id').apply(lambda x: x.iloc[random.randint(0, len(x)-1)]).reset_index(drop=True)\n"
     ]
    }
   ],
   "source": [
    "generate_df(\"../segmentation_testing/test2/testA/\").to_csv(f\"measurements-test.csv\")"
   ]
  },
  {
   "cell_type": "code",
   "execution_count": 5,
   "metadata": {},
   "outputs": [
    {
     "name": "stderr",
     "output_type": "stream",
     "text": [
      "/var/folders/2b/106xnqt95zj_l1lwlcqwj1p80000gn/T/ipykernel_38367/709675913.py:12: DeprecationWarning: DataFrameGroupBy.apply operated on the grouping columns. This behavior is deprecated, and in a future version of pandas the grouping columns will be excluded from the operation. Either pass `include_groups=False` to exclude the groupings or explicitly select the grouping columns after groupby to silence this warning.\n",
      "  fin_df = fin_df.groupby('subject_id').apply(lambda x: x.iloc[random.randint(0, len(x)-1)]).reset_index(drop=True)\n"
     ]
    }
   ],
   "source": [
    "generate_df(\"../segmentation_testing/test2/testB/\").to_csv(f\"measurements-test-2.csv\")"
   ]
  },
  {
   "cell_type": "code",
   "execution_count": 6,
   "metadata": {},
   "outputs": [
    {
     "name": "stderr",
     "output_type": "stream",
     "text": [
      "WARNING: All log messages before absl::InitializeLog() is called are written to STDERR\n",
      "I0000 00:00:1733802578.985224 8793035 gl_context.cc:357] GL version: 2.1 (2.1 Metal - 89.3), renderer: Apple M2\n"
     ]
    }
   ],
   "source": [
    "from data_processor import DataProcessor\n",
    "from model_manager import ModelManager\n",
    "import config as cfg\n",
    "\n",
    "processor = DataProcessor()\n",
    "model_manager = ModelManager()"
   ]
  },
  {
   "cell_type": "code",
   "execution_count": 7,
   "metadata": {},
   "outputs": [
    {
     "name": "stderr",
     "output_type": "stream",
     "text": [
      "INFO: Created TensorFlow Lite XNNPACK delegate for CPU.\n",
      "Processing images:   0%|          | 0/1218 [00:00<?, ?it/s]W0000 00:00:1733802579.212776 8793512 inference_feedback_manager.cc:114] Feedback manager requires a model with a single signature inference. Disabling support for feedback tensors.\n",
      "W0000 00:00:1733802579.312148 8793512 inference_feedback_manager.cc:114] Feedback manager requires a model with a single signature inference. Disabling support for feedback tensors.\n",
      "W0000 00:00:1733802579.429718 8793507 landmark_projection_calculator.cc:186] Using NORM_RECT without IMAGE_DIMENSIONS is only supported for the square ROI. Provide IMAGE_DIMENSIONS or use PROJECTION_MATRIX.\n",
      "Processing images: 100%|██████████| 1218/1218 [02:53<00:00,  7.02it/s]\n"
     ]
    },
    {
     "name": "stdout",
     "output_type": "stream",
     "text": [
      "\n",
      "Processing complete!\n",
      "Successfully processed: 1218 images\n",
      "Failed: 0 images\n"
     ]
    },
    {
     "name": "stderr",
     "output_type": "stream",
     "text": [
      "/opt/anaconda3/envs/tshirt-size/lib/python3.9/site-packages/tqdm/auto.py:21: TqdmWarning: IProgress not found. Please update jupyter and ipywidgets. See https://ipywidgets.readthedocs.io/en/stable/user_install.html\n",
      "  from .autonotebook import tqdm as notebook_tqdm\n",
      "Epoch 1/150: 100%|██████████| 122/122 [00:00<00:00, 206.65it/s]\n"
     ]
    },
    {
     "name": "stdout",
     "output_type": "stream",
     "text": [
      "\n",
      "Epoch 1/150:\n",
      "Training Loss: 2.2706\n",
      "Validation Loss: 1.9702\n",
      "\n",
      "Validation Errors:\n",
      "shoulder-breadth: 0.8233\n",
      "chest: 0.7797\n"
     ]
    },
    {
     "name": "stderr",
     "output_type": "stream",
     "text": [
      "Epoch 2/150: 100%|██████████| 122/122 [00:00<00:00, 324.74it/s]\n"
     ]
    },
    {
     "name": "stdout",
     "output_type": "stream",
     "text": [
      "\n",
      "Epoch 2/150:\n",
      "Training Loss: 2.1779\n",
      "Validation Loss: 1.9569\n",
      "\n",
      "Validation Errors:\n",
      "shoulder-breadth: 0.8210\n",
      "chest: 0.7778\n"
     ]
    },
    {
     "name": "stderr",
     "output_type": "stream",
     "text": [
      "Epoch 3/150: 100%|██████████| 122/122 [00:00<00:00, 330.12it/s]\n"
     ]
    },
    {
     "name": "stdout",
     "output_type": "stream",
     "text": [
      "\n",
      "Epoch 3/150:\n",
      "Training Loss: 2.0904\n",
      "Validation Loss: 1.9076\n",
      "\n",
      "Validation Errors:\n",
      "shoulder-breadth: 0.8074\n",
      "chest: 0.7619\n"
     ]
    },
    {
     "name": "stderr",
     "output_type": "stream",
     "text": [
      "Epoch 4/150: 100%|██████████| 122/122 [00:00<00:00, 249.56it/s]\n"
     ]
    },
    {
     "name": "stdout",
     "output_type": "stream",
     "text": [
      "\n",
      "Epoch 4/150:\n",
      "Training Loss: 2.0671\n",
      "Validation Loss: 1.8818\n",
      "\n",
      "Validation Errors:\n",
      "shoulder-breadth: 0.8057\n",
      "chest: 0.7587\n"
     ]
    },
    {
     "name": "stderr",
     "output_type": "stream",
     "text": [
      "Epoch 5/150: 100%|██████████| 122/122 [00:00<00:00, 312.31it/s]\n"
     ]
    },
    {
     "name": "stdout",
     "output_type": "stream",
     "text": [
      "\n",
      "Epoch 5/150:\n",
      "Training Loss: 2.0725\n",
      "Validation Loss: 1.8779\n",
      "\n",
      "Validation Errors:\n",
      "shoulder-breadth: 0.8022\n",
      "chest: 0.7588\n"
     ]
    },
    {
     "name": "stderr",
     "output_type": "stream",
     "text": [
      "Epoch 6/150: 100%|██████████| 122/122 [00:00<00:00, 284.15it/s]\n"
     ]
    },
    {
     "name": "stdout",
     "output_type": "stream",
     "text": [
      "\n",
      "Epoch 6/150:\n",
      "Training Loss: 2.0274\n",
      "Validation Loss: 1.8608\n",
      "\n",
      "Validation Errors:\n",
      "shoulder-breadth: 0.8014\n",
      "chest: 0.7542\n"
     ]
    },
    {
     "name": "stderr",
     "output_type": "stream",
     "text": [
      "Epoch 7/150: 100%|██████████| 122/122 [00:00<00:00, 308.71it/s]\n"
     ]
    },
    {
     "name": "stdout",
     "output_type": "stream",
     "text": [
      "\n",
      "Epoch 7/150:\n",
      "Training Loss: 2.0286\n",
      "Validation Loss: 1.8563\n",
      "\n",
      "Validation Errors:\n",
      "shoulder-breadth: 0.7995\n",
      "chest: 0.7550\n"
     ]
    },
    {
     "name": "stderr",
     "output_type": "stream",
     "text": [
      "Epoch 8/150: 100%|██████████| 122/122 [00:00<00:00, 341.11it/s]\n"
     ]
    },
    {
     "name": "stdout",
     "output_type": "stream",
     "text": [
      "\n",
      "Epoch 8/150:\n",
      "Training Loss: 2.0078\n",
      "Validation Loss: 1.8539\n",
      "\n",
      "Validation Errors:\n",
      "shoulder-breadth: 0.7996\n",
      "chest: 0.7562\n"
     ]
    },
    {
     "name": "stderr",
     "output_type": "stream",
     "text": [
      "Epoch 9/150: 100%|██████████| 122/122 [00:00<00:00, 348.12it/s]\n"
     ]
    },
    {
     "name": "stdout",
     "output_type": "stream",
     "text": [
      "\n",
      "Epoch 9/150:\n",
      "Training Loss: 1.9651\n",
      "Validation Loss: 1.8458\n",
      "\n",
      "Validation Errors:\n",
      "shoulder-breadth: 0.7979\n",
      "chest: 0.7472\n"
     ]
    },
    {
     "name": "stderr",
     "output_type": "stream",
     "text": [
      "Epoch 10/150: 100%|██████████| 122/122 [00:00<00:00, 335.07it/s]\n"
     ]
    },
    {
     "name": "stdout",
     "output_type": "stream",
     "text": [
      "\n",
      "Epoch 10/150:\n",
      "Training Loss: 1.9905\n",
      "Validation Loss: 1.8363\n",
      "\n",
      "Validation Errors:\n",
      "shoulder-breadth: 0.7964\n",
      "chest: 0.7536\n"
     ]
    },
    {
     "name": "stderr",
     "output_type": "stream",
     "text": [
      "Epoch 11/150: 100%|██████████| 122/122 [00:00<00:00, 306.17it/s]\n"
     ]
    },
    {
     "name": "stdout",
     "output_type": "stream",
     "text": [
      "\n",
      "Epoch 11/150:\n",
      "Training Loss: 1.9878\n",
      "Validation Loss: 1.7967\n",
      "\n",
      "Validation Errors:\n",
      "shoulder-breadth: 0.7837\n",
      "chest: 0.7441\n"
     ]
    },
    {
     "name": "stderr",
     "output_type": "stream",
     "text": [
      "Epoch 12/150: 100%|██████████| 122/122 [00:00<00:00, 235.29it/s]\n"
     ]
    },
    {
     "name": "stdout",
     "output_type": "stream",
     "text": [
      "\n",
      "Epoch 12/150:\n",
      "Training Loss: 1.9542\n",
      "Validation Loss: 1.7849\n",
      "\n",
      "Validation Errors:\n",
      "shoulder-breadth: 0.7817\n",
      "chest: 0.7354\n"
     ]
    },
    {
     "name": "stderr",
     "output_type": "stream",
     "text": [
      "Epoch 13/150: 100%|██████████| 122/122 [00:00<00:00, 209.76it/s]\n"
     ]
    },
    {
     "name": "stdout",
     "output_type": "stream",
     "text": [
      "\n",
      "Epoch 13/150:\n",
      "Training Loss: 1.9375\n",
      "Validation Loss: 1.8246\n",
      "\n",
      "Validation Errors:\n",
      "shoulder-breadth: 0.7966\n",
      "chest: 0.7383\n"
     ]
    },
    {
     "name": "stderr",
     "output_type": "stream",
     "text": [
      "Epoch 14/150: 100%|██████████| 122/122 [00:00<00:00, 288.32it/s]\n"
     ]
    },
    {
     "name": "stdout",
     "output_type": "stream",
     "text": [
      "\n",
      "Epoch 14/150:\n",
      "Training Loss: 1.9641\n",
      "Validation Loss: 1.7979\n",
      "\n",
      "Validation Errors:\n",
      "shoulder-breadth: 0.7799\n",
      "chest: 0.7456\n"
     ]
    },
    {
     "name": "stderr",
     "output_type": "stream",
     "text": [
      "Epoch 15/150: 100%|██████████| 122/122 [00:00<00:00, 365.88it/s]\n"
     ]
    },
    {
     "name": "stdout",
     "output_type": "stream",
     "text": [
      "\n",
      "Epoch 15/150:\n",
      "Training Loss: 1.9354\n",
      "Validation Loss: 1.7504\n",
      "\n",
      "Validation Errors:\n",
      "shoulder-breadth: 0.7687\n",
      "chest: 0.7366\n"
     ]
    },
    {
     "name": "stderr",
     "output_type": "stream",
     "text": [
      "Epoch 16/150: 100%|██████████| 122/122 [00:00<00:00, 282.72it/s]\n"
     ]
    },
    {
     "name": "stdout",
     "output_type": "stream",
     "text": [
      "\n",
      "Epoch 16/150:\n",
      "Training Loss: 1.8965\n",
      "Validation Loss: 1.7618\n",
      "\n",
      "Validation Errors:\n",
      "shoulder-breadth: 0.7752\n",
      "chest: 0.7321\n"
     ]
    },
    {
     "name": "stderr",
     "output_type": "stream",
     "text": [
      "Epoch 17/150: 100%|██████████| 122/122 [00:00<00:00, 352.87it/s]\n"
     ]
    },
    {
     "name": "stdout",
     "output_type": "stream",
     "text": [
      "\n",
      "Epoch 17/150:\n",
      "Training Loss: 1.9034\n",
      "Validation Loss: 1.7269\n",
      "\n",
      "Validation Errors:\n",
      "shoulder-breadth: 0.7640\n",
      "chest: 0.7316\n"
     ]
    },
    {
     "name": "stderr",
     "output_type": "stream",
     "text": [
      "Epoch 18/150: 100%|██████████| 122/122 [00:00<00:00, 305.60it/s]\n"
     ]
    },
    {
     "name": "stdout",
     "output_type": "stream",
     "text": [
      "\n",
      "Epoch 18/150:\n",
      "Training Loss: 1.8841\n",
      "Validation Loss: 1.7331\n",
      "\n",
      "Validation Errors:\n",
      "shoulder-breadth: 0.7649\n",
      "chest: 0.7291\n"
     ]
    },
    {
     "name": "stderr",
     "output_type": "stream",
     "text": [
      "Epoch 19/150: 100%|██████████| 122/122 [00:00<00:00, 315.72it/s]\n"
     ]
    },
    {
     "name": "stdout",
     "output_type": "stream",
     "text": [
      "\n",
      "Epoch 19/150:\n",
      "Training Loss: 1.9015\n",
      "Validation Loss: 1.7001\n",
      "\n",
      "Validation Errors:\n",
      "shoulder-breadth: 0.7587\n",
      "chest: 0.7193\n"
     ]
    },
    {
     "name": "stderr",
     "output_type": "stream",
     "text": [
      "Epoch 20/150: 100%|██████████| 122/122 [00:00<00:00, 296.06it/s]\n"
     ]
    },
    {
     "name": "stdout",
     "output_type": "stream",
     "text": [
      "\n",
      "Epoch 20/150:\n",
      "Training Loss: 1.8008\n",
      "Validation Loss: 1.6943\n",
      "\n",
      "Validation Errors:\n",
      "shoulder-breadth: 0.7552\n",
      "chest: 0.7221\n"
     ]
    },
    {
     "name": "stderr",
     "output_type": "stream",
     "text": [
      "Epoch 21/150: 100%|██████████| 122/122 [00:00<00:00, 322.01it/s]\n"
     ]
    },
    {
     "name": "stdout",
     "output_type": "stream",
     "text": [
      "\n",
      "Epoch 21/150:\n",
      "Training Loss: 1.8147\n",
      "Validation Loss: 1.6523\n",
      "\n",
      "Validation Errors:\n",
      "shoulder-breadth: 0.7446\n",
      "chest: 0.7064\n"
     ]
    },
    {
     "name": "stderr",
     "output_type": "stream",
     "text": [
      "Epoch 22/150: 100%|██████████| 122/122 [00:00<00:00, 295.42it/s]\n"
     ]
    },
    {
     "name": "stdout",
     "output_type": "stream",
     "text": [
      "\n",
      "Epoch 22/150:\n",
      "Training Loss: 1.8319\n",
      "Validation Loss: 1.7379\n",
      "\n",
      "Validation Errors:\n",
      "shoulder-breadth: 0.7687\n",
      "chest: 0.7212\n"
     ]
    },
    {
     "name": "stderr",
     "output_type": "stream",
     "text": [
      "Epoch 23/150: 100%|██████████| 122/122 [00:00<00:00, 330.16it/s]\n"
     ]
    },
    {
     "name": "stdout",
     "output_type": "stream",
     "text": [
      "\n",
      "Epoch 23/150:\n",
      "Training Loss: 1.7995\n",
      "Validation Loss: 1.6118\n",
      "\n",
      "Validation Errors:\n",
      "shoulder-breadth: 0.7324\n",
      "chest: 0.7002\n"
     ]
    },
    {
     "name": "stderr",
     "output_type": "stream",
     "text": [
      "Epoch 24/150: 100%|██████████| 122/122 [00:00<00:00, 303.53it/s]\n"
     ]
    },
    {
     "name": "stdout",
     "output_type": "stream",
     "text": [
      "\n",
      "Epoch 24/150:\n",
      "Training Loss: 1.7889\n",
      "Validation Loss: 1.5339\n",
      "\n",
      "Validation Errors:\n",
      "shoulder-breadth: 0.7118\n",
      "chest: 0.6860\n"
     ]
    },
    {
     "name": "stderr",
     "output_type": "stream",
     "text": [
      "Epoch 25/150: 100%|██████████| 122/122 [00:00<00:00, 321.46it/s]\n"
     ]
    },
    {
     "name": "stdout",
     "output_type": "stream",
     "text": [
      "\n",
      "Epoch 25/150:\n",
      "Training Loss: 1.8066\n",
      "Validation Loss: 1.6022\n",
      "\n",
      "Validation Errors:\n",
      "shoulder-breadth: 0.7287\n",
      "chest: 0.6934\n"
     ]
    },
    {
     "name": "stderr",
     "output_type": "stream",
     "text": [
      "Epoch 26/150: 100%|██████████| 122/122 [00:00<00:00, 316.62it/s]\n"
     ]
    },
    {
     "name": "stdout",
     "output_type": "stream",
     "text": [
      "\n",
      "Epoch 26/150:\n",
      "Training Loss: 1.7462\n",
      "Validation Loss: 1.5276\n",
      "\n",
      "Validation Errors:\n",
      "shoulder-breadth: 0.7016\n",
      "chest: 0.6827\n"
     ]
    },
    {
     "name": "stderr",
     "output_type": "stream",
     "text": [
      "Epoch 27/150: 100%|██████████| 122/122 [00:00<00:00, 249.88it/s]\n"
     ]
    },
    {
     "name": "stdout",
     "output_type": "stream",
     "text": [
      "\n",
      "Epoch 27/150:\n",
      "Training Loss: 1.7948\n",
      "Validation Loss: 1.7054\n",
      "\n",
      "Validation Errors:\n",
      "shoulder-breadth: 0.7490\n",
      "chest: 0.7200\n"
     ]
    },
    {
     "name": "stderr",
     "output_type": "stream",
     "text": [
      "Epoch 28/150: 100%|██████████| 122/122 [00:00<00:00, 190.78it/s]\n"
     ]
    },
    {
     "name": "stdout",
     "output_type": "stream",
     "text": [
      "\n",
      "Epoch 28/150:\n",
      "Training Loss: 1.7342\n",
      "Validation Loss: 1.5927\n",
      "\n",
      "Validation Errors:\n",
      "shoulder-breadth: 0.7267\n",
      "chest: 0.7018\n"
     ]
    },
    {
     "name": "stderr",
     "output_type": "stream",
     "text": [
      "Epoch 29/150: 100%|██████████| 122/122 [00:00<00:00, 190.17it/s]\n"
     ]
    },
    {
     "name": "stdout",
     "output_type": "stream",
     "text": [
      "\n",
      "Epoch 29/150:\n",
      "Training Loss: 1.8302\n",
      "Validation Loss: 1.6283\n",
      "\n",
      "Validation Errors:\n",
      "shoulder-breadth: 0.7294\n",
      "chest: 0.7122\n"
     ]
    },
    {
     "name": "stderr",
     "output_type": "stream",
     "text": [
      "Epoch 30/150: 100%|██████████| 122/122 [00:00<00:00, 300.25it/s]\n"
     ]
    },
    {
     "name": "stdout",
     "output_type": "stream",
     "text": [
      "\n",
      "Epoch 30/150:\n",
      "Training Loss: 1.7876\n",
      "Validation Loss: 1.5671\n",
      "\n",
      "Validation Errors:\n",
      "shoulder-breadth: 0.7074\n",
      "chest: 0.6936\n"
     ]
    },
    {
     "name": "stderr",
     "output_type": "stream",
     "text": [
      "Epoch 31/150: 100%|██████████| 122/122 [00:00<00:00, 281.00it/s]\n"
     ]
    },
    {
     "name": "stdout",
     "output_type": "stream",
     "text": [
      "\n",
      "Epoch 31/150:\n",
      "Training Loss: 1.7220\n",
      "Validation Loss: 1.5186\n",
      "\n",
      "Validation Errors:\n",
      "shoulder-breadth: 0.7061\n",
      "chest: 0.6883\n"
     ]
    },
    {
     "name": "stderr",
     "output_type": "stream",
     "text": [
      "Epoch 32/150: 100%|██████████| 122/122 [00:00<00:00, 333.89it/s]\n"
     ]
    },
    {
     "name": "stdout",
     "output_type": "stream",
     "text": [
      "\n",
      "Epoch 32/150:\n",
      "Training Loss: 1.6750\n",
      "Validation Loss: 1.5509\n",
      "\n",
      "Validation Errors:\n",
      "shoulder-breadth: 0.7135\n",
      "chest: 0.6855\n"
     ]
    },
    {
     "name": "stderr",
     "output_type": "stream",
     "text": [
      "Epoch 33/150: 100%|██████████| 122/122 [00:00<00:00, 322.34it/s]\n"
     ]
    },
    {
     "name": "stdout",
     "output_type": "stream",
     "text": [
      "\n",
      "Epoch 33/150:\n",
      "Training Loss: 1.7150\n",
      "Validation Loss: 1.5925\n",
      "\n",
      "Validation Errors:\n",
      "shoulder-breadth: 0.7223\n",
      "chest: 0.7000\n"
     ]
    },
    {
     "name": "stderr",
     "output_type": "stream",
     "text": [
      "Epoch 34/150: 100%|██████████| 122/122 [00:00<00:00, 329.65it/s]\n"
     ]
    },
    {
     "name": "stdout",
     "output_type": "stream",
     "text": [
      "\n",
      "Epoch 34/150:\n",
      "Training Loss: 1.7199\n",
      "Validation Loss: 1.6478\n",
      "\n",
      "Validation Errors:\n",
      "shoulder-breadth: 0.7357\n",
      "chest: 0.7070\n"
     ]
    },
    {
     "name": "stderr",
     "output_type": "stream",
     "text": [
      "Epoch 35/150: 100%|██████████| 122/122 [00:00<00:00, 298.07it/s]\n"
     ]
    },
    {
     "name": "stdout",
     "output_type": "stream",
     "text": [
      "\n",
      "Epoch 35/150:\n",
      "Training Loss: 1.6826\n",
      "Validation Loss: 1.6272\n",
      "\n",
      "Validation Errors:\n",
      "shoulder-breadth: 0.7289\n",
      "chest: 0.7064\n"
     ]
    },
    {
     "name": "stderr",
     "output_type": "stream",
     "text": [
      "Epoch 36/150: 100%|██████████| 122/122 [00:00<00:00, 309.65it/s]\n"
     ]
    },
    {
     "name": "stdout",
     "output_type": "stream",
     "text": [
      "\n",
      "Epoch 36/150:\n",
      "Training Loss: 1.6998\n",
      "Validation Loss: 1.6528\n",
      "\n",
      "Validation Errors:\n",
      "shoulder-breadth: 0.7375\n",
      "chest: 0.7083\n"
     ]
    },
    {
     "name": "stderr",
     "output_type": "stream",
     "text": [
      "Epoch 37/150: 100%|██████████| 122/122 [00:00<00:00, 331.12it/s]\n"
     ]
    },
    {
     "name": "stdout",
     "output_type": "stream",
     "text": [
      "\n",
      "Epoch 37/150:\n",
      "Training Loss: 1.7347\n",
      "Validation Loss: 1.7010\n",
      "\n",
      "Validation Errors:\n",
      "shoulder-breadth: 0.7510\n",
      "chest: 0.7231\n"
     ]
    },
    {
     "name": "stderr",
     "output_type": "stream",
     "text": [
      "Epoch 38/150: 100%|██████████| 122/122 [00:00<00:00, 348.06it/s]\n"
     ]
    },
    {
     "name": "stdout",
     "output_type": "stream",
     "text": [
      "\n",
      "Epoch 38/150:\n",
      "Training Loss: 1.7398\n",
      "Validation Loss: 1.5041\n",
      "\n",
      "Validation Errors:\n",
      "shoulder-breadth: 0.7020\n",
      "chest: 0.6761\n"
     ]
    },
    {
     "name": "stderr",
     "output_type": "stream",
     "text": [
      "Epoch 39/150: 100%|██████████| 122/122 [00:00<00:00, 309.46it/s]\n"
     ]
    },
    {
     "name": "stdout",
     "output_type": "stream",
     "text": [
      "\n",
      "Epoch 39/150:\n",
      "Training Loss: 1.6426\n",
      "Validation Loss: 1.5368\n",
      "\n",
      "Validation Errors:\n",
      "shoulder-breadth: 0.7078\n",
      "chest: 0.6843\n"
     ]
    },
    {
     "name": "stderr",
     "output_type": "stream",
     "text": [
      "Epoch 40/150: 100%|██████████| 122/122 [00:00<00:00, 291.90it/s]\n"
     ]
    },
    {
     "name": "stdout",
     "output_type": "stream",
     "text": [
      "\n",
      "Epoch 40/150:\n",
      "Training Loss: 1.6512\n",
      "Validation Loss: 1.4778\n",
      "\n",
      "Validation Errors:\n",
      "shoulder-breadth: 0.6881\n",
      "chest: 0.6737\n"
     ]
    },
    {
     "name": "stderr",
     "output_type": "stream",
     "text": [
      "Epoch 41/150: 100%|██████████| 122/122 [00:00<00:00, 172.87it/s]\n"
     ]
    },
    {
     "name": "stdout",
     "output_type": "stream",
     "text": [
      "\n",
      "Epoch 41/150:\n",
      "Training Loss: 1.6101\n",
      "Validation Loss: 1.4922\n",
      "\n",
      "Validation Errors:\n",
      "shoulder-breadth: 0.6982\n",
      "chest: 0.6721\n"
     ]
    },
    {
     "name": "stderr",
     "output_type": "stream",
     "text": [
      "Epoch 42/150: 100%|██████████| 122/122 [00:00<00:00, 191.32it/s]\n"
     ]
    },
    {
     "name": "stdout",
     "output_type": "stream",
     "text": [
      "\n",
      "Epoch 42/150:\n",
      "Training Loss: 1.6340\n",
      "Validation Loss: 1.6190\n",
      "\n",
      "Validation Errors:\n",
      "shoulder-breadth: 0.7339\n",
      "chest: 0.6996\n"
     ]
    },
    {
     "name": "stderr",
     "output_type": "stream",
     "text": [
      "Epoch 43/150: 100%|██████████| 122/122 [00:00<00:00, 336.83it/s]\n"
     ]
    },
    {
     "name": "stdout",
     "output_type": "stream",
     "text": [
      "\n",
      "Epoch 43/150:\n",
      "Training Loss: 1.6206\n",
      "Validation Loss: 1.5725\n",
      "\n",
      "Validation Errors:\n",
      "shoulder-breadth: 0.7205\n",
      "chest: 0.6851\n"
     ]
    },
    {
     "name": "stderr",
     "output_type": "stream",
     "text": [
      "Epoch 44/150: 100%|██████████| 122/122 [00:00<00:00, 361.34it/s]\n"
     ]
    },
    {
     "name": "stdout",
     "output_type": "stream",
     "text": [
      "\n",
      "Epoch 44/150:\n",
      "Training Loss: 1.6825\n",
      "Validation Loss: 1.8029\n",
      "\n",
      "Validation Errors:\n",
      "shoulder-breadth: 0.7814\n",
      "chest: 0.7308\n"
     ]
    },
    {
     "name": "stderr",
     "output_type": "stream",
     "text": [
      "Epoch 45/150: 100%|██████████| 122/122 [00:00<00:00, 334.28it/s]\n"
     ]
    },
    {
     "name": "stdout",
     "output_type": "stream",
     "text": [
      "\n",
      "Epoch 45/150:\n",
      "Training Loss: 1.6305\n",
      "Validation Loss: 1.4713\n",
      "\n",
      "Validation Errors:\n",
      "shoulder-breadth: 0.6934\n",
      "chest: 0.6620\n"
     ]
    },
    {
     "name": "stderr",
     "output_type": "stream",
     "text": [
      "Epoch 46/150: 100%|██████████| 122/122 [00:00<00:00, 251.14it/s]\n"
     ]
    },
    {
     "name": "stdout",
     "output_type": "stream",
     "text": [
      "\n",
      "Epoch 46/150:\n",
      "Training Loss: 1.6097\n",
      "Validation Loss: 1.4739\n",
      "\n",
      "Validation Errors:\n",
      "shoulder-breadth: 0.6885\n",
      "chest: 0.6632\n"
     ]
    },
    {
     "name": "stderr",
     "output_type": "stream",
     "text": [
      "Epoch 47/150: 100%|██████████| 122/122 [00:00<00:00, 273.53it/s]\n"
     ]
    },
    {
     "name": "stdout",
     "output_type": "stream",
     "text": [
      "\n",
      "Epoch 47/150:\n",
      "Training Loss: 1.5744\n",
      "Validation Loss: 1.4085\n",
      "\n",
      "Validation Errors:\n",
      "shoulder-breadth: 0.6743\n",
      "chest: 0.6494\n"
     ]
    },
    {
     "name": "stderr",
     "output_type": "stream",
     "text": [
      "Epoch 48/150: 100%|██████████| 122/122 [00:00<00:00, 299.47it/s]\n"
     ]
    },
    {
     "name": "stdout",
     "output_type": "stream",
     "text": [
      "\n",
      "Epoch 48/150:\n",
      "Training Loss: 1.6048\n",
      "Validation Loss: 1.6199\n",
      "\n",
      "Validation Errors:\n",
      "shoulder-breadth: 0.7277\n",
      "chest: 0.7021\n"
     ]
    },
    {
     "name": "stderr",
     "output_type": "stream",
     "text": [
      "Epoch 49/150: 100%|██████████| 122/122 [00:00<00:00, 335.04it/s]\n"
     ]
    },
    {
     "name": "stdout",
     "output_type": "stream",
     "text": [
      "\n",
      "Epoch 49/150:\n",
      "Training Loss: 1.6538\n",
      "Validation Loss: 1.4954\n",
      "\n",
      "Validation Errors:\n",
      "shoulder-breadth: 0.6983\n",
      "chest: 0.6753\n"
     ]
    },
    {
     "name": "stderr",
     "output_type": "stream",
     "text": [
      "Epoch 50/150: 100%|██████████| 122/122 [00:00<00:00, 342.58it/s]\n"
     ]
    },
    {
     "name": "stdout",
     "output_type": "stream",
     "text": [
      "\n",
      "Epoch 50/150:\n",
      "Training Loss: 1.6289\n",
      "Validation Loss: 1.5483\n",
      "\n",
      "Validation Errors:\n",
      "shoulder-breadth: 0.7104\n",
      "chest: 0.6799\n"
     ]
    },
    {
     "name": "stderr",
     "output_type": "stream",
     "text": [
      "Epoch 51/150: 100%|██████████| 122/122 [00:00<00:00, 318.30it/s]\n"
     ]
    },
    {
     "name": "stdout",
     "output_type": "stream",
     "text": [
      "\n",
      "Epoch 51/150:\n",
      "Training Loss: 1.6210\n",
      "Validation Loss: 1.5032\n",
      "\n",
      "Validation Errors:\n",
      "shoulder-breadth: 0.6961\n",
      "chest: 0.6684\n"
     ]
    },
    {
     "name": "stderr",
     "output_type": "stream",
     "text": [
      "Epoch 52/150: 100%|██████████| 122/122 [00:00<00:00, 248.54it/s]\n"
     ]
    },
    {
     "name": "stdout",
     "output_type": "stream",
     "text": [
      "\n",
      "Epoch 52/150:\n",
      "Training Loss: 1.6494\n",
      "Validation Loss: 1.5366\n",
      "\n",
      "Validation Errors:\n",
      "shoulder-breadth: 0.7069\n",
      "chest: 0.6859\n"
     ]
    },
    {
     "name": "stderr",
     "output_type": "stream",
     "text": [
      "Epoch 53/150: 100%|██████████| 122/122 [00:00<00:00, 215.10it/s]\n"
     ]
    },
    {
     "name": "stdout",
     "output_type": "stream",
     "text": [
      "\n",
      "Epoch 53/150:\n",
      "Training Loss: 1.6563\n",
      "Validation Loss: 1.4491\n",
      "\n",
      "Validation Errors:\n",
      "shoulder-breadth: 0.6890\n",
      "chest: 0.6565\n"
     ]
    },
    {
     "name": "stderr",
     "output_type": "stream",
     "text": [
      "Epoch 54/150: 100%|██████████| 122/122 [00:00<00:00, 264.73it/s]\n"
     ]
    },
    {
     "name": "stdout",
     "output_type": "stream",
     "text": [
      "\n",
      "Epoch 54/150:\n",
      "Training Loss: 1.6193\n",
      "Validation Loss: 1.4663\n",
      "\n",
      "Validation Errors:\n",
      "shoulder-breadth: 0.6870\n",
      "chest: 0.6639\n"
     ]
    },
    {
     "name": "stderr",
     "output_type": "stream",
     "text": [
      "Epoch 55/150: 100%|██████████| 122/122 [00:00<00:00, 379.64it/s]\n"
     ]
    },
    {
     "name": "stdout",
     "output_type": "stream",
     "text": [
      "\n",
      "Epoch 55/150:\n",
      "Training Loss: 1.6893\n",
      "Validation Loss: 1.4738\n",
      "\n",
      "Validation Errors:\n",
      "shoulder-breadth: 0.7023\n",
      "chest: 0.6647\n"
     ]
    },
    {
     "name": "stderr",
     "output_type": "stream",
     "text": [
      "Epoch 56/150: 100%|██████████| 122/122 [00:00<00:00, 329.72it/s]\n"
     ]
    },
    {
     "name": "stdout",
     "output_type": "stream",
     "text": [
      "\n",
      "Epoch 56/150:\n",
      "Training Loss: 1.6245\n",
      "Validation Loss: 1.6800\n",
      "\n",
      "Validation Errors:\n",
      "shoulder-breadth: 0.7505\n",
      "chest: 0.7090\n"
     ]
    },
    {
     "name": "stderr",
     "output_type": "stream",
     "text": [
      "Epoch 57/150: 100%|██████████| 122/122 [00:00<00:00, 378.96it/s]\n"
     ]
    },
    {
     "name": "stdout",
     "output_type": "stream",
     "text": [
      "\n",
      "Epoch 57/150:\n",
      "Training Loss: 1.6724\n",
      "Validation Loss: 1.5732\n",
      "\n",
      "Validation Errors:\n",
      "shoulder-breadth: 0.7177\n",
      "chest: 0.6949\n"
     ]
    },
    {
     "name": "stderr",
     "output_type": "stream",
     "text": [
      "Epoch 58/150: 100%|██████████| 122/122 [00:00<00:00, 261.77it/s]\n"
     ]
    },
    {
     "name": "stdout",
     "output_type": "stream",
     "text": [
      "\n",
      "Epoch 58/150:\n",
      "Training Loss: 1.6246\n",
      "Validation Loss: 1.4193\n",
      "\n",
      "Validation Errors:\n",
      "shoulder-breadth: 0.6872\n",
      "chest: 0.6505\n"
     ]
    },
    {
     "name": "stderr",
     "output_type": "stream",
     "text": [
      "Epoch 59/150: 100%|██████████| 122/122 [00:00<00:00, 307.62it/s]\n"
     ]
    },
    {
     "name": "stdout",
     "output_type": "stream",
     "text": [
      "\n",
      "Epoch 59/150:\n",
      "Training Loss: 1.6027\n",
      "Validation Loss: 1.3884\n",
      "\n",
      "Validation Errors:\n",
      "shoulder-breadth: 0.6698\n",
      "chest: 0.6466\n"
     ]
    },
    {
     "name": "stderr",
     "output_type": "stream",
     "text": [
      "Epoch 60/150: 100%|██████████| 122/122 [00:00<00:00, 299.50it/s]\n"
     ]
    },
    {
     "name": "stdout",
     "output_type": "stream",
     "text": [
      "\n",
      "Epoch 60/150:\n",
      "Training Loss: 1.5776\n",
      "Validation Loss: 1.4174\n",
      "\n",
      "Validation Errors:\n",
      "shoulder-breadth: 0.6734\n",
      "chest: 0.6574\n"
     ]
    },
    {
     "name": "stderr",
     "output_type": "stream",
     "text": [
      "Epoch 61/150: 100%|██████████| 122/122 [00:00<00:00, 317.29it/s]\n"
     ]
    },
    {
     "name": "stdout",
     "output_type": "stream",
     "text": [
      "\n",
      "Epoch 61/150:\n",
      "Training Loss: 1.6216\n",
      "Validation Loss: 1.4060\n",
      "\n",
      "Validation Errors:\n",
      "shoulder-breadth: 0.6824\n",
      "chest: 0.6440\n"
     ]
    },
    {
     "name": "stderr",
     "output_type": "stream",
     "text": [
      "Epoch 62/150: 100%|██████████| 122/122 [00:00<00:00, 337.44it/s]\n"
     ]
    },
    {
     "name": "stdout",
     "output_type": "stream",
     "text": [
      "\n",
      "Epoch 62/150:\n",
      "Training Loss: 1.5902\n",
      "Validation Loss: 1.5375\n",
      "\n",
      "Validation Errors:\n",
      "shoulder-breadth: 0.7051\n",
      "chest: 0.6837\n"
     ]
    },
    {
     "name": "stderr",
     "output_type": "stream",
     "text": [
      "Epoch 63/150: 100%|██████████| 122/122 [00:00<00:00, 333.07it/s]\n"
     ]
    },
    {
     "name": "stdout",
     "output_type": "stream",
     "text": [
      "\n",
      "Epoch 63/150:\n",
      "Training Loss: 1.5329\n",
      "Validation Loss: 1.3509\n",
      "\n",
      "Validation Errors:\n",
      "shoulder-breadth: 0.6595\n",
      "chest: 0.6385\n"
     ]
    },
    {
     "name": "stderr",
     "output_type": "stream",
     "text": [
      "Epoch 64/150: 100%|██████████| 122/122 [00:00<00:00, 299.39it/s]\n"
     ]
    },
    {
     "name": "stdout",
     "output_type": "stream",
     "text": [
      "\n",
      "Epoch 64/150:\n",
      "Training Loss: 1.5597\n",
      "Validation Loss: 1.3799\n",
      "\n",
      "Validation Errors:\n",
      "shoulder-breadth: 0.6646\n",
      "chest: 0.6425\n"
     ]
    },
    {
     "name": "stderr",
     "output_type": "stream",
     "text": [
      "Epoch 65/150: 100%|██████████| 122/122 [00:00<00:00, 212.03it/s]\n"
     ]
    },
    {
     "name": "stdout",
     "output_type": "stream",
     "text": [
      "\n",
      "Epoch 65/150:\n",
      "Training Loss: 1.6072\n",
      "Validation Loss: 1.4987\n",
      "\n",
      "Validation Errors:\n",
      "shoulder-breadth: 0.7023\n",
      "chest: 0.6732\n"
     ]
    },
    {
     "name": "stderr",
     "output_type": "stream",
     "text": [
      "Epoch 66/150: 100%|██████████| 122/122 [00:00<00:00, 288.22it/s]\n"
     ]
    },
    {
     "name": "stdout",
     "output_type": "stream",
     "text": [
      "\n",
      "Epoch 66/150:\n",
      "Training Loss: 1.5760\n",
      "Validation Loss: 1.3750\n",
      "\n",
      "Validation Errors:\n",
      "shoulder-breadth: 0.6631\n",
      "chest: 0.6433\n"
     ]
    },
    {
     "name": "stderr",
     "output_type": "stream",
     "text": [
      "Epoch 67/150: 100%|██████████| 122/122 [00:00<00:00, 347.48it/s]\n"
     ]
    },
    {
     "name": "stdout",
     "output_type": "stream",
     "text": [
      "\n",
      "Epoch 67/150:\n",
      "Training Loss: 1.5570\n",
      "Validation Loss: 1.4169\n",
      "\n",
      "Validation Errors:\n",
      "shoulder-breadth: 0.6677\n",
      "chest: 0.6519\n"
     ]
    },
    {
     "name": "stderr",
     "output_type": "stream",
     "text": [
      "Epoch 68/150: 100%|██████████| 122/122 [00:00<00:00, 354.51it/s]\n"
     ]
    },
    {
     "name": "stdout",
     "output_type": "stream",
     "text": [
      "\n",
      "Epoch 68/150:\n",
      "Training Loss: 1.5889\n",
      "Validation Loss: 1.5904\n",
      "\n",
      "Validation Errors:\n",
      "shoulder-breadth: 0.7332\n",
      "chest: 0.6942\n"
     ]
    },
    {
     "name": "stderr",
     "output_type": "stream",
     "text": [
      "Epoch 69/150: 100%|██████████| 122/122 [00:00<00:00, 330.39it/s]\n"
     ]
    },
    {
     "name": "stdout",
     "output_type": "stream",
     "text": [
      "\n",
      "Epoch 69/150:\n",
      "Training Loss: 1.5722\n",
      "Validation Loss: 1.3748\n",
      "\n",
      "Validation Errors:\n",
      "shoulder-breadth: 0.6703\n",
      "chest: 0.6434\n"
     ]
    },
    {
     "name": "stderr",
     "output_type": "stream",
     "text": [
      "Epoch 70/150: 100%|██████████| 122/122 [00:00<00:00, 374.51it/s]\n"
     ]
    },
    {
     "name": "stdout",
     "output_type": "stream",
     "text": [
      "\n",
      "Epoch 70/150:\n",
      "Training Loss: 1.5470\n",
      "Validation Loss: 1.3910\n",
      "\n",
      "Validation Errors:\n",
      "shoulder-breadth: 0.6747\n",
      "chest: 0.6455\n"
     ]
    },
    {
     "name": "stderr",
     "output_type": "stream",
     "text": [
      "Epoch 71/150: 100%|██████████| 122/122 [00:00<00:00, 260.54it/s]\n"
     ]
    },
    {
     "name": "stdout",
     "output_type": "stream",
     "text": [
      "\n",
      "Epoch 71/150:\n",
      "Training Loss: 1.6152\n",
      "Validation Loss: 1.3922\n",
      "\n",
      "Validation Errors:\n",
      "shoulder-breadth: 0.6775\n",
      "chest: 0.6461\n"
     ]
    },
    {
     "name": "stderr",
     "output_type": "stream",
     "text": [
      "Epoch 72/150: 100%|██████████| 122/122 [00:00<00:00, 329.19it/s]\n"
     ]
    },
    {
     "name": "stdout",
     "output_type": "stream",
     "text": [
      "\n",
      "Epoch 72/150:\n",
      "Training Loss: 1.5084\n",
      "Validation Loss: 1.3502\n",
      "\n",
      "Validation Errors:\n",
      "shoulder-breadth: 0.6640\n",
      "chest: 0.6340\n"
     ]
    },
    {
     "name": "stderr",
     "output_type": "stream",
     "text": [
      "Epoch 73/150: 100%|██████████| 122/122 [00:00<00:00, 295.62it/s]\n"
     ]
    },
    {
     "name": "stdout",
     "output_type": "stream",
     "text": [
      "\n",
      "Epoch 73/150:\n",
      "Training Loss: 1.4849\n",
      "Validation Loss: 1.4872\n",
      "\n",
      "Validation Errors:\n",
      "shoulder-breadth: 0.6975\n",
      "chest: 0.6742\n"
     ]
    },
    {
     "name": "stderr",
     "output_type": "stream",
     "text": [
      "Epoch 74/150: 100%|██████████| 122/122 [00:00<00:00, 291.24it/s]\n"
     ]
    },
    {
     "name": "stdout",
     "output_type": "stream",
     "text": [
      "\n",
      "Epoch 74/150:\n",
      "Training Loss: 1.5438\n",
      "Validation Loss: 1.5083\n",
      "\n",
      "Validation Errors:\n",
      "shoulder-breadth: 0.7050\n",
      "chest: 0.6749\n"
     ]
    },
    {
     "name": "stderr",
     "output_type": "stream",
     "text": [
      "Epoch 75/150: 100%|██████████| 122/122 [00:00<00:00, 351.05it/s]\n"
     ]
    },
    {
     "name": "stdout",
     "output_type": "stream",
     "text": [
      "\n",
      "Epoch 75/150:\n",
      "Training Loss: 1.5697\n",
      "Validation Loss: 1.5807\n",
      "\n",
      "Validation Errors:\n",
      "shoulder-breadth: 0.7259\n",
      "chest: 0.6916\n"
     ]
    },
    {
     "name": "stderr",
     "output_type": "stream",
     "text": [
      "Epoch 76/150: 100%|██████████| 122/122 [00:00<00:00, 329.01it/s]\n"
     ]
    },
    {
     "name": "stdout",
     "output_type": "stream",
     "text": [
      "\n",
      "Epoch 76/150:\n",
      "Training Loss: 1.6213\n",
      "Validation Loss: 1.6078\n",
      "\n",
      "Validation Errors:\n",
      "shoulder-breadth: 0.7374\n",
      "chest: 0.6946\n"
     ]
    },
    {
     "name": "stderr",
     "output_type": "stream",
     "text": [
      "Epoch 77/150: 100%|██████████| 122/122 [00:00<00:00, 301.55it/s]\n"
     ]
    },
    {
     "name": "stdout",
     "output_type": "stream",
     "text": [
      "\n",
      "Epoch 77/150:\n",
      "Training Loss: 1.5571\n",
      "Validation Loss: 1.5304\n",
      "\n",
      "Validation Errors:\n",
      "shoulder-breadth: 0.7119\n",
      "chest: 0.6798\n"
     ]
    },
    {
     "name": "stderr",
     "output_type": "stream",
     "text": [
      "Epoch 78/150: 100%|██████████| 122/122 [00:00<00:00, 199.03it/s]\n"
     ]
    },
    {
     "name": "stdout",
     "output_type": "stream",
     "text": [
      "\n",
      "Epoch 78/150:\n",
      "Training Loss: 1.5341\n",
      "Validation Loss: 1.5857\n",
      "\n",
      "Validation Errors:\n",
      "shoulder-breadth: 0.7209\n",
      "chest: 0.6961\n"
     ]
    },
    {
     "name": "stderr",
     "output_type": "stream",
     "text": [
      "Epoch 79/150: 100%|██████████| 122/122 [00:00<00:00, 301.82it/s]\n"
     ]
    },
    {
     "name": "stdout",
     "output_type": "stream",
     "text": [
      "\n",
      "Epoch 79/150:\n",
      "Training Loss: 1.5765\n",
      "Validation Loss: 1.4448\n",
      "\n",
      "Validation Errors:\n",
      "shoulder-breadth: 0.6891\n",
      "chest: 0.6617\n"
     ]
    },
    {
     "name": "stderr",
     "output_type": "stream",
     "text": [
      "Epoch 80/150: 100%|██████████| 122/122 [00:00<00:00, 321.52it/s]\n"
     ]
    },
    {
     "name": "stdout",
     "output_type": "stream",
     "text": [
      "\n",
      "Epoch 80/150:\n",
      "Training Loss: 1.4913\n",
      "Validation Loss: 1.4666\n",
      "\n",
      "Validation Errors:\n",
      "shoulder-breadth: 0.6900\n",
      "chest: 0.6656\n"
     ]
    },
    {
     "name": "stderr",
     "output_type": "stream",
     "text": [
      "Epoch 81/150: 100%|██████████| 122/122 [00:00<00:00, 371.77it/s]\n"
     ]
    },
    {
     "name": "stdout",
     "output_type": "stream",
     "text": [
      "\n",
      "Epoch 81/150:\n",
      "Training Loss: 1.5431\n",
      "Validation Loss: 1.3886\n",
      "\n",
      "Validation Errors:\n",
      "shoulder-breadth: 0.6740\n",
      "chest: 0.6484\n"
     ]
    },
    {
     "name": "stderr",
     "output_type": "stream",
     "text": [
      "Epoch 82/150: 100%|██████████| 122/122 [00:00<00:00, 309.08it/s]\n"
     ]
    },
    {
     "name": "stdout",
     "output_type": "stream",
     "text": [
      "\n",
      "Epoch 82/150:\n",
      "Training Loss: 1.4595\n",
      "Validation Loss: 1.4049\n",
      "\n",
      "Validation Errors:\n",
      "shoulder-breadth: 0.6751\n",
      "chest: 0.6538\n"
     ]
    },
    {
     "name": "stderr",
     "output_type": "stream",
     "text": [
      "Epoch 83/150: 100%|██████████| 122/122 [00:00<00:00, 380.50it/s]\n"
     ]
    },
    {
     "name": "stdout",
     "output_type": "stream",
     "text": [
      "\n",
      "Epoch 83/150:\n",
      "Training Loss: 1.5310\n",
      "Validation Loss: 1.3940\n",
      "\n",
      "Validation Errors:\n",
      "shoulder-breadth: 0.6696\n",
      "chest: 0.6527\n"
     ]
    },
    {
     "name": "stderr",
     "output_type": "stream",
     "text": [
      "Epoch 84/150: 100%|██████████| 122/122 [00:00<00:00, 341.28it/s]\n"
     ]
    },
    {
     "name": "stdout",
     "output_type": "stream",
     "text": [
      "\n",
      "Epoch 84/150:\n",
      "Training Loss: 1.5095\n",
      "Validation Loss: 1.3622\n",
      "\n",
      "Validation Errors:\n",
      "shoulder-breadth: 0.6745\n",
      "chest: 0.6288\n"
     ]
    },
    {
     "name": "stderr",
     "output_type": "stream",
     "text": [
      "Epoch 85/150: 100%|██████████| 122/122 [00:00<00:00, 309.60it/s]\n"
     ]
    },
    {
     "name": "stdout",
     "output_type": "stream",
     "text": [
      "\n",
      "Epoch 85/150:\n",
      "Training Loss: 1.5441\n",
      "Validation Loss: 1.4248\n",
      "\n",
      "Validation Errors:\n",
      "shoulder-breadth: 0.6842\n",
      "chest: 0.6597\n"
     ]
    },
    {
     "name": "stderr",
     "output_type": "stream",
     "text": [
      "Epoch 86/150: 100%|██████████| 122/122 [00:00<00:00, 308.50it/s]\n"
     ]
    },
    {
     "name": "stdout",
     "output_type": "stream",
     "text": [
      "\n",
      "Epoch 86/150:\n",
      "Training Loss: 1.5014\n",
      "Validation Loss: 1.3890\n",
      "\n",
      "Validation Errors:\n",
      "shoulder-breadth: 0.6715\n",
      "chest: 0.6455\n"
     ]
    },
    {
     "name": "stderr",
     "output_type": "stream",
     "text": [
      "Epoch 87/150: 100%|██████████| 122/122 [00:00<00:00, 291.48it/s]\n"
     ]
    },
    {
     "name": "stdout",
     "output_type": "stream",
     "text": [
      "\n",
      "Epoch 87/150:\n",
      "Training Loss: 1.4593\n",
      "Validation Loss: 1.3840\n",
      "\n",
      "Validation Errors:\n",
      "shoulder-breadth: 0.6715\n",
      "chest: 0.6429\n"
     ]
    },
    {
     "name": "stderr",
     "output_type": "stream",
     "text": [
      "Epoch 88/150: 100%|██████████| 122/122 [00:00<00:00, 340.02it/s]\n"
     ]
    },
    {
     "name": "stdout",
     "output_type": "stream",
     "text": [
      "\n",
      "Epoch 88/150:\n",
      "Training Loss: 1.4768\n",
      "Validation Loss: 1.5847\n",
      "\n",
      "Validation Errors:\n",
      "shoulder-breadth: 0.7258\n",
      "chest: 0.6900\n"
     ]
    },
    {
     "name": "stderr",
     "output_type": "stream",
     "text": [
      "Epoch 89/150: 100%|██████████| 122/122 [00:00<00:00, 251.12it/s]\n"
     ]
    },
    {
     "name": "stdout",
     "output_type": "stream",
     "text": [
      "\n",
      "Epoch 89/150:\n",
      "Training Loss: 1.5189\n",
      "Validation Loss: 1.4369\n",
      "\n",
      "Validation Errors:\n",
      "shoulder-breadth: 0.7043\n",
      "chest: 0.6510\n"
     ]
    },
    {
     "name": "stderr",
     "output_type": "stream",
     "text": [
      "Epoch 90/150: 100%|██████████| 122/122 [00:00<00:00, 248.94it/s]\n"
     ]
    },
    {
     "name": "stdout",
     "output_type": "stream",
     "text": [
      "\n",
      "Epoch 90/150:\n",
      "Training Loss: 1.5322\n",
      "Validation Loss: 1.4678\n",
      "\n",
      "Validation Errors:\n",
      "shoulder-breadth: 0.6931\n",
      "chest: 0.6641\n"
     ]
    },
    {
     "name": "stderr",
     "output_type": "stream",
     "text": [
      "Epoch 91/150: 100%|██████████| 122/122 [00:00<00:00, 212.87it/s]\n"
     ]
    },
    {
     "name": "stdout",
     "output_type": "stream",
     "text": [
      "\n",
      "Epoch 91/150:\n",
      "Training Loss: 1.4954\n",
      "Validation Loss: 1.4766\n",
      "\n",
      "Validation Errors:\n",
      "shoulder-breadth: 0.6996\n",
      "chest: 0.6717\n"
     ]
    },
    {
     "name": "stderr",
     "output_type": "stream",
     "text": [
      "Epoch 92/150: 100%|██████████| 122/122 [00:00<00:00, 264.98it/s]"
     ]
    },
    {
     "name": "stdout",
     "output_type": "stream",
     "text": [
      "\n",
      "Epoch 92/150:\n",
      "Training Loss: 1.5533\n",
      "Validation Loss: 1.4311\n",
      "\n",
      "Validation Errors:\n",
      "shoulder-breadth: 0.6797\n",
      "chest: 0.6592\n",
      "\n",
      "Early stopping triggered at epoch 92\n"
     ]
    },
    {
     "name": "stderr",
     "output_type": "stream",
     "text": [
      "\n"
     ]
    }
   ],
   "source": [
    "cfg.PREPROCESS_CONFIG['is_silhouette'] = True\n",
    "train_data = processor.process_dataset('measurements-train-del.csv')\n",
    "train_data.to_csv('measurements_with_landmarks.csv', index=False)\n",
    "model_manager.train(train_data)"
   ]
  },
  {
   "cell_type": "code",
   "execution_count": 8,
   "metadata": {},
   "outputs": [
    {
     "name": "stderr",
     "output_type": "stream",
     "text": [
      "Processing images:   0%|          | 0/46 [00:00<?, ?it/s]"
     ]
    },
    {
     "name": "stderr",
     "output_type": "stream",
     "text": [
      "Processing images: 100%|██████████| 46/46 [00:06<00:00,  6.88it/s]\n"
     ]
    },
    {
     "name": "stdout",
     "output_type": "stream",
     "text": [
      "\n",
      "Processing complete!\n",
      "Successfully processed: 46 images\n",
      "Failed: 0 images\n"
     ]
    },
    {
     "name": "stderr",
     "output_type": "stream",
     "text": [
      "Evaluating: 46it [00:00, 1920.28it/s]\n"
     ]
    },
    {
     "data": {
      "text/html": [
       "<div>\n",
       "<style scoped>\n",
       "    .dataframe tbody tr th:only-of-type {\n",
       "        vertical-align: middle;\n",
       "    }\n",
       "\n",
       "    .dataframe tbody tr th {\n",
       "        vertical-align: top;\n",
       "    }\n",
       "\n",
       "    .dataframe thead th {\n",
       "        text-align: right;\n",
       "    }\n",
       "</style>\n",
       "<table border=\"1\" class=\"dataframe\">\n",
       "  <thead>\n",
       "    <tr style=\"text-align: right;\">\n",
       "      <th></th>\n",
       "      <th>MAE</th>\n",
       "      <th>RMSE</th>\n",
       "    </tr>\n",
       "    <tr>\n",
       "      <th>Measurement</th>\n",
       "      <th></th>\n",
       "      <th></th>\n",
       "    </tr>\n",
       "  </thead>\n",
       "  <tbody>\n",
       "    <tr>\n",
       "      <th>shoulder-breadth</th>\n",
       "      <td>1.027064</td>\n",
       "      <td>1.219607</td>\n",
       "    </tr>\n",
       "    <tr>\n",
       "      <th>chest</th>\n",
       "      <td>5.027763</td>\n",
       "      <td>6.447483</td>\n",
       "    </tr>\n",
       "  </tbody>\n",
       "</table>\n",
       "</div>"
      ],
      "text/plain": [
       "                       MAE      RMSE\n",
       "Measurement                         \n",
       "shoulder-breadth  1.027064  1.219607\n",
       "chest             5.027763  6.447483"
      ]
     },
     "execution_count": 8,
     "metadata": {},
     "output_type": "execute_result"
    }
   ],
   "source": [
    "test_data_1 = processor.process_dataset('measurements-test.csv')\n",
    "test_results_1 = model_manager.evaluate(test_data_1)\n",
    "test_results_1['metrics'][[\"MAE\", \"RMSE\"]]"
   ]
  },
  {
   "cell_type": "code",
   "execution_count": 9,
   "metadata": {},
   "outputs": [
    {
     "name": "stderr",
     "output_type": "stream",
     "text": [
      "Processing images: 100%|██████████| 157/157 [00:23<00:00,  6.77it/s]\n"
     ]
    },
    {
     "name": "stdout",
     "output_type": "stream",
     "text": [
      "\n",
      "Processing complete!\n",
      "Successfully processed: 157 images\n",
      "Failed: 0 images\n"
     ]
    },
    {
     "name": "stderr",
     "output_type": "stream",
     "text": [
      "Evaluating: 157it [00:00, 3037.86it/s]\n"
     ]
    },
    {
     "data": {
      "text/html": [
       "<div>\n",
       "<style scoped>\n",
       "    .dataframe tbody tr th:only-of-type {\n",
       "        vertical-align: middle;\n",
       "    }\n",
       "\n",
       "    .dataframe tbody tr th {\n",
       "        vertical-align: top;\n",
       "    }\n",
       "\n",
       "    .dataframe thead th {\n",
       "        text-align: right;\n",
       "    }\n",
       "</style>\n",
       "<table border=\"1\" class=\"dataframe\">\n",
       "  <thead>\n",
       "    <tr style=\"text-align: right;\">\n",
       "      <th></th>\n",
       "      <th>MAE</th>\n",
       "      <th>RMSE</th>\n",
       "    </tr>\n",
       "    <tr>\n",
       "      <th>Measurement</th>\n",
       "      <th></th>\n",
       "      <th></th>\n",
       "    </tr>\n",
       "  </thead>\n",
       "  <tbody>\n",
       "    <tr>\n",
       "      <th>shoulder-breadth</th>\n",
       "      <td>1.214699</td>\n",
       "      <td>1.580822</td>\n",
       "    </tr>\n",
       "    <tr>\n",
       "      <th>chest</th>\n",
       "      <td>7.559185</td>\n",
       "      <td>9.880366</td>\n",
       "    </tr>\n",
       "  </tbody>\n",
       "</table>\n",
       "</div>"
      ],
      "text/plain": [
       "                       MAE      RMSE\n",
       "Measurement                         \n",
       "shoulder-breadth  1.214699  1.580822\n",
       "chest             7.559185  9.880366"
      ]
     },
     "execution_count": 9,
     "metadata": {},
     "output_type": "execute_result"
    }
   ],
   "source": [
    "# Test on second dataset\n",
    "test_data_2 = processor.process_dataset('measurements-test-2.csv')\n",
    "test_results_2 = model_manager.evaluate(test_data_2)\n",
    "test_results_2['metrics'][[\"MAE\", \"RMSE\"]]"
   ]
  },
  {
   "cell_type": "code",
   "execution_count": 12,
   "metadata": {},
   "outputs": [
    {
     "name": "stdout",
     "output_type": "stream",
     "text": [
      "\n",
      "Predicted Measurements:\n",
      "shoulder-breadth: 38.76 cm\n",
      "chest: 112.72 cm\n"
     ]
    }
   ],
   "source": [
    "# Single image prediction\n",
    "image_path = '../segmentation_testing/misc_images/kp_pose.jpg'\n",
    "landmarks, viz_image = processor.process_image(image_path, visualize=True)\n",
    "predictions = model_manager.predict(landmarks, height=181)\n",
    "print(\"\\nPredicted Measurements:\")\n",
    "for measurement, value in predictions.items():\n",
    "    print(f\"{measurement}: {value:.2f} cm\")"
   ]
  },
  {
   "cell_type": "code",
   "execution_count": null,
   "metadata": {},
   "outputs": [],
   "source": []
  },
  {
   "cell_type": "code",
   "execution_count": null,
   "metadata": {},
   "outputs": [],
   "source": []
  },
  {
   "cell_type": "code",
   "execution_count": 13,
   "metadata": {},
   "outputs": [
    {
     "name": "stderr",
     "output_type": "stream",
     "text": [
      "I0000 00:00:1733812121.040171 8793035 gl_context.cc:357] GL version: 2.1 (2.1 Metal - 89.3), renderer: Apple M2\n",
      "W0000 00:00:1733812121.578593 8924243 inference_feedback_manager.cc:114] Feedback manager requires a model with a single signature inference. Disabling support for feedback tensors.\n",
      "W0000 00:00:1733812121.744528 8924240 inference_feedback_manager.cc:114] Feedback manager requires a model with a single signature inference. Disabling support for feedback tensors.\n"
     ]
    },
    {
     "name": "stdout",
     "output_type": "stream",
     "text": [
      "\n",
      "\n",
      "\n",
      "shoulder-breadth: 38.76 cm\n"
     ]
    }
   ],
   "source": [
    "model_manager_2 = ModelManager()\n",
    "data_processor = DataProcessor()\n",
    "\n",
    "model_path = \"best_model.pth\"\n",
    "model_manager_2.load_model(model_path)\n",
    "height_cm = 181\n",
    "\n",
    "landmarks = data_processor.process_image(image_path)\n",
    "predictions = model_manager.predict(landmarks, height_cm)\n",
    "\n",
    "print(f\"\\n\\n\\nshoulder-breadth: {predictions['shoulder-breadth']:.2f} cm\")"
   ]
  },
  {
   "cell_type": "code",
   "execution_count": null,
   "metadata": {},
   "outputs": [],
   "source": []
  }
 ],
 "metadata": {
  "kernelspec": {
   "display_name": "tshirt-size",
   "language": "python",
   "name": "python3"
  },
  "language_info": {
   "codemirror_mode": {
    "name": "ipython",
    "version": 3
   },
   "file_extension": ".py",
   "mimetype": "text/x-python",
   "name": "python",
   "nbconvert_exporter": "python",
   "pygments_lexer": "ipython3",
   "version": "3.9.20"
  }
 },
 "nbformat": 4,
 "nbformat_minor": 2
}
