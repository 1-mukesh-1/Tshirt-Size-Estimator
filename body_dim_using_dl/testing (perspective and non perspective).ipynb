{
 "cells": [
  {
   "cell_type": "code",
   "execution_count": 1,
   "metadata": {},
   "outputs": [],
   "source": [
    "import pandas as pd\n",
    "import random\n",
    "from data_processor import DataProcessor\n",
    "from model_manager import ModelManager\n",
    "import config as cfg"
   ]
  },
  {
   "cell_type": "code",
   "execution_count": 2,
   "metadata": {},
   "outputs": [],
   "source": [
    "base_path = \"../segmentation_testing/test2/testB/\""
   ]
  },
  {
   "cell_type": "code",
   "execution_count": 3,
   "metadata": {},
   "outputs": [],
   "source": [
    "subject_map_path = base_path + \"subject_to_photo_map.csv\"\n",
    "mes_path = base_path + \"measurements.csv\"\n",
    "metadata_path = base_path + \"hwg_metadata.csv\""
   ]
  },
  {
   "cell_type": "code",
   "execution_count": 4,
   "metadata": {},
   "outputs": [],
   "source": [
    "subject_df = pd.read_csv(subject_map_path)\n",
    "mes_df = pd.read_csv(mes_path)\n",
    "metadata_df = pd.read_csv(metadata_path)\n",
    "images_path = base_path + 'mask/'"
   ]
  },
  {
   "cell_type": "code",
   "execution_count": null,
   "metadata": {},
   "outputs": [
    {
     "name": "stderr",
     "output_type": "stream",
     "text": [
      "/var/folders/2b/106xnqt95zj_l1lwlcqwj1p80000gn/T/ipykernel_38018/1576156269.py:4: DeprecationWarning: DataFrameGroupBy.apply operated on the grouping columns. This behavior is deprecated, and in a future version of pandas the grouping columns will be excluded from the operation. Either pass `include_groups=False` to exclude the groupings or explicitly select the grouping columns after groupby to silence this warning.\n",
      "  fin_df = fin_df.groupby('subject_id').apply(lambda x: x.iloc[random.randint(0, len(x)-1)]).reset_index(drop=True)\n"
     ]
    }
   ],
   "source": [
    "fin_df = mes_df.merge(subject_df, on='subject_id', how='left')\n",
    "fin_df = fin_df.merge(metadata_df, on='subject_id', how='left')\n",
    "fin_df = fin_df[fin_df[\"gender\"] == \"male\"]\n",
    "fin_df = fin_df.groupby('subject_id').apply(lambda x: x.iloc[random.randint(0, len(x)-1)]).reset_index(drop=True)\n",
    "fin_df[\"image_path\"] = \"../segmentation_testing/test2/train/mask/\" + fin_df[\"photo_id\"] + \".png\""
   ]
  },
  {
   "cell_type": "code",
   "execution_count": 6,
   "metadata": {},
   "outputs": [
    {
     "name": "stderr",
     "output_type": "stream",
     "text": [
      "WARNING: All log messages before absl::InitializeLog() is called are written to STDERR\n",
      "I0000 00:00:1733802898.755343 8785756 gl_context.cc:357] GL version: 2.1 (2.1 Metal - 89.3), renderer: Apple M2\n"
     ]
    }
   ],
   "source": [
    "processor = DataProcessor()\n",
    "model_manager = ModelManager()"
   ]
  },
  {
   "cell_type": "code",
   "execution_count": 7,
   "metadata": {},
   "outputs": [
    {
     "name": "stderr",
     "output_type": "stream",
     "text": [
      "INFO: Created TensorFlow Lite XNNPACK delegate for CPU.\n",
      "Processing images:   0%|          | 0/789 [00:00<?, ?it/s]W0000 00:00:1733802898.931378 8798743 inference_feedback_manager.cc:114] Feedback manager requires a model with a single signature inference. Disabling support for feedback tensors.\n",
      "W0000 00:00:1733802899.015009 8798743 inference_feedback_manager.cc:114] Feedback manager requires a model with a single signature inference. Disabling support for feedback tensors.\n",
      "W0000 00:00:1733802899.129590 8798748 landmark_projection_calculator.cc:186] Using NORM_RECT without IMAGE_DIMENSIONS is only supported for the square ROI. Provide IMAGE_DIMENSIONS or use PROJECTION_MATRIX.\n",
      "Processing images: 100%|██████████| 789/789 [01:56<00:00,  6.79it/s]\n"
     ]
    },
    {
     "name": "stdout",
     "output_type": "stream",
     "text": [
      "\n",
      "Processing complete!\n",
      "Successfully processed: 789 images\n",
      "Failed: 0 images\n"
     ]
    },
    {
     "name": "stderr",
     "output_type": "stream",
     "text": [
      "/opt/anaconda3/envs/tshirt-size/lib/python3.9/site-packages/tqdm/auto.py:21: TqdmWarning: IProgress not found. Please update jupyter and ipywidgets. See https://ipywidgets.readthedocs.io/en/stable/user_install.html\n",
      "  from .autonotebook import tqdm as notebook_tqdm\n",
      "Epoch 1/150: 100%|██████████| 79/79 [00:00<00:00, 157.75it/s]\n"
     ]
    },
    {
     "name": "stdout",
     "output_type": "stream",
     "text": [
      "\n",
      "Epoch 1/150:\n",
      "Training Loss: 2.1565\n",
      "Validation Loss: 2.2738\n",
      "\n",
      "Validation Errors:\n",
      "shoulder-breadth: 0.8322\n",
      "chest: 0.8256\n"
     ]
    },
    {
     "name": "stderr",
     "output_type": "stream",
     "text": [
      "Epoch 2/150: 100%|██████████| 79/79 [00:00<00:00, 277.32it/s]\n"
     ]
    },
    {
     "name": "stdout",
     "output_type": "stream",
     "text": [
      "\n",
      "Epoch 2/150:\n",
      "Training Loss: 2.0255\n",
      "Validation Loss: 2.2406\n",
      "\n",
      "Validation Errors:\n",
      "shoulder-breadth: 0.8193\n",
      "chest: 0.8276\n"
     ]
    },
    {
     "name": "stderr",
     "output_type": "stream",
     "text": [
      "Epoch 3/150: 100%|██████████| 79/79 [00:00<00:00, 318.08it/s]\n"
     ]
    },
    {
     "name": "stdout",
     "output_type": "stream",
     "text": [
      "\n",
      "Epoch 3/150:\n",
      "Training Loss: 1.9608\n",
      "Validation Loss: 2.2056\n",
      "\n",
      "Validation Errors:\n",
      "shoulder-breadth: 0.8051\n",
      "chest: 0.8331\n"
     ]
    },
    {
     "name": "stderr",
     "output_type": "stream",
     "text": [
      "Epoch 4/150: 100%|██████████| 79/79 [00:00<00:00, 220.01it/s]\n"
     ]
    },
    {
     "name": "stdout",
     "output_type": "stream",
     "text": [
      "\n",
      "Epoch 4/150:\n",
      "Training Loss: 2.0006\n",
      "Validation Loss: 2.1812\n",
      "\n",
      "Validation Errors:\n",
      "shoulder-breadth: 0.8021\n",
      "chest: 0.8239\n"
     ]
    },
    {
     "name": "stderr",
     "output_type": "stream",
     "text": [
      "Epoch 5/150: 100%|██████████| 79/79 [00:00<00:00, 222.48it/s]\n"
     ]
    },
    {
     "name": "stdout",
     "output_type": "stream",
     "text": [
      "\n",
      "Epoch 5/150:\n",
      "Training Loss: 1.9148\n",
      "Validation Loss: 2.1621\n",
      "\n",
      "Validation Errors:\n",
      "shoulder-breadth: 0.8011\n",
      "chest: 0.8185\n"
     ]
    },
    {
     "name": "stderr",
     "output_type": "stream",
     "text": [
      "Epoch 6/150: 100%|██████████| 79/79 [00:00<00:00, 322.50it/s]\n"
     ]
    },
    {
     "name": "stdout",
     "output_type": "stream",
     "text": [
      "\n",
      "Epoch 6/150:\n",
      "Training Loss: 1.9507\n",
      "Validation Loss: 2.1531\n",
      "\n",
      "Validation Errors:\n",
      "shoulder-breadth: 0.7959\n",
      "chest: 0.8189\n"
     ]
    },
    {
     "name": "stderr",
     "output_type": "stream",
     "text": [
      "Epoch 7/150: 100%|██████████| 79/79 [00:00<00:00, 325.06it/s]\n"
     ]
    },
    {
     "name": "stdout",
     "output_type": "stream",
     "text": [
      "\n",
      "Epoch 7/150:\n",
      "Training Loss: 1.7629\n",
      "Validation Loss: 2.1602\n",
      "\n",
      "Validation Errors:\n",
      "shoulder-breadth: 0.8055\n",
      "chest: 0.8193\n"
     ]
    },
    {
     "name": "stderr",
     "output_type": "stream",
     "text": [
      "Epoch 8/150: 100%|██████████| 79/79 [00:00<00:00, 316.11it/s]\n"
     ]
    },
    {
     "name": "stdout",
     "output_type": "stream",
     "text": [
      "\n",
      "Epoch 8/150:\n",
      "Training Loss: 1.8696\n",
      "Validation Loss: 2.1450\n",
      "\n",
      "Validation Errors:\n",
      "shoulder-breadth: 0.7940\n",
      "chest: 0.8183\n"
     ]
    },
    {
     "name": "stderr",
     "output_type": "stream",
     "text": [
      "Epoch 9/150: 100%|██████████| 79/79 [00:00<00:00, 307.28it/s]\n"
     ]
    },
    {
     "name": "stdout",
     "output_type": "stream",
     "text": [
      "\n",
      "Epoch 9/150:\n",
      "Training Loss: 1.9161\n",
      "Validation Loss: 2.1555\n",
      "\n",
      "Validation Errors:\n",
      "shoulder-breadth: 0.7967\n",
      "chest: 0.8151\n"
     ]
    },
    {
     "name": "stderr",
     "output_type": "stream",
     "text": [
      "Epoch 10/150: 100%|██████████| 79/79 [00:00<00:00, 326.40it/s]\n"
     ]
    },
    {
     "name": "stdout",
     "output_type": "stream",
     "text": [
      "\n",
      "Epoch 10/150:\n",
      "Training Loss: 1.9172\n",
      "Validation Loss: 2.1324\n",
      "\n",
      "Validation Errors:\n",
      "shoulder-breadth: 0.7901\n",
      "chest: 0.8165\n"
     ]
    },
    {
     "name": "stderr",
     "output_type": "stream",
     "text": [
      "Epoch 11/150: 100%|██████████| 79/79 [00:00<00:00, 359.78it/s]\n"
     ]
    },
    {
     "name": "stdout",
     "output_type": "stream",
     "text": [
      "\n",
      "Epoch 11/150:\n",
      "Training Loss: 1.8775\n",
      "Validation Loss: 2.1232\n",
      "\n",
      "Validation Errors:\n",
      "shoulder-breadth: 0.7990\n",
      "chest: 0.8119\n"
     ]
    },
    {
     "name": "stderr",
     "output_type": "stream",
     "text": [
      "Epoch 12/150: 100%|██████████| 79/79 [00:00<00:00, 330.13it/s]\n"
     ]
    },
    {
     "name": "stdout",
     "output_type": "stream",
     "text": [
      "\n",
      "Epoch 12/150:\n",
      "Training Loss: 1.8448\n",
      "Validation Loss: 2.0956\n",
      "\n",
      "Validation Errors:\n",
      "shoulder-breadth: 0.7838\n",
      "chest: 0.8063\n"
     ]
    },
    {
     "name": "stderr",
     "output_type": "stream",
     "text": [
      "Epoch 13/150: 100%|██████████| 79/79 [00:00<00:00, 335.28it/s]\n"
     ]
    },
    {
     "name": "stdout",
     "output_type": "stream",
     "text": [
      "\n",
      "Epoch 13/150:\n",
      "Training Loss: 1.8947\n",
      "Validation Loss: 2.1009\n",
      "\n",
      "Validation Errors:\n",
      "shoulder-breadth: 0.7927\n",
      "chest: 0.8041\n"
     ]
    },
    {
     "name": "stderr",
     "output_type": "stream",
     "text": [
      "Epoch 14/150: 100%|██████████| 79/79 [00:00<00:00, 274.92it/s]\n"
     ]
    },
    {
     "name": "stdout",
     "output_type": "stream",
     "text": [
      "\n",
      "Epoch 14/150:\n",
      "Training Loss: 1.8419\n",
      "Validation Loss: 2.1003\n",
      "\n",
      "Validation Errors:\n",
      "shoulder-breadth: 0.7865\n",
      "chest: 0.8143\n"
     ]
    },
    {
     "name": "stderr",
     "output_type": "stream",
     "text": [
      "Epoch 15/150: 100%|██████████| 79/79 [00:00<00:00, 288.83it/s]\n"
     ]
    },
    {
     "name": "stdout",
     "output_type": "stream",
     "text": [
      "\n",
      "Epoch 15/150:\n",
      "Training Loss: 1.8266\n",
      "Validation Loss: 2.0700\n",
      "\n",
      "Validation Errors:\n",
      "shoulder-breadth: 0.7839\n",
      "chest: 0.8011\n"
     ]
    },
    {
     "name": "stderr",
     "output_type": "stream",
     "text": [
      "Epoch 16/150: 100%|██████████| 79/79 [00:00<00:00, 146.22it/s]\n"
     ]
    },
    {
     "name": "stdout",
     "output_type": "stream",
     "text": [
      "\n",
      "Epoch 16/150:\n",
      "Training Loss: 1.8590\n",
      "Validation Loss: 2.0830\n",
      "\n",
      "Validation Errors:\n",
      "shoulder-breadth: 0.7838\n",
      "chest: 0.7970\n"
     ]
    },
    {
     "name": "stderr",
     "output_type": "stream",
     "text": [
      "Epoch 17/150: 100%|██████████| 79/79 [00:00<00:00, 284.79it/s]\n"
     ]
    },
    {
     "name": "stdout",
     "output_type": "stream",
     "text": [
      "\n",
      "Epoch 17/150:\n",
      "Training Loss: 1.8695\n",
      "Validation Loss: 2.0792\n",
      "\n",
      "Validation Errors:\n",
      "shoulder-breadth: 0.7814\n",
      "chest: 0.7953\n"
     ]
    },
    {
     "name": "stderr",
     "output_type": "stream",
     "text": [
      "Epoch 18/150: 100%|██████████| 79/79 [00:00<00:00, 174.69it/s]\n"
     ]
    },
    {
     "name": "stdout",
     "output_type": "stream",
     "text": [
      "\n",
      "Epoch 18/150:\n",
      "Training Loss: 1.7765\n",
      "Validation Loss: 2.0542\n",
      "\n",
      "Validation Errors:\n",
      "shoulder-breadth: 0.7736\n",
      "chest: 0.8060\n"
     ]
    },
    {
     "name": "stderr",
     "output_type": "stream",
     "text": [
      "Epoch 19/150: 100%|██████████| 79/79 [00:00<00:00, 321.17it/s]\n"
     ]
    },
    {
     "name": "stdout",
     "output_type": "stream",
     "text": [
      "\n",
      "Epoch 19/150:\n",
      "Training Loss: 1.8392\n",
      "Validation Loss: 2.0886\n",
      "\n",
      "Validation Errors:\n",
      "shoulder-breadth: 0.7739\n",
      "chest: 0.8019\n"
     ]
    },
    {
     "name": "stderr",
     "output_type": "stream",
     "text": [
      "Epoch 20/150: 100%|██████████| 79/79 [00:00<00:00, 340.66it/s]\n"
     ]
    },
    {
     "name": "stdout",
     "output_type": "stream",
     "text": [
      "\n",
      "Epoch 20/150:\n",
      "Training Loss: 1.8152\n",
      "Validation Loss: 2.0626\n",
      "\n",
      "Validation Errors:\n",
      "shoulder-breadth: 0.7756\n",
      "chest: 0.7974\n"
     ]
    },
    {
     "name": "stderr",
     "output_type": "stream",
     "text": [
      "Epoch 21/150: 100%|██████████| 79/79 [00:00<00:00, 318.46it/s]\n"
     ]
    },
    {
     "name": "stdout",
     "output_type": "stream",
     "text": [
      "\n",
      "Epoch 21/150:\n",
      "Training Loss: 1.7377\n",
      "Validation Loss: 2.0435\n",
      "\n",
      "Validation Errors:\n",
      "shoulder-breadth: 0.7703\n",
      "chest: 0.7909\n"
     ]
    },
    {
     "name": "stderr",
     "output_type": "stream",
     "text": [
      "Epoch 22/150: 100%|██████████| 79/79 [00:00<00:00, 315.71it/s]\n"
     ]
    },
    {
     "name": "stdout",
     "output_type": "stream",
     "text": [
      "\n",
      "Epoch 22/150:\n",
      "Training Loss: 1.7788\n",
      "Validation Loss: 2.0243\n",
      "\n",
      "Validation Errors:\n",
      "shoulder-breadth: 0.7667\n",
      "chest: 0.7904\n"
     ]
    },
    {
     "name": "stderr",
     "output_type": "stream",
     "text": [
      "Epoch 23/150: 100%|██████████| 79/79 [00:00<00:00, 361.04it/s]\n"
     ]
    },
    {
     "name": "stdout",
     "output_type": "stream",
     "text": [
      "\n",
      "Epoch 23/150:\n",
      "Training Loss: 1.8006\n",
      "Validation Loss: 2.0332\n",
      "\n",
      "Validation Errors:\n",
      "shoulder-breadth: 0.7647\n",
      "chest: 0.7974\n"
     ]
    },
    {
     "name": "stderr",
     "output_type": "stream",
     "text": [
      "Epoch 24/150: 100%|██████████| 79/79 [00:00<00:00, 369.37it/s]\n"
     ]
    },
    {
     "name": "stdout",
     "output_type": "stream",
     "text": [
      "\n",
      "Epoch 24/150:\n",
      "Training Loss: 1.7803\n",
      "Validation Loss: 2.0210\n",
      "\n",
      "Validation Errors:\n",
      "shoulder-breadth: 0.7666\n",
      "chest: 0.7927\n"
     ]
    },
    {
     "name": "stderr",
     "output_type": "stream",
     "text": [
      "Epoch 25/150: 100%|██████████| 79/79 [00:00<00:00, 291.70it/s]\n"
     ]
    },
    {
     "name": "stdout",
     "output_type": "stream",
     "text": [
      "\n",
      "Epoch 25/150:\n",
      "Training Loss: 1.7874\n",
      "Validation Loss: 2.0223\n",
      "\n",
      "Validation Errors:\n",
      "shoulder-breadth: 0.7612\n",
      "chest: 0.7946\n"
     ]
    },
    {
     "name": "stderr",
     "output_type": "stream",
     "text": [
      "Epoch 26/150: 100%|██████████| 79/79 [00:00<00:00, 261.14it/s]\n"
     ]
    },
    {
     "name": "stdout",
     "output_type": "stream",
     "text": [
      "\n",
      "Epoch 26/150:\n",
      "Training Loss: 1.7955\n",
      "Validation Loss: 2.0009\n",
      "\n",
      "Validation Errors:\n",
      "shoulder-breadth: 0.7619\n",
      "chest: 0.7867\n"
     ]
    },
    {
     "name": "stderr",
     "output_type": "stream",
     "text": [
      "Epoch 27/150: 100%|██████████| 79/79 [00:00<00:00, 326.64it/s]\n"
     ]
    },
    {
     "name": "stdout",
     "output_type": "stream",
     "text": [
      "\n",
      "Epoch 27/150:\n",
      "Training Loss: 1.7848\n",
      "Validation Loss: 2.0395\n",
      "\n",
      "Validation Errors:\n",
      "shoulder-breadth: 0.7641\n",
      "chest: 0.7908\n"
     ]
    },
    {
     "name": "stderr",
     "output_type": "stream",
     "text": [
      "Epoch 28/150: 100%|██████████| 79/79 [00:00<00:00, 330.32it/s]\n"
     ]
    },
    {
     "name": "stdout",
     "output_type": "stream",
     "text": [
      "\n",
      "Epoch 28/150:\n",
      "Training Loss: 1.7332\n",
      "Validation Loss: 2.0313\n",
      "\n",
      "Validation Errors:\n",
      "shoulder-breadth: 0.7621\n",
      "chest: 0.7900\n"
     ]
    },
    {
     "name": "stderr",
     "output_type": "stream",
     "text": [
      "Epoch 29/150: 100%|██████████| 79/79 [00:00<00:00, 307.67it/s]\n"
     ]
    },
    {
     "name": "stdout",
     "output_type": "stream",
     "text": [
      "\n",
      "Epoch 29/150:\n",
      "Training Loss: 1.6924\n",
      "Validation Loss: 1.9675\n",
      "\n",
      "Validation Errors:\n",
      "shoulder-breadth: 0.7441\n",
      "chest: 0.7867\n"
     ]
    },
    {
     "name": "stderr",
     "output_type": "stream",
     "text": [
      "Epoch 30/150: 100%|██████████| 79/79 [00:00<00:00, 326.14it/s]\n"
     ]
    },
    {
     "name": "stdout",
     "output_type": "stream",
     "text": [
      "\n",
      "Epoch 30/150:\n",
      "Training Loss: 1.6919\n",
      "Validation Loss: 1.9719\n",
      "\n",
      "Validation Errors:\n",
      "shoulder-breadth: 0.7524\n",
      "chest: 0.7914\n"
     ]
    },
    {
     "name": "stderr",
     "output_type": "stream",
     "text": [
      "Epoch 31/150: 100%|██████████| 79/79 [00:00<00:00, 251.80it/s]\n"
     ]
    },
    {
     "name": "stdout",
     "output_type": "stream",
     "text": [
      "\n",
      "Epoch 31/150:\n",
      "Training Loss: 1.7162\n",
      "Validation Loss: 1.9820\n",
      "\n",
      "Validation Errors:\n",
      "shoulder-breadth: 0.7540\n",
      "chest: 0.7825\n"
     ]
    },
    {
     "name": "stderr",
     "output_type": "stream",
     "text": [
      "Epoch 32/150: 100%|██████████| 79/79 [00:00<00:00, 351.99it/s]\n"
     ]
    },
    {
     "name": "stdout",
     "output_type": "stream",
     "text": [
      "\n",
      "Epoch 32/150:\n",
      "Training Loss: 1.7353\n",
      "Validation Loss: 1.9763\n",
      "\n",
      "Validation Errors:\n",
      "shoulder-breadth: 0.7499\n",
      "chest: 0.7774\n"
     ]
    },
    {
     "name": "stderr",
     "output_type": "stream",
     "text": [
      "Epoch 33/150: 100%|██████████| 79/79 [00:00<00:00, 333.93it/s]\n"
     ]
    },
    {
     "name": "stdout",
     "output_type": "stream",
     "text": [
      "\n",
      "Epoch 33/150:\n",
      "Training Loss: 1.7315\n",
      "Validation Loss: 1.9261\n",
      "\n",
      "Validation Errors:\n",
      "shoulder-breadth: 0.7454\n",
      "chest: 0.7705\n"
     ]
    },
    {
     "name": "stderr",
     "output_type": "stream",
     "text": [
      "Epoch 34/150: 100%|██████████| 79/79 [00:00<00:00, 322.44it/s]\n"
     ]
    },
    {
     "name": "stdout",
     "output_type": "stream",
     "text": [
      "\n",
      "Epoch 34/150:\n",
      "Training Loss: 1.7715\n",
      "Validation Loss: 1.9698\n",
      "\n",
      "Validation Errors:\n",
      "shoulder-breadth: 0.7557\n",
      "chest: 0.7756\n"
     ]
    },
    {
     "name": "stderr",
     "output_type": "stream",
     "text": [
      "Epoch 35/150: 100%|██████████| 79/79 [00:00<00:00, 326.55it/s]\n"
     ]
    },
    {
     "name": "stdout",
     "output_type": "stream",
     "text": [
      "\n",
      "Epoch 35/150:\n",
      "Training Loss: 1.7281\n",
      "Validation Loss: 1.9765\n",
      "\n",
      "Validation Errors:\n",
      "shoulder-breadth: 0.7527\n",
      "chest: 0.7680\n"
     ]
    },
    {
     "name": "stderr",
     "output_type": "stream",
     "text": [
      "Epoch 36/150: 100%|██████████| 79/79 [00:00<00:00, 374.40it/s]\n"
     ]
    },
    {
     "name": "stdout",
     "output_type": "stream",
     "text": [
      "\n",
      "Epoch 36/150:\n",
      "Training Loss: 1.6906\n",
      "Validation Loss: 1.9576\n",
      "\n",
      "Validation Errors:\n",
      "shoulder-breadth: 0.7469\n",
      "chest: 0.7718\n"
     ]
    },
    {
     "name": "stderr",
     "output_type": "stream",
     "text": [
      "Epoch 37/150: 100%|██████████| 79/79 [00:00<00:00, 280.30it/s]\n"
     ]
    },
    {
     "name": "stdout",
     "output_type": "stream",
     "text": [
      "\n",
      "Epoch 37/150:\n",
      "Training Loss: 1.7162\n",
      "Validation Loss: 1.9013\n",
      "\n",
      "Validation Errors:\n",
      "shoulder-breadth: 0.7415\n",
      "chest: 0.7682\n"
     ]
    },
    {
     "name": "stderr",
     "output_type": "stream",
     "text": [
      "Epoch 38/150: 100%|██████████| 79/79 [00:00<00:00, 167.90it/s]\n"
     ]
    },
    {
     "name": "stdout",
     "output_type": "stream",
     "text": [
      "\n",
      "Epoch 38/150:\n",
      "Training Loss: 1.6449\n",
      "Validation Loss: 1.8914\n",
      "\n",
      "Validation Errors:\n",
      "shoulder-breadth: 0.7284\n",
      "chest: 0.7624\n"
     ]
    },
    {
     "name": "stderr",
     "output_type": "stream",
     "text": [
      "Epoch 39/150: 100%|██████████| 79/79 [00:00<00:00, 240.03it/s]\n"
     ]
    },
    {
     "name": "stdout",
     "output_type": "stream",
     "text": [
      "\n",
      "Epoch 39/150:\n",
      "Training Loss: 1.6658\n",
      "Validation Loss: 1.8832\n",
      "\n",
      "Validation Errors:\n",
      "shoulder-breadth: 0.7292\n",
      "chest: 0.7640\n"
     ]
    },
    {
     "name": "stderr",
     "output_type": "stream",
     "text": [
      "Epoch 40/150: 100%|██████████| 79/79 [00:00<00:00, 221.25it/s]\n"
     ]
    },
    {
     "name": "stdout",
     "output_type": "stream",
     "text": [
      "\n",
      "Epoch 40/150:\n",
      "Training Loss: 1.7283\n",
      "Validation Loss: 1.8642\n",
      "\n",
      "Validation Errors:\n",
      "shoulder-breadth: 0.7376\n",
      "chest: 0.7618\n"
     ]
    },
    {
     "name": "stderr",
     "output_type": "stream",
     "text": [
      "Epoch 41/150: 100%|██████████| 79/79 [00:00<00:00, 221.54it/s]\n"
     ]
    },
    {
     "name": "stdout",
     "output_type": "stream",
     "text": [
      "\n",
      "Epoch 41/150:\n",
      "Training Loss: 1.7269\n",
      "Validation Loss: 1.9157\n",
      "\n",
      "Validation Errors:\n",
      "shoulder-breadth: 0.7414\n",
      "chest: 0.7663\n"
     ]
    },
    {
     "name": "stderr",
     "output_type": "stream",
     "text": [
      "Epoch 42/150: 100%|██████████| 79/79 [00:00<00:00, 341.70it/s]\n"
     ]
    },
    {
     "name": "stdout",
     "output_type": "stream",
     "text": [
      "\n",
      "Epoch 42/150:\n",
      "Training Loss: 1.6297\n",
      "Validation Loss: 1.9097\n",
      "\n",
      "Validation Errors:\n",
      "shoulder-breadth: 0.7445\n",
      "chest: 0.7708\n"
     ]
    },
    {
     "name": "stderr",
     "output_type": "stream",
     "text": [
      "Epoch 43/150: 100%|██████████| 79/79 [00:00<00:00, 317.78it/s]\n"
     ]
    },
    {
     "name": "stdout",
     "output_type": "stream",
     "text": [
      "\n",
      "Epoch 43/150:\n",
      "Training Loss: 1.6782\n",
      "Validation Loss: 1.8671\n",
      "\n",
      "Validation Errors:\n",
      "shoulder-breadth: 0.7274\n",
      "chest: 0.7667\n"
     ]
    },
    {
     "name": "stderr",
     "output_type": "stream",
     "text": [
      "Epoch 44/150: 100%|██████████| 79/79 [00:00<00:00, 306.44it/s]\n"
     ]
    },
    {
     "name": "stdout",
     "output_type": "stream",
     "text": [
      "\n",
      "Epoch 44/150:\n",
      "Training Loss: 1.7300\n",
      "Validation Loss: 1.8584\n",
      "\n",
      "Validation Errors:\n",
      "shoulder-breadth: 0.7288\n",
      "chest: 0.7701\n"
     ]
    },
    {
     "name": "stderr",
     "output_type": "stream",
     "text": [
      "Epoch 45/150: 100%|██████████| 79/79 [00:00<00:00, 316.23it/s]\n"
     ]
    },
    {
     "name": "stdout",
     "output_type": "stream",
     "text": [
      "\n",
      "Epoch 45/150:\n",
      "Training Loss: 1.6940\n",
      "Validation Loss: 1.8514\n",
      "\n",
      "Validation Errors:\n",
      "shoulder-breadth: 0.7218\n",
      "chest: 0.7593\n"
     ]
    },
    {
     "name": "stderr",
     "output_type": "stream",
     "text": [
      "Epoch 46/150: 100%|██████████| 79/79 [00:00<00:00, 319.57it/s]\n"
     ]
    },
    {
     "name": "stdout",
     "output_type": "stream",
     "text": [
      "\n",
      "Epoch 46/150:\n",
      "Training Loss: 1.6697\n",
      "Validation Loss: 1.8567\n",
      "\n",
      "Validation Errors:\n",
      "shoulder-breadth: 0.7278\n",
      "chest: 0.7646\n"
     ]
    },
    {
     "name": "stderr",
     "output_type": "stream",
     "text": [
      "Epoch 47/150: 100%|██████████| 79/79 [00:00<00:00, 310.49it/s]\n"
     ]
    },
    {
     "name": "stdout",
     "output_type": "stream",
     "text": [
      "\n",
      "Epoch 47/150:\n",
      "Training Loss: 1.6966\n",
      "Validation Loss: 1.8880\n",
      "\n",
      "Validation Errors:\n",
      "shoulder-breadth: 0.7394\n",
      "chest: 0.7579\n"
     ]
    },
    {
     "name": "stderr",
     "output_type": "stream",
     "text": [
      "Epoch 48/150: 100%|██████████| 79/79 [00:00<00:00, 287.94it/s]\n"
     ]
    },
    {
     "name": "stdout",
     "output_type": "stream",
     "text": [
      "\n",
      "Epoch 48/150:\n",
      "Training Loss: 1.6603\n",
      "Validation Loss: 1.9129\n",
      "\n",
      "Validation Errors:\n",
      "shoulder-breadth: 0.7379\n",
      "chest: 0.7622\n"
     ]
    },
    {
     "name": "stderr",
     "output_type": "stream",
     "text": [
      "Epoch 49/150: 100%|██████████| 79/79 [00:00<00:00, 348.95it/s]\n"
     ]
    },
    {
     "name": "stdout",
     "output_type": "stream",
     "text": [
      "\n",
      "Epoch 49/150:\n",
      "Training Loss: 1.6638\n",
      "Validation Loss: 1.7959\n",
      "\n",
      "Validation Errors:\n",
      "shoulder-breadth: 0.7168\n",
      "chest: 0.7561\n"
     ]
    },
    {
     "name": "stderr",
     "output_type": "stream",
     "text": [
      "Epoch 50/150: 100%|██████████| 79/79 [00:00<00:00, 326.85it/s]\n"
     ]
    },
    {
     "name": "stdout",
     "output_type": "stream",
     "text": [
      "\n",
      "Epoch 50/150:\n",
      "Training Loss: 1.6711\n",
      "Validation Loss: 1.7776\n",
      "\n",
      "Validation Errors:\n",
      "shoulder-breadth: 0.7198\n",
      "chest: 0.7531\n"
     ]
    },
    {
     "name": "stderr",
     "output_type": "stream",
     "text": [
      "Epoch 51/150: 100%|██████████| 79/79 [00:00<00:00, 323.61it/s]\n"
     ]
    },
    {
     "name": "stdout",
     "output_type": "stream",
     "text": [
      "\n",
      "Epoch 51/150:\n",
      "Training Loss: 1.6389\n",
      "Validation Loss: 1.9526\n",
      "\n",
      "Validation Errors:\n",
      "shoulder-breadth: 0.7426\n",
      "chest: 0.7753\n"
     ]
    },
    {
     "name": "stderr",
     "output_type": "stream",
     "text": [
      "Epoch 52/150: 100%|██████████| 79/79 [00:00<00:00, 330.29it/s]\n"
     ]
    },
    {
     "name": "stdout",
     "output_type": "stream",
     "text": [
      "\n",
      "Epoch 52/150:\n",
      "Training Loss: 1.5836\n",
      "Validation Loss: 1.8963\n",
      "\n",
      "Validation Errors:\n",
      "shoulder-breadth: 0.7309\n",
      "chest: 0.7634\n"
     ]
    },
    {
     "name": "stderr",
     "output_type": "stream",
     "text": [
      "Epoch 53/150: 100%|██████████| 79/79 [00:00<00:00, 312.41it/s]\n"
     ]
    },
    {
     "name": "stdout",
     "output_type": "stream",
     "text": [
      "\n",
      "Epoch 53/150:\n",
      "Training Loss: 1.6726\n",
      "Validation Loss: 1.9388\n",
      "\n",
      "Validation Errors:\n",
      "shoulder-breadth: 0.7403\n",
      "chest: 0.7702\n"
     ]
    },
    {
     "name": "stderr",
     "output_type": "stream",
     "text": [
      "Epoch 54/150: 100%|██████████| 79/79 [00:00<00:00, 268.96it/s]\n"
     ]
    },
    {
     "name": "stdout",
     "output_type": "stream",
     "text": [
      "\n",
      "Epoch 54/150:\n",
      "Training Loss: 1.6795\n",
      "Validation Loss: 1.8754\n",
      "\n",
      "Validation Errors:\n",
      "shoulder-breadth: 0.7222\n",
      "chest: 0.7588\n"
     ]
    },
    {
     "name": "stderr",
     "output_type": "stream",
     "text": [
      "Epoch 55/150: 100%|██████████| 79/79 [00:00<00:00, 208.95it/s]\n"
     ]
    },
    {
     "name": "stdout",
     "output_type": "stream",
     "text": [
      "\n",
      "Epoch 55/150:\n",
      "Training Loss: 1.6609\n",
      "Validation Loss: 1.8875\n",
      "\n",
      "Validation Errors:\n",
      "shoulder-breadth: 0.7331\n",
      "chest: 0.7533\n"
     ]
    },
    {
     "name": "stderr",
     "output_type": "stream",
     "text": [
      "Epoch 56/150: 100%|██████████| 79/79 [00:00<00:00, 243.55it/s]\n"
     ]
    },
    {
     "name": "stdout",
     "output_type": "stream",
     "text": [
      "\n",
      "Epoch 56/150:\n",
      "Training Loss: 1.6074\n",
      "Validation Loss: 1.8197\n",
      "\n",
      "Validation Errors:\n",
      "shoulder-breadth: 0.7253\n",
      "chest: 0.7447\n"
     ]
    },
    {
     "name": "stderr",
     "output_type": "stream",
     "text": [
      "Epoch 57/150: 100%|██████████| 79/79 [00:00<00:00, 263.68it/s]\n"
     ]
    },
    {
     "name": "stdout",
     "output_type": "stream",
     "text": [
      "\n",
      "Epoch 57/150:\n",
      "Training Loss: 1.6285\n",
      "Validation Loss: 1.8306\n",
      "\n",
      "Validation Errors:\n",
      "shoulder-breadth: 0.7197\n",
      "chest: 0.7532\n"
     ]
    },
    {
     "name": "stderr",
     "output_type": "stream",
     "text": [
      "Epoch 58/150: 100%|██████████| 79/79 [00:00<00:00, 334.76it/s]\n"
     ]
    },
    {
     "name": "stdout",
     "output_type": "stream",
     "text": [
      "\n",
      "Epoch 58/150:\n",
      "Training Loss: 1.6230\n",
      "Validation Loss: 1.7695\n",
      "\n",
      "Validation Errors:\n",
      "shoulder-breadth: 0.7115\n",
      "chest: 0.7462\n"
     ]
    },
    {
     "name": "stderr",
     "output_type": "stream",
     "text": [
      "Epoch 59/150: 100%|██████████| 79/79 [00:00<00:00, 290.05it/s]\n"
     ]
    },
    {
     "name": "stdout",
     "output_type": "stream",
     "text": [
      "\n",
      "Epoch 59/150:\n",
      "Training Loss: 1.6461\n",
      "Validation Loss: 2.0059\n",
      "\n",
      "Validation Errors:\n",
      "shoulder-breadth: 0.7609\n",
      "chest: 0.7618\n"
     ]
    },
    {
     "name": "stderr",
     "output_type": "stream",
     "text": [
      "Epoch 60/150: 100%|██████████| 79/79 [00:00<00:00, 323.15it/s]\n"
     ]
    },
    {
     "name": "stdout",
     "output_type": "stream",
     "text": [
      "\n",
      "Epoch 60/150:\n",
      "Training Loss: 1.6985\n",
      "Validation Loss: 1.7472\n",
      "\n",
      "Validation Errors:\n",
      "shoulder-breadth: 0.7128\n",
      "chest: 0.7578\n"
     ]
    },
    {
     "name": "stderr",
     "output_type": "stream",
     "text": [
      "Epoch 61/150: 100%|██████████| 79/79 [00:00<00:00, 337.43it/s]\n"
     ]
    },
    {
     "name": "stdout",
     "output_type": "stream",
     "text": [
      "\n",
      "Epoch 61/150:\n",
      "Training Loss: 1.6242\n",
      "Validation Loss: 1.8122\n",
      "\n",
      "Validation Errors:\n",
      "shoulder-breadth: 0.7264\n",
      "chest: 0.7454\n"
     ]
    },
    {
     "name": "stderr",
     "output_type": "stream",
     "text": [
      "Epoch 62/150: 100%|██████████| 79/79 [00:00<00:00, 364.13it/s]\n"
     ]
    },
    {
     "name": "stdout",
     "output_type": "stream",
     "text": [
      "\n",
      "Epoch 62/150:\n",
      "Training Loss: 1.6516\n",
      "Validation Loss: 1.8723\n",
      "\n",
      "Validation Errors:\n",
      "shoulder-breadth: 0.7303\n",
      "chest: 0.7449\n"
     ]
    },
    {
     "name": "stderr",
     "output_type": "stream",
     "text": [
      "Epoch 63/150: 100%|██████████| 79/79 [00:00<00:00, 255.24it/s]\n"
     ]
    },
    {
     "name": "stdout",
     "output_type": "stream",
     "text": [
      "\n",
      "Epoch 63/150:\n",
      "Training Loss: 1.5348\n",
      "Validation Loss: 1.7571\n",
      "\n",
      "Validation Errors:\n",
      "shoulder-breadth: 0.7113\n",
      "chest: 0.7494\n"
     ]
    },
    {
     "name": "stderr",
     "output_type": "stream",
     "text": [
      "Epoch 64/150: 100%|██████████| 79/79 [00:00<00:00, 301.39it/s]\n"
     ]
    },
    {
     "name": "stdout",
     "output_type": "stream",
     "text": [
      "\n",
      "Epoch 64/150:\n",
      "Training Loss: 1.6260\n",
      "Validation Loss: 1.7878\n",
      "\n",
      "Validation Errors:\n",
      "shoulder-breadth: 0.7110\n",
      "chest: 0.7353\n"
     ]
    },
    {
     "name": "stderr",
     "output_type": "stream",
     "text": [
      "Epoch 65/150: 100%|██████████| 79/79 [00:00<00:00, 320.26it/s]\n"
     ]
    },
    {
     "name": "stdout",
     "output_type": "stream",
     "text": [
      "\n",
      "Epoch 65/150:\n",
      "Training Loss: 1.5545\n",
      "Validation Loss: 1.8420\n",
      "\n",
      "Validation Errors:\n",
      "shoulder-breadth: 0.7280\n",
      "chest: 0.7489\n"
     ]
    },
    {
     "name": "stderr",
     "output_type": "stream",
     "text": [
      "Epoch 66/150: 100%|██████████| 79/79 [00:00<00:00, 220.45it/s]\n"
     ]
    },
    {
     "name": "stdout",
     "output_type": "stream",
     "text": [
      "\n",
      "Epoch 66/150:\n",
      "Training Loss: 1.6033\n",
      "Validation Loss: 1.7470\n",
      "\n",
      "Validation Errors:\n",
      "shoulder-breadth: 0.7023\n",
      "chest: 0.7378\n"
     ]
    },
    {
     "name": "stderr",
     "output_type": "stream",
     "text": [
      "Epoch 67/150: 100%|██████████| 79/79 [00:00<00:00, 319.45it/s]\n"
     ]
    },
    {
     "name": "stdout",
     "output_type": "stream",
     "text": [
      "\n",
      "Epoch 67/150:\n",
      "Training Loss: 1.6283\n",
      "Validation Loss: 1.7333\n",
      "\n",
      "Validation Errors:\n",
      "shoulder-breadth: 0.6975\n",
      "chest: 0.7339\n"
     ]
    },
    {
     "name": "stderr",
     "output_type": "stream",
     "text": [
      "Epoch 68/150: 100%|██████████| 79/79 [00:00<00:00, 339.34it/s]\n"
     ]
    },
    {
     "name": "stdout",
     "output_type": "stream",
     "text": [
      "\n",
      "Epoch 68/150:\n",
      "Training Loss: 1.5195\n",
      "Validation Loss: 1.7306\n",
      "\n",
      "Validation Errors:\n",
      "shoulder-breadth: 0.7033\n",
      "chest: 0.7346\n"
     ]
    },
    {
     "name": "stderr",
     "output_type": "stream",
     "text": [
      "Epoch 69/150: 100%|██████████| 79/79 [00:00<00:00, 351.68it/s]\n"
     ]
    },
    {
     "name": "stdout",
     "output_type": "stream",
     "text": [
      "\n",
      "Epoch 69/150:\n",
      "Training Loss: 1.5461\n",
      "Validation Loss: 1.7119\n",
      "\n",
      "Validation Errors:\n",
      "shoulder-breadth: 0.6987\n",
      "chest: 0.7309\n"
     ]
    },
    {
     "name": "stderr",
     "output_type": "stream",
     "text": [
      "Epoch 70/150: 100%|██████████| 79/79 [00:00<00:00, 279.63it/s]\n"
     ]
    },
    {
     "name": "stdout",
     "output_type": "stream",
     "text": [
      "\n",
      "Epoch 70/150:\n",
      "Training Loss: 1.5825\n",
      "Validation Loss: 1.8608\n",
      "\n",
      "Validation Errors:\n",
      "shoulder-breadth: 0.7251\n",
      "chest: 0.7546\n"
     ]
    },
    {
     "name": "stderr",
     "output_type": "stream",
     "text": [
      "Epoch 71/150: 100%|██████████| 79/79 [00:00<00:00, 317.78it/s]\n"
     ]
    },
    {
     "name": "stdout",
     "output_type": "stream",
     "text": [
      "\n",
      "Epoch 71/150:\n",
      "Training Loss: 1.5905\n",
      "Validation Loss: 1.7354\n",
      "\n",
      "Validation Errors:\n",
      "shoulder-breadth: 0.7066\n",
      "chest: 0.7275\n"
     ]
    },
    {
     "name": "stderr",
     "output_type": "stream",
     "text": [
      "Epoch 72/150: 100%|██████████| 79/79 [00:00<00:00, 338.42it/s]\n"
     ]
    },
    {
     "name": "stdout",
     "output_type": "stream",
     "text": [
      "\n",
      "Epoch 72/150:\n",
      "Training Loss: 1.5371\n",
      "Validation Loss: 1.8366\n",
      "\n",
      "Validation Errors:\n",
      "shoulder-breadth: 0.7237\n",
      "chest: 0.7504\n"
     ]
    },
    {
     "name": "stderr",
     "output_type": "stream",
     "text": [
      "Epoch 73/150: 100%|██████████| 79/79 [00:00<00:00, 284.74it/s]\n"
     ]
    },
    {
     "name": "stdout",
     "output_type": "stream",
     "text": [
      "\n",
      "Epoch 73/150:\n",
      "Training Loss: 1.5464\n",
      "Validation Loss: 1.7867\n",
      "\n",
      "Validation Errors:\n",
      "shoulder-breadth: 0.7111\n",
      "chest: 0.7361\n"
     ]
    },
    {
     "name": "stderr",
     "output_type": "stream",
     "text": [
      "Epoch 74/150: 100%|██████████| 79/79 [00:00<00:00, 298.91it/s]\n"
     ]
    },
    {
     "name": "stdout",
     "output_type": "stream",
     "text": [
      "\n",
      "Epoch 74/150:\n",
      "Training Loss: 1.5903\n",
      "Validation Loss: 1.7825\n",
      "\n",
      "Validation Errors:\n",
      "shoulder-breadth: 0.7066\n",
      "chest: 0.7429\n"
     ]
    },
    {
     "name": "stderr",
     "output_type": "stream",
     "text": [
      "Epoch 75/150: 100%|██████████| 79/79 [00:00<00:00, 189.07it/s]\n"
     ]
    },
    {
     "name": "stdout",
     "output_type": "stream",
     "text": [
      "\n",
      "Epoch 75/150:\n",
      "Training Loss: 1.6772\n",
      "Validation Loss: 1.7753\n",
      "\n",
      "Validation Errors:\n",
      "shoulder-breadth: 0.7110\n",
      "chest: 0.7441\n"
     ]
    },
    {
     "name": "stderr",
     "output_type": "stream",
     "text": [
      "Epoch 76/150: 100%|██████████| 79/79 [00:00<00:00, 207.79it/s]\n"
     ]
    },
    {
     "name": "stdout",
     "output_type": "stream",
     "text": [
      "\n",
      "Epoch 76/150:\n",
      "Training Loss: 1.5883\n",
      "Validation Loss: 1.7958\n",
      "\n",
      "Validation Errors:\n",
      "shoulder-breadth: 0.7165\n",
      "chest: 0.7398\n"
     ]
    },
    {
     "name": "stderr",
     "output_type": "stream",
     "text": [
      "Epoch 77/150: 100%|██████████| 79/79 [00:00<00:00, 271.98it/s]\n"
     ]
    },
    {
     "name": "stdout",
     "output_type": "stream",
     "text": [
      "\n",
      "Epoch 77/150:\n",
      "Training Loss: 1.6084\n",
      "Validation Loss: 1.7952\n",
      "\n",
      "Validation Errors:\n",
      "shoulder-breadth: 0.7185\n",
      "chest: 0.7353\n"
     ]
    },
    {
     "name": "stderr",
     "output_type": "stream",
     "text": [
      "Epoch 78/150: 100%|██████████| 79/79 [00:00<00:00, 288.05it/s]\n"
     ]
    },
    {
     "name": "stdout",
     "output_type": "stream",
     "text": [
      "\n",
      "Epoch 78/150:\n",
      "Training Loss: 1.5472\n",
      "Validation Loss: 1.8363\n",
      "\n",
      "Validation Errors:\n",
      "shoulder-breadth: 0.7189\n",
      "chest: 0.7475\n"
     ]
    },
    {
     "name": "stderr",
     "output_type": "stream",
     "text": [
      "Epoch 79/150: 100%|██████████| 79/79 [00:00<00:00, 332.59it/s]\n"
     ]
    },
    {
     "name": "stdout",
     "output_type": "stream",
     "text": [
      "\n",
      "Epoch 79/150:\n",
      "Training Loss: 1.5777\n",
      "Validation Loss: 1.7438\n",
      "\n",
      "Validation Errors:\n",
      "shoulder-breadth: 0.7034\n",
      "chest: 0.7306\n"
     ]
    },
    {
     "name": "stderr",
     "output_type": "stream",
     "text": [
      "Epoch 80/150: 100%|██████████| 79/79 [00:00<00:00, 360.97it/s]\n"
     ]
    },
    {
     "name": "stdout",
     "output_type": "stream",
     "text": [
      "\n",
      "Epoch 80/150:\n",
      "Training Loss: 1.6573\n",
      "Validation Loss: 1.8288\n",
      "\n",
      "Validation Errors:\n",
      "shoulder-breadth: 0.7147\n",
      "chest: 0.7482\n"
     ]
    },
    {
     "name": "stderr",
     "output_type": "stream",
     "text": [
      "Epoch 81/150: 100%|██████████| 79/79 [00:00<00:00, 343.84it/s]\n"
     ]
    },
    {
     "name": "stdout",
     "output_type": "stream",
     "text": [
      "\n",
      "Epoch 81/150:\n",
      "Training Loss: 1.5453\n",
      "Validation Loss: 1.7942\n",
      "\n",
      "Validation Errors:\n",
      "shoulder-breadth: 0.7043\n",
      "chest: 0.7411\n"
     ]
    },
    {
     "name": "stderr",
     "output_type": "stream",
     "text": [
      "Epoch 82/150: 100%|██████████| 79/79 [00:00<00:00, 315.22it/s]\n"
     ]
    },
    {
     "name": "stdout",
     "output_type": "stream",
     "text": [
      "\n",
      "Epoch 82/150:\n",
      "Training Loss: 1.6105\n",
      "Validation Loss: 1.7258\n",
      "\n",
      "Validation Errors:\n",
      "shoulder-breadth: 0.7080\n",
      "chest: 0.7323\n"
     ]
    },
    {
     "name": "stderr",
     "output_type": "stream",
     "text": [
      "Epoch 83/150: 100%|██████████| 79/79 [00:00<00:00, 307.05it/s]\n"
     ]
    },
    {
     "name": "stdout",
     "output_type": "stream",
     "text": [
      "\n",
      "Epoch 83/150:\n",
      "Training Loss: 1.5903\n",
      "Validation Loss: 1.9383\n",
      "\n",
      "Validation Errors:\n",
      "shoulder-breadth: 0.7409\n",
      "chest: 0.7775\n"
     ]
    },
    {
     "name": "stderr",
     "output_type": "stream",
     "text": [
      "Epoch 84/150: 100%|██████████| 79/79 [00:00<00:00, 309.99it/s]\n"
     ]
    },
    {
     "name": "stdout",
     "output_type": "stream",
     "text": [
      "\n",
      "Epoch 84/150:\n",
      "Training Loss: 1.6358\n",
      "Validation Loss: 1.7846\n",
      "\n",
      "Validation Errors:\n",
      "shoulder-breadth: 0.7168\n",
      "chest: 0.7490\n"
     ]
    },
    {
     "name": "stderr",
     "output_type": "stream",
     "text": [
      "Epoch 85/150: 100%|██████████| 79/79 [00:00<00:00, 290.39it/s]\n"
     ]
    },
    {
     "name": "stdout",
     "output_type": "stream",
     "text": [
      "\n",
      "Epoch 85/150:\n",
      "Training Loss: 1.6070\n",
      "Validation Loss: 1.8532\n",
      "\n",
      "Validation Errors:\n",
      "shoulder-breadth: 0.7235\n",
      "chest: 0.7467\n"
     ]
    },
    {
     "name": "stderr",
     "output_type": "stream",
     "text": [
      "Epoch 86/150: 100%|██████████| 79/79 [00:00<00:00, 305.26it/s]\n"
     ]
    },
    {
     "name": "stdout",
     "output_type": "stream",
     "text": [
      "\n",
      "Epoch 86/150:\n",
      "Training Loss: 1.5992\n",
      "Validation Loss: 1.8329\n",
      "\n",
      "Validation Errors:\n",
      "shoulder-breadth: 0.7224\n",
      "chest: 0.7514\n"
     ]
    },
    {
     "name": "stderr",
     "output_type": "stream",
     "text": [
      "Epoch 87/150: 100%|██████████| 79/79 [00:00<00:00, 342.14it/s]\n"
     ]
    },
    {
     "name": "stdout",
     "output_type": "stream",
     "text": [
      "\n",
      "Epoch 87/150:\n",
      "Training Loss: 1.5668\n",
      "Validation Loss: 1.7496\n",
      "\n",
      "Validation Errors:\n",
      "shoulder-breadth: 0.6998\n",
      "chest: 0.7338\n"
     ]
    },
    {
     "name": "stderr",
     "output_type": "stream",
     "text": [
      "Epoch 88/150: 100%|██████████| 79/79 [00:00<00:00, 346.64it/s]\n"
     ]
    },
    {
     "name": "stdout",
     "output_type": "stream",
     "text": [
      "\n",
      "Epoch 88/150:\n",
      "Training Loss: 1.5471\n",
      "Validation Loss: 1.7831\n",
      "\n",
      "Validation Errors:\n",
      "shoulder-breadth: 0.7074\n",
      "chest: 0.7429\n"
     ]
    },
    {
     "name": "stderr",
     "output_type": "stream",
     "text": [
      "Epoch 89/150: 100%|██████████| 79/79 [00:00<00:00, 232.24it/s]"
     ]
    },
    {
     "name": "stdout",
     "output_type": "stream",
     "text": [
      "\n",
      "Epoch 89/150:\n",
      "Training Loss: 1.6547\n",
      "Validation Loss: 1.7379\n",
      "\n",
      "Validation Errors:\n",
      "shoulder-breadth: 0.7050\n",
      "chest: 0.7464\n",
      "\n",
      "Early stopping triggered at epoch 89\n"
     ]
    },
    {
     "name": "stderr",
     "output_type": "stream",
     "text": [
      "\n"
     ]
    }
   ],
   "source": [
    "cfg.PREPROCESS_CONFIG['is_silhouette'] = True\n",
    "train_data = processor.process_dataset('measurements-train.csv')\n",
    "train_data.to_csv('measurements_with_landmarks.csv', index=False)\n",
    "model_manager.train(train_data)"
   ]
  },
  {
   "cell_type": "code",
   "execution_count": 8,
   "metadata": {},
   "outputs": [
    {
     "name": "stderr",
     "output_type": "stream",
     "text": [
      "100%|██████████| 157/157 [00:22<00:00,  6.98it/s]\n"
     ]
    }
   ],
   "source": [
    "import torch\n",
    "import json\n",
    "import os\n",
    "from tqdm import tqdm\n",
    "import time\n",
    "\n",
    "# Setup\n",
    "os.environ['TF_CPP_MIN_LOG_LEVEL'] = '3'\n",
    "os.environ['CUDA_VISIBLE_DEVICES'] = ''\n",
    "output_dir = f\"./testing/iter_testing/iter_{str(int(time.time()))}/\"\n",
    "os.makedirs(output_dir, exist_ok=True)\n",
    "\n",
    "# Configure MPS if available\n",
    "if torch.backends.mps.is_available():\n",
    "    torch.device(\"mps\")\n",
    "    torch.mps.set_per_process_memory_fraction(0.7)\n",
    "\n",
    "# Process all rows\n",
    "all_results = {}\n",
    "for idx, row in tqdm(fin_df.iterrows(), total=len(fin_df)):\n",
    "    try:\n",
    "        photo_id = row[\"photo_id\"]\n",
    "        result = {\n",
    "            \"real_measurements\": model_manager.predict(\n",
    "                processor.process_image(\n",
    "                    image_path=images_path + photo_id + \".png\", \n",
    "                    visualize=False\n",
    "                ), height=row[\"height\"]\n",
    "            ),\n",
    "            \"original_measurements\": {\n",
    "                \"shoulder_width\": row[\"shoulder-breadth\"],\n",
    "                \"total_height\": row[\"height\"]\n",
    "            }\n",
    "        }\n",
    "        \n",
    "        with open(os.path.join(output_dir, f\"{photo_id}.json\"), 'w') as f:\n",
    "            json.dump(result, f, indent=4)\n",
    "        all_results[photo_id] = result\n",
    "    except:\n",
    "        print(\"failed processing for\",row)\n",
    "        pass"
   ]
  },
  {
   "cell_type": "code",
   "execution_count": 25,
   "metadata": {},
   "outputs": [],
   "source": [
    "import os\n",
    "import json\n",
    "import numpy as np\n",
    "\n",
    "data_dir = \"./testing/iter_testing/iter_1733782964/\"\n",
    "ans = {}\n",
    "\n",
    "for filename in os.listdir(data_dir):\n",
    "    if filename.endswith('.json'):\n",
    "        file_path = os.path.join(data_dir, filename)\n",
    "        with open(file_path, 'r') as f:\n",
    "            ans[filename.replace('.json', '')] = json.load(f)"
   ]
  },
  {
   "cell_type": "code",
   "execution_count": 26,
   "metadata": {},
   "outputs": [
    {
     "name": "stdout",
     "output_type": "stream",
     "text": [
      "['6c2fd1f7ed1518d0f63e143b42a86aa8', '6be6fd51724e6562791dcb518224e392', 'cfa39d2960be62b4d25a417c2d446a8e', 'e225fda534e00e24cb4f90f84df90af2', 'acab23e6ea049a29f7f73606addc3b2c', '3388799c40b27c42f3ee4c2433b76db2', '612f70511f9722e910721d845a99ea72', 'ee7eb3228378aac767cd9a8cbdccee26', '6fa1c41fb522c5afff8797cfcff247ce', '8c4d5ad85b446ff4e8332e7981c68e10', 'c26aed30772e2f1534677e3b92483f4f', 'ec201a6238d23eb0f3101e1e88beb9ce', '37a1075be266e0c36ca7fd43ed9f3639', 'd55ceca8d3b04d720983bb9d2692bcb1', '1fe9b857ea166f4b6be8bebdecef7e61', '866c0e0b5390b356813af04c466928b3', '266e72a20e7e0f4c0119bbad4825887a', 'bf43b36cdc4674ad7d8b8130fdaacc95', 'f709442adc71374476cc0daf138afcf5', '6b25639753d2cecde54f99523f675ccc', '4bff9260e4123c291281f80896c0ba92', 'f8098ab6433bb96bd160b868b3e7db73', '99d08e653386b94b3680be3db9ba36d7', 'f370a08c1b19d7ec29de95b0c5f09d7f', 'b45a664a5936574cea7bec7665e0500f', '0f98eaef9657cf725e105a5cc5dc284e', '25134b2d2964e55e492b3537d729a744', '3024ecbb0a9da528731620202199b6ce', '69f20b616c4022c210997d9b04cb4566', 'c9bb3296bb6322db577cf32df5beea35', '7406ee65e9b7dfc5f23e83677119c653', '640a12dfb3c6b7ac7cbdcc3afcd8c709', '5c9783c21ec0a8c5deb8f9bf73d90c43', 'b304a96183efaadcd22c4322d7146ad7', '9da3eb31f25de7acb39d3a897202b017', '8096491c2df613c6f566a9be8778702b', '329622f666718d79156fc357bfe9dd58', '996a1af75c409951f3620c157b36d4f1', 'd5a3297d895a14a4c8f3d64c5545bff9', '566a92ecc5fd2e8fbcc8c3e9eeadaaae', '66bf06df66854bb319cdeee444309f9f', 'ac5a611492d79849504659b932835cfd', '5be67e6b37b0c1b07bf20c8e7e9e02cd', '1d9d8dead13f4f27b0c2d552c1df5597', '566ea25ef219e7870013db8609c30f7f', '672123e3325a5c3c6bf3909d8c254db7', 'f79cb7b5c4ef28c3bcf259e23b3c06a9', '361a16f6fb0ce859f3df094a841aeef1', 'c5b6f9a1e30c28db0cbf6796d4c50705', 'df8995aea18f6b6b3bd5343b7384a342', '1cd6db9de4fb6b8da7a5770f6ddc70eb', 'a85ff81e7852a9faeee91d611a5c373b', 'c9628824e4bf10e7ca958cbbf1e5b87a', '2c2bc6ca18d677721ec803b903103360', '629870950c12326cfd7ce35bd4a7a100', 'ec0d9b02968651a54ede11a71e002e40', '94974d61844087f4193a552ae9e51c2c', '3d7f5d30b6c1dddf854d2112bd0d0e3f', 'c245fc17f4d7ee473275fae9bd0a22d0', 'f5778c6914d51e01633f9b179100b633', '9ea312f14d487f6f930d8f538c13b023', '69f8ed9bd43a83fe80af8e94cacf1cd0', '5e49200da30f3421a934b31c614dbda7', '1eb6d74c591c508f4a032c438156164b', 'beabc7d5d272f6a1a697e10f97a68b5c', '38626dc8402b497be1796c5668f5f4eb', '6367d327f96b951e4a498c88d615e8a4', '0bf5db8026fba0c2727f7f0c0a718d46', '5ec83243cf4228cf3a5ee8cf6ff0a356', 'c5f9dd8f0c6b6fc245d6c7640cfb0c0d', '749fe245da2141a5029a0aa35a8dee64', '2544832722170aa8f01e36ec3cffe047', 'a0159896205d8144ed1ef0790c4f3b7d', '8ef84a8bb85e5e46d8984469d73f8c84', '7c0841f2898a7d3bb532b2ace8fac861', 'fddf4759ae19c4c58f096890324cbbab', '1d9f11941e1ef71dd20dc3d3cdf6c891', '6f0fa519888850494c53e2820937cd4f', '39d415eef1701480659016fb3075090f', '7199a127c1c2b033c1b35a34b5d6b203', '89c29fa73040d1c016e8ec5bfac774f7', '864227354699efe3638e451416468df9', '7d016a7d924ab8ff28c4fc24f5b63146', '4b8fc694eac0775f484fafac8d072c83', 'e0125d4fe5b034af7be09ff3a1416f76', '59364aa64da9a393bbc633d687c9acb7', '81d1fd0a79c0c34c646d56e23b72a1c8', '6931aa218658115e4f48d9dbba1957b5', '42a72eab832136998f09898cb819a3f7', '31e698fbe58686c516f1de4bdf7fdb24', '62c050ccf73b861829bea8c482f8846f', 'f891db4042418d15dd481ffeb7cad7c1', '07f99f5484c2aed56c63120c7e3afdac', 'abbc7348b47b44d80eb5b5a5408bdca3', '146ad4331f8cfaa217d258b70c5ae34e', '9356aeb47e6b52583208957bf9bc732a', 'b0d9af6831413eb3cd5689f4d2c90e01', 'ac7ae2f5ffd5db5153647ef407008e62', 'ea8430c39c58881ef186c0ebe40da8ed', 'b78dc2ea1debbab4a2f1e1bba6230526', 'cb38c7fd883be6f193b3f52d69d49d0a', '53e2c28ffc9243cc221c47f83e22e71f', '1271a18a79f009030f30765fd85f72da', 'b026ce09e6b60f263b6fbc0f4f186996', 'a2134e7cfe37d3c5442810d33038e919', 'bc7942dc0e2deaadf4df65d1bb5c74c8', '9d409c00648ecf8303ee757698b26be9', '3fdef3a35fa74a99e2e8f918121af649', '0404dd547677d8664bfa5dc60b77439f', '36fd4df70911a9d8362abd79b367d9c2', '4f3ec67b430f37a949093c3b1ce93a53', '2f8b2a9bc968dec89da3db689eba3829', '777e786e49a894861e94ae5246a723b3', '90c49980e8bbe8d226ca0db0eca2df7c', '1c64d9298e56963dc0307d1b62fbc284', 'd877e07ae54303b2919b5d5c74dba966', '7fe795bd1b408748d82773dbb306ae36', 'ea6927e984fca48252991ffe99ad09c9', '1d989b0cce2ae93a78e319f4abb8dc5b', '80fc5e3f59fc338f7b28e2620594b40d', '7ba220cfbf2288847af00ce66789dc08', 'd8f05d8795f44cc64c20621464b12714', 'c16da5db239445f306d61f06f5c51f44', 'a648f38355a628804b03be4a39aa1601', '0db3cecf5992ff2c04d05825973c25d9', 'd18ebb052e15aa67ac0b19c0c2f834d1', '7f2ddf85060da35cce5d6ded4315b7ce', '1e9e497cf0e86bfd8132ee5a20947c5c', 'df9a4db93e77c8cadbef2452908a71e8', '960d8574198b71acce45ab42d591055b', 'bbeec988e7a742cd5d394eb4875aefd3', '85e77519c9793f62fe0f0ecf36fcd45a', 'f0cee352ec6d655fbbafddd18076e7aa', '5910de43f55545b3c0e43b39df75c778', 'ddfa42a446660734d0818d5f054a29df', 'c792cd1c945825dc7fe985d3bd910061', '40e09d10c01ec727471fc508e264431f', '3227ee32479ac93843899cd9fd6faffa', '72879872f7a690360d08c6b4187f8c7c', '0188b0a27a2544b66186f051c478ff42', '01e3f680fbfe08724d493b32c1287abb', '07b84c49514f406d56a150d597a3109f', '47ec5d80ad50a6fe76a8ed4213607ac0', '6c923c0d71c196f974e1a711fc1c990b', 'e8811f8972670ad7e480e86f9f624e4e', 'f1b0550886e3320a37b39535b4fc796f', '6713dc5ab5e4b8aea17d5a641697045f', 'adfbd7df5b8d62817c0646d18838bfe6', '64cd52d181d73c797e437e51ba5de9bd', 'b4baf35bb95b146afdb77b5a4def03e6', 'e205a12dd8c07d930fcf087f77c9c538', 'af3e3a92b10098b4ce307d8630e32151', '32ec4ff35c1a43965d98ca1dba6afcf6', 'a03671cd9a9f7bfde23a74a1b27679d3', 'c350476589e98966be79b54422460fcd', '0b78e7f34bd3763dcf24c999793f8a23', '13267159ff5a8ddb8308604d23311143']\n"
     ]
    },
    {
     "data": {
      "image/png": "[encoded data removed]",
      "text/plain": [
       "<Figure size 640x480 with 1 Axes>"
      ]
     },
     "metadata": {},
     "output_type": "display_data"
    },
    {
     "name": "stdout",
     "output_type": "stream",
     "text": [
      "Accuracy = 89.171974522293%\n"
     ]
    }
   ],
   "source": [
    "import matplotlib.pyplot as plt\n",
    "\n",
    "treshold = 2.5\n",
    "\n",
    "photo_ids = []\n",
    "for photo_id, val in ans.items():\n",
    "    if (\"shoulder-breadth\" in ans[photo_id][\"real_measurements\"]):\n",
    "        photo_ids.append(photo_id)\n",
    "predict_vals = [ans[photo_id][\"real_measurements\"][\"shoulder-breadth\"] for photo_id in photo_ids]\n",
    "actual_val = [ans[photo_id][\"original_measurements\"][\"shoulder_width\"] for photo_id in photo_ids]\n",
    "\n",
    "print(photo_ids)\n",
    "\n",
    "good = 0\n",
    "for a,b in zip(predict_vals, actual_val):\n",
    "    c = abs(a - b)\n",
    "    if (c <= treshold and c >= -treshold):\n",
    "        good += 1\n",
    "accuracy = good / len(photo_ids)\n",
    "\n",
    "plt.scatter(predict_vals, actual_val)\n",
    "line_range = np.linspace(20, 50, 100)\n",
    "plt.plot(line_range, line_range, '--', color='green', label='Perfect prediction')\n",
    "plt.plot(line_range, line_range + 2, '--', color='red', label='+2 threshold')\n",
    "plt.plot(line_range, line_range - 2, '--', color='red', label='-2 threshold')\n",
    "plt.xlim(25, 46)\n",
    "plt.ylim(25, 46)\n",
    "plt.text(32, 47, f'Accuracy = {round(accuracy*100, 2)}%', fontsize=12, bbox=dict(facecolor='white', alpha=0.7))\n",
    "plt.xticks(rotation=90)\n",
    "plt.legend()\n",
    "plt.show()\n",
    "\n",
    "\n",
    "print(f\"Accuracy = {accuracy * 100}%\")"
   ]
  },
  {
   "cell_type": "code",
   "execution_count": 11,
   "metadata": {},
   "outputs": [],
   "source": [
    "import sys\n",
    "sys.path.append('..')\n",
    "from utils import r2_threshold, mae_threshold, rmse_threshold"
   ]
  },
  {
   "cell_type": "code",
   "execution_count": 12,
   "metadata": {},
   "outputs": [
    {
     "data": {
      "text/plain": [
       "(1.4982502938890674, 89.171974522293)"
      ]
     },
     "execution_count": 12,
     "metadata": {},
     "output_type": "execute_result"
    }
   ],
   "source": [
    "rmse_threshold(np.array(predict_vals), np.array(actual_val))"
   ]
  },
  {
   "cell_type": "code",
   "execution_count": 13,
   "metadata": {},
   "outputs": [
    {
     "data": {
      "text/plain": [
       "(1.1657442347337692, 89.171974522293)"
      ]
     },
     "execution_count": 13,
     "metadata": {},
     "output_type": "execute_result"
    }
   ],
   "source": [
    "mae_threshold(np.array(predict_vals), np.array(actual_val))"
   ]
  },
  {
   "cell_type": "code",
   "execution_count": 14,
   "metadata": {},
   "outputs": [],
   "source": [
    "def create_measurements_df(image_folder_path, metadata_folder_path):\n",
    "    \"\"\"\n",
    "    Creates a pandas DataFrame from measurement text files with corresponding image files.\n",
    "    \n",
    "    Parameters:\n",
    "    image_folder_path: str - Path to folder containing image files\n",
    "    metadata_folder_path: str - Path to folder containing measurement text files\n",
    "    \n",
    "    Returns:\n",
    "    pandas DataFrame with measurements data\n",
    "    \"\"\"\n",
    "    # List to store all measurements\n",
    "    all_measurements = []\n",
    "    \n",
    "    # Get all files in the metadata folder\n",
    "    try:\n",
    "        txt_files = [f for f in os.listdir(metadata_folder_path) if f.endswith('.txt')]\n",
    "    except Exception as e:\n",
    "        print(f\"Error reading directory: {e}\")\n",
    "        return pd.DataFrame()\n",
    "\n",
    "    for txt_file in txt_files:\n",
    "        file_path = txt_file\n",
    "        # Get the base filename without extension\n",
    "        object_name = os.path.splitext(txt_file)[0]\n",
    "        \n",
    "        # Initialize measurements dictionary\n",
    "        measurements_dict = {\"file_name\": object_name, \"file_path\": file_path}\n",
    "        \n",
    "        try:\n",
    "            with open(os.path.join(metadata_folder_path, txt_file), 'r') as f:\n",
    "                for line in f:\n",
    "                    line = line.strip()\n",
    "                    if not line:  # Skip empty lines\n",
    "                        continue\n",
    "                        \n",
    "                    try:\n",
    "                        if line.startswith(\"OPTION\"):\n",
    "                            # Handle the OPTION UNITS line\n",
    "                            parts = line.split('=')\n",
    "                            if len(parts) == 2:\n",
    "                                measurements_dict[\"OPTION_UNITS\"] = parts[1].strip()\n",
    "                        elif line.startswith(\"MEASURE\"):\n",
    "                            # Split the measurement line into name and value\n",
    "                            parts = line.split('=')\n",
    "                            if len(parts) == 2:\n",
    "                                measurement_name = parts[0].replace('MEASURE ', '').strip()\n",
    "                                measurement_value = parts[1].strip()\n",
    "                                if \"Error\" not in measurement_value:\n",
    "                                    try:\n",
    "                                        measurements_dict[measurement_name] = float(measurement_value)\n",
    "                                    except ValueError:\n",
    "                                        measurements_dict[measurement_name] = None\n",
    "                                else:\n",
    "                                    measurements_dict[measurement_name] = None\n",
    "                    except Exception as e:\n",
    "                        print(f\"Error processing line in file {txt_file}: {line}\")\n",
    "                        continue\n",
    "            image_exists = any(\n",
    "                os.path.exists(os.path.join(image_folder_path, f\"{object_name}.{ext}\"))\n",
    "                for ext in ['jpg', 'jpeg', 'png', 'bmp']\n",
    "            )\n",
    "            if image_exists:\n",
    "                all_measurements.append(measurements_dict)\n",
    "        except Exception as e:\n",
    "            print(f\"Error processing file {txt_file}: {e}\")\n",
    "            continue\n",
    "    if not all_measurements:\n",
    "        print(\"No valid measurements found\")\n",
    "        return pd.DataFrame()\n",
    "    df = pd.DataFrame(all_measurements)\n",
    "    cols = ['file_name', 'OPTION_UNITS'] + [col for col in df.columns if col not in ['file_name', 'OPTION_UNITS']]\n",
    "    df = df[cols]\n",
    "    \n",
    "    return df"
   ]
  },
  {
   "cell_type": "code",
   "execution_count": null,
   "metadata": {},
   "outputs": [],
   "source": [
    "image_folder = \"../segmentation_testing/test1/2d_models_male\"\n",
    "metadata_folder = \"../segmentation_testing/test1/TC2_Male_Txt\"\n",
    "output_dir = f\"./testing/iter_testing/iter_{str(int(time.time()))}/\""
   ]
  },
  {
   "cell_type": "code",
   "execution_count": 16,
   "metadata": {},
   "outputs": [],
   "source": [
    "df = create_measurements_df(image_folder, metadata_folder)\n",
    "df = df[[\"file_name\", \"file_path\", \"Shoulder_Width_thruTheBody\", \"Head_Top_Height\"]]\n",
    "df.columns = [\"file_name\", \"file_path\", \"shoulder_width\", \"total_height\"]"
   ]
  },
  {
   "cell_type": "code",
   "execution_count": 17,
   "metadata": {},
   "outputs": [],
   "source": [
    "ans = dict()\n",
    "\n",
    "for _, row in df.iterrows():\n",
    "    tmp = model_manager.predict(\n",
    "            processor.process_image(\n",
    "                image_path=f\"{image_folder}/{row['file_name']}.png\", \n",
    "                visualize=False\n",
    "            ), height=row[\"total_height\"])\n",
    "    result = {\n",
    "            \"real_measurements\": tmp,\n",
    "            \"original_measurements\": {\n",
    "                \"shoulder_width\": row[\"shoulder_width\"],\n",
    "                \"total_height\": row[\"total_height\"]\n",
    "            }\n",
    "        }\n",
    "    \n",
    "    os.makedirs(output_dir, exist_ok=True)\n",
    "    output_path = os.path.join(output_dir, f\"{row['file_name']}.json\")\n",
    "    with open(output_path, 'w') as f:\n",
    "        json.dump(result, f, indent=4)\n",
    "    ans[row[\"file_name\"]] = result"
   ]
  },
  {
   "cell_type": "code",
   "execution_count": 31,
   "metadata": {},
   "outputs": [],
   "source": [
    "import os\n",
    "import json\n",
    "import numpy as np\n",
    "\n",
    "data_dir = \"./testing/iter_testing/iter_1733803067/\"\n",
    "ans = {}\n",
    "\n",
    "for filename in os.listdir(data_dir):\n",
    "    if filename.endswith('.json'):\n",
    "        file_path = os.path.join(data_dir, filename)\n",
    "        with open(file_path, 'r') as f:\n",
    "            ans[filename.replace('.json', '')] = json.load(f)"
   ]
  },
  {
   "cell_type": "code",
   "execution_count": 32,
   "metadata": {},
   "outputs": [
    {
     "name": "stdout",
     "output_type": "stream",
     "text": [
      "['male_0136', 'male_0073', 'male_0161', 'male_0024', 'male_0177', 'male_0032', 'male_0120', 'male_0065', 'male_0049', 'male_0008', 'male_0090', 'male_0028', 'male_0086', 'male_0069', 'male_0012', 'male_0157', 'male_0045', 'male_0100', 'male_0053', 'male_0116', 'male_0004', 'male_0141', 'male_0005', 'male_0140', 'male_0052', 'male_0117', 'male_0044', 'male_0101', 'male_0013', 'male_0156', 'male_0087', 'male_0068', 'male_0029', 'male_0091', 'male_0009', 'male_0048', 'male_0121', 'male_0064', 'male_0176', 'male_0033', 'male_0160', 'male_0025', 'male_0137', 'male_0072', 'male_0096', 'male_0079', 'male_0038', 'male_0080', 'male_0014', 'male_0151', 'male_0043', 'male_0106', 'male_0055', 'male_0110', 'male_0002', 'male_0147', 'male_0130', 'male_0075', 'male_0167', 'male_0022', 'male_0171', 'male_0034', 'male_0126', 'male_0063', 'male_0018', 'male_0059', 'male_0058', 'male_0019', 'male_0127', 'male_0062', 'male_0170', 'male_0035', 'male_0166', 'male_0023', 'male_0131', 'male_0074', 'male_0003', 'male_0146', 'male_0054', 'male_0111', 'male_0042', 'male_0107', 'male_0015', 'male_0150', 'male_0081', 'male_0039', 'male_0097', 'male_0078', 'male_0145', 'male_0000', 'male_0112', 'male_0057', 'male_0104', 'male_0041', 'male_0153', 'male_0016', 'male_0128', 'male_0082', 'male_0169', 'male_0094', 'male_0149', 'male_0108', 'male_0061', 'male_0124', 'male_0036', 'male_0173', 'male_0020', 'male_0165', 'male_0077', 'male_0132', 'male_0098', 'male_0076', 'male_0133', 'male_0099', 'male_0021', 'male_0164', 'male_0037', 'male_0172', 'male_0060', 'male_0125', 'male_0109', 'male_0148', 'male_0095', 'male_0168', 'male_0129', 'male_0083', 'male_0152', 'male_0017', 'male_0105', 'male_0040', 'male_0113', 'male_0056', 'male_0144', 'male_0001', 'male_0118', 'male_0159', 'male_0067', 'male_0088', 'male_0122', 'male_0030', 'male_0175', 'male_0026', 'male_0163', 'male_0071', 'male_0134', 'male_0143', 'male_0006', 'male_0114', 'male_0051', 'male_0102', 'male_0047', 'male_0155', 'male_0010', 'male_0084', 'male_0179', 'male_0092', 'male_0138', 'male_0093', 'male_0139', 'male_0178', 'male_0085', 'male_0154', 'male_0011', 'male_0103', 'male_0046', 'male_0115', 'male_0050', 'male_0142', 'male_0007', 'male_0070', 'male_0135', 'male_0027', 'male_0162', 'male_0031', 'male_0066', 'male_0089', 'male_0123', 'male_0158', 'male_0119']\n"
     ]
    },
    {
     "data": {
      "image/png": "[encoded data removed]",
      "text/plain": [
       "<Figure size 640x480 with 1 Axes>"
      ]
     },
     "metadata": {},
     "output_type": "display_data"
    },
    {
     "name": "stdout",
     "output_type": "stream",
     "text": [
      "Accuracy = 77.09497206703911%\n"
     ]
    }
   ],
   "source": [
    "import matplotlib.pyplot as plt\n",
    "\n",
    "treshold = 2.5\n",
    "\n",
    "photo_ids = []\n",
    "for photo_id, val in ans.items():\n",
    "    if (\"shoulder-breadth\" in ans[photo_id][\"real_measurements\"]):\n",
    "        photo_ids.append(photo_id)\n",
    "predict_vals = [ans[photo_id][\"real_measurements\"][\"shoulder-breadth\"] for photo_id in photo_ids]\n",
    "actual_val = [ans[photo_id][\"original_measurements\"][\"shoulder_width\"] for photo_id in photo_ids]\n",
    "\n",
    "print(photo_ids)\n",
    "\n",
    "good = 0\n",
    "for a,b in zip(predict_vals, actual_val):\n",
    "    c = abs(a - b)\n",
    "    if (c <= treshold and c >= -treshold):\n",
    "        good += 1\n",
    "accuracy = good / len(photo_ids)\n",
    "\n",
    "plt.scatter(predict_vals, actual_val)\n",
    "line_range = np.linspace(20, 50, 100)\n",
    "plt.plot(line_range, line_range, '--', color='green', label='Perfect prediction')\n",
    "plt.plot(line_range, line_range + 2, '--', color='red', label='+2 threshold')\n",
    "plt.plot(line_range, line_range - 2, '--', color='red', label='-2 threshold')\n",
    "plt.xlim(25, 46)\n",
    "plt.ylim(25, 46)\n",
    "plt.text(32, 47, f'Accuracy = {round(accuracy*100, 2)}%', fontsize=12, bbox=dict(facecolor='white', alpha=0.7))\n",
    "plt.xticks(rotation=90)\n",
    "plt.legend()\n",
    "plt.show()\n",
    "\n",
    "\n",
    "print(f\"Accuracy = {accuracy * 100}%\")"
   ]
  },
  {
   "cell_type": "code",
   "execution_count": null,
   "metadata": {},
   "outputs": [],
   "source": [
    "import sys\n",
    "sys.path.append('..')\n",
    "from utils import mae_threshold, rmse_threshold"
   ]
  },
  {
   "cell_type": "code",
   "execution_count": 21,
   "metadata": {},
   "outputs": [
    {
     "data": {
      "text/plain": [
       "(2.1816975906740694, 75.97765363128491)"
      ]
     },
     "execution_count": 21,
     "metadata": {},
     "output_type": "execute_result"
    }
   ],
   "source": [
    "rmse_threshold(np.array(predict_vals), np.array(actual_val))"
   ]
  },
  {
   "cell_type": "code",
   "execution_count": 22,
   "metadata": {},
   "outputs": [
    {
     "data": {
      "text/plain": [
       "(1.685275480077299, 75.97765363128491)"
      ]
     },
     "execution_count": 22,
     "metadata": {},
     "output_type": "execute_result"
    }
   ],
   "source": [
    "mae_threshold(np.array(predict_vals), np.array(actual_val))"
   ]
  },
  {
   "cell_type": "code",
   "execution_count": null,
   "metadata": {},
   "outputs": [],
   "source": []
  }
 ],
 "metadata": {
  "kernelspec": {
   "display_name": "tshirt-size",
   "language": "python",
   "name": "python3"
  },
  "language_info": {
   "codemirror_mode": {
    "name": "ipython",
    "version": 3
   },
   "file_extension": ".py",
   "mimetype": "text/x-python",
   "name": "python",
   "nbconvert_exporter": "python",
   "pygments_lexer": "ipython3",
   "version": "3.9.20"
  }
 },
 "nbformat": 4,
 "nbformat_minor": 2
}
